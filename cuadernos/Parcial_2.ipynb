{
 "cells": [
  {
   "cell_type": "markdown",
   "metadata": {},
   "source": [
    "# Curso de Estadística Bayesiana"
   ]
  },
  {
   "cell_type": "markdown",
   "metadata": {},
   "source": [
    "## Examen 2\n",
    "\n",
    "Junio 7 de 2020."
   ]
  },
  {
   "cell_type": "markdown",
   "metadata": {},
   "source": [
    "## Profesor\n",
    "\n",
    "Alvaro Mauricio Montenegro Díaz, ammontenegrod@unal.edu.co"
   ]
  },
  {
   "cell_type": "markdown",
   "metadata": {},
   "source": [
    "## Referencias\n",
    "\n",
    "1. Alvaro Montenegro, [Curso de Estadística Bayesiana](https://github.com/AprendizajeProfundo/Estadistica-Bayesiana), 2020\n",
    "2. De Paula Gilberto, [\"MODELOS DE REGRESSÃO com apoio computacional, ](https://www.ime.usp.br/~giapaula/texto_2013.pdf), Instituto de Matemática e Estatística  Universidade de São  Paulo\n",
    "3.  [\"Stan User's Guide. Version 2.22\", Stan Development Team, 2020.](https://mc-stan.org/users/documentation/)\n",
    "4. Kumar, Ravin and Carroll, Colin and Hartikainen, Ari and Martin, Osvaldo A., [ArviZ a unified library for exploratory analysis of Bayesian models in Python](https://arviz-devs.github.io/arviz/), [The Journal of Open Source Software], 2019.\n",
    "5. Richard McElreath, [\"Statistical Rethinking, A Bayesian Course with examples in R and Stan\"](http://xcelab.net/rmpubs/rethinking/Statistical_Rethinking_sample.pdf), version compilada en noviembre 9 de 2015.\n",
    "6. [Regresión Beta](http://r-statistics.co/Beta-Regression-With-R.html)\n"
   ]
  },
  {
   "cell_type": "markdown",
   "metadata": {},
   "source": [
    "# Introducción "
   ]
  },
  {
   "cell_type": "markdown",
   "metadata": {},
   "source": [
    "   \n",
    "Bienvenidas y bienvenidos  al segundo parcial. Recuerden que este parcial es para aprender principalmente y para consolidar sus conocimientos.\n",
    "\n",
    "Pueden trabajar en grupo, máximo dos personas. Preparen su informe en un cuaderno de Jupyter Lab. Sus códigos debe escribirlos en Pystan y Python.\n",
    "Suba la  solución de su examen antes de la media noche (12.00 de la noche) del día 14 de junio de 2020 a las 11.59. Favor subir el enlace al archivo excel en el drive, y por seguridad enviarlo a las siguientes direcciones:  ammontenegrod@unal.edu.co, ammontenegrod@gmail.com, con permiso para para lectura.\n",
    "\n",
    "Puede modificar el archivo cuantas veces desee, luego de esa fecha. Sin embargo a partir de esa fecha el profesor queda en libertad de revisar y emitir una calificación preliminar."
   ]
  },
  {
   "cell_type": "markdown",
   "metadata": {},
   "source": [
    "# Revisión de Conceptos (20%)\n",
    "\n",
    "Haga una breve disertación en sus propias palabras de los siguientes conceptos:\n",
    "\n",
    "1. Distribución predictiva.\n",
    "2. p-valor Bayesiano.\n",
    "3. Factor de Bayes.\n",
    "4. Criterios de información para comparación de modelos\n",
    "5. Promedio de modelos\n",
    "\n",
    "Puede apoyarse en la bibliografía propuesta."
   ]
  },
  {
   "cell_type": "markdown",
   "metadata": {},
   "source": [
    "# Modelo de Regresión Beta (40%)"
   ]
  },
  {
   "cell_type": "markdown",
   "metadata": {},
   "source": [
    "Considere los datos **GasolineYield** de la librería *betareg* de R. Los datos corresponden a la proporción de petróleo crudo convertido en gasolina después de la destilación y fraccionamiento.\n",
    "\n",
    "Como guía revise el sitio [Regresión Beta](http://r-statistics.co/Beta-Regression-With-R.html)\n",
    "\n",
    "1. Haga un análisis  exploratorio completo de los datos.\n",
    "2. Separe los datos en dos grupos: entrenamiento y validación.\n",
    "2. Proponga el(los) modelo(s) de regresión (Beta) que considere convenientes para el problema\n",
    "3. Haga los análisis preliminar de los resultados usando los datos de entrenamiento.\n",
    "4. Utilize los datos de validación para hacer uan revisión del poder predictivo del modelo. Calcule residuales, p-valores (por observación y global). En todos los casos se la distribución predictiva.\n",
    "5. Proponga un modelo alternativo. Por ejmplo haciendo regresión sobre el parámetro de forma (adicionalmente). \n",
    "6. Compare los resultados d elos dos modelos mediante los criterios DIC y WAIC.\n",
    "7. Escriba sus conclusiones."
   ]
  },
  {
   "cell_type": "markdown",
   "metadata": {},
   "source": [
    "# Modelo regresión lineal (40%)"
   ]
  },
  {
   "cell_type": "markdown",
   "metadata": {},
   "source": [
    "Para este ejercicio usaremos los datos de stackloss revisados en el curso.\n",
    "\n",
    "1. Haga un análisis exploratorio  completo de los datos.\n",
    "2. Separe los datos en dos grupos: entrenamiento y validación.\n",
    "2. Implemente los modelos de regresión normal, t-student y Laplace trabajados en el curso.\n",
    "4. Utilize validación cruzada para hacer una revisión del poder predictivo del modelo. Calcule residuales, p-valores (por observación y global). En todos los casos se la distribución predictiva.\n",
    "5. Retire los valores outliers detectados, según su criterio y corra de nuevo los modelos.\n",
    "6. Compare los resultados de los dos modelos mediante los criterios DIC y WAIC.\n",
    "7. Recalcule los parámetros del modelo usando el promedio d elos modelos que encuentre factibles.\n",
    "8. Escriba sus conclusiones."
   ]
  },
  {
   "cell_type": "markdown",
   "metadata": {},
   "source": [
    "Que se diviertan mucho!!!!"
   ]
  }
 ],
 "metadata": {
  "kernelspec": {
   "display_name": "Python 3",
   "language": "python",
   "name": "python3"
  },
  "language_info": {
   "codemirror_mode": {
    "name": "ipython",
    "version": 3
   },
   "file_extension": ".py",
   "mimetype": "text/x-python",
   "name": "python",
   "nbconvert_exporter": "python",
   "pygments_lexer": "ipython3",
   "version": "3.7.5"
  }
 },
 "nbformat": 4,
 "nbformat_minor": 4
}
