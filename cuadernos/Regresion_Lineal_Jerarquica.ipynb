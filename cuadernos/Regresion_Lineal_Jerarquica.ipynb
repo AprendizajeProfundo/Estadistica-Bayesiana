{
 "cells": [
  {
   "cell_type": "markdown",
   "metadata": {},
   "source": [
    "# Curso de Estadística Bayesiana\n"
   ]
  },
  {
   "cell_type": "markdown",
   "metadata": {},
   "source": [
    "# Regresión Lineal Jerárquica"
   ]
  },
  {
   "cell_type": "markdown",
   "metadata": {},
   "source": [
    "## Autor\n",
    "\n",
    "1. Alvaro Mauricio Montenegro Díaz, ammontenegrod@unal.edu.co\n",
    "2. Daniel Mauricio Montenegro Reyes, dextronomo@gmail.com \n",
    "\n",
    "\n",
    "\n"
   ]
  },
  {
   "cell_type": "markdown",
   "metadata": {},
   "source": [
    "## Fork"
   ]
  },
  {
   "cell_type": "markdown",
   "metadata": {},
   "source": [
    "## Referencias"
   ]
  },
  {
   "cell_type": "markdown",
   "metadata": {},
   "source": [
    "# Introducción \n",
    "\n",
    " \n",
    "Introducimos los modelos lineales jerárquicos y su implementación en Stan.\n",
    "\n",
    "Tener múltiples conjuntos de mediciones relacionadas surge todo el tiempo. En psicología matemática, por ejemplo, se evalúa múltiples habilidades en la realización de  misma tarea. Po ejemplo, la resolución de un problema matemático, puede implicar habilidades de artimética, manipulación de símbolos, comprensión de lectura, etc. \n",
    "\n",
    "\n",
    "Entonces, queremos estimar un modelo computacional / matemático que describa las habilidades del estudiante en la resolución de la tarea mediante un conjunto de parámetros.\n",
    "\n",
    "Por lo tanto, podríamos ajustar un modelo a cada habilidad individualmente, suponiendo que no compartan similitudes; o agrupar todos los datos y calcular un modelo asumiendo que todos las habilidades son una sola, digamos habilidad matemática.\n",
    "\n",
    "El modelamiento jerárquico permite lo mejor de ambos mundos al permitir  modelar las similitudes de los sujetos, pero también permitiendo la estimación de parámetros individuales.\n",
    "\n",
    "En este cuaderno,  utilizaremos un ejemplo más clásico de regresión lineal jerárquica para predecir los niveles de radón en las casas.\n"
   ]
  },
  {
   "cell_type": "markdown",
   "metadata": {},
   "source": [
    "## Los datos\n",
    "\n",
    "El conjunto de datos de radón de Gelman et al. (2007) es un clásico para el modelado jerárquico. En este conjunto de datos  corresponden a la cantidad de radón, un gas radiactivo que se ha medido en diferentes hogares en todos los condados de varios estados de los Estados Unidos.\n",
    "\n",
    "Se sabe que el gas radón es la mayor causa de cáncer de pulmón en los no fumadores. Se cree que el gas está más presente en los hogares que contienen un sótano y difiere en la cantidad presente entre los tipos de suelo. \n",
    "\n",
    "Aquí investigaremos estas diferencias e intentaremos hacer predicciones de los niveles de radón en diferentes condados en función del condado y la presencia de un sótano en el hogar. En este ejemplo, analizaremos Minnesota, un estado que contiene 85 condados en los que se toma un número diferente de medidas, que van de 2 a 116 mediciones por condado."
   ]
  },
  {
   "cell_type": "code",
   "execution_count": null,
   "metadata": {},
   "outputs": [],
   "source": [
    "# importa librerías requeridas\n",
    "\n",
    "%matplotlib inline\n",
    "import matplotlib.pyplot as plt\n",
    "import numpy as np\n",
    "import pandas as pd\n",
    "\n"
   ]
  },
  {
   "cell_type": "code",
   "execution_count": null,
   "metadata": {},
   "outputs": [],
   "source": [
    "# read data from a local file\n",
    "\n",
    "data = pd.read_csv('./datos/radon.csv')\n",
    "county_names = data.county.unique()\n",
    "county_idx = data.county_code.values\n",
    "n_counties = len(data.county.unique())\n",
    "n_counties"
   ]
  },
  {
   "cell_type": "code",
   "execution_count": null,
   "metadata": {},
   "outputs": [],
   "source": [
    "data.head()"
   ]
  },
  {
   "cell_type": "markdown",
   "metadata": {},
   "source": [
    "The relevant part of the data we will model looks as follows:"
   ]
  },
  {
   "cell_type": "code",
   "execution_count": null,
   "metadata": {},
   "outputs": [],
   "source": [
    "data[['county', 'log_radon', 'floor']].head()"
   ]
  },
  {
   "cell_type": "markdown",
   "metadata": {},
   "source": [
    "Como se  puede ver, tenemos múltiples mediciones de radón (convertidas para estar en la línea real), una fila para cada casa, en un condado y si la casa tiene un sótano (floor == 0) o no (floor == 1). Nos interesa saber si tener un sótano aumenta el radón medido en la casa."
   ]
  },
  {
   "cell_type": "markdown",
   "metadata": {},
   "source": [
    "## Los Modelos"
   ]
  },
  {
   "cell_type": "markdown",
   "metadata": {},
   "source": [
    "### Agrupación de las mediciones (complete pooling)\n",
    "\n",
    "\n",
    "Se tratan todos los condados de la misma forma. Se estima un único nivel de radon.\n",
    "\n",
    "Matemáticamente, ese modelo sería:\n",
    "\n",
    "$$\n",
    "y_{i} = \\alpha + \\beta * x_{i} + \\epsilon\n",
    "$$\n",
    "\n",
    "Donde $y_i$ representa la  $i$-ésima   medida en toda Minnesota. $x_{i}$ es una variable dicotómica que indica  si la casa tiene un sótano (1) o no (0), respectivamente. Con este modelo, solo estamos estimando un intercepto y una pendiente para todas las mediciones con todos los condados agrupados. El siguiente grafixco ilustra el modelo. En el gráfico ($\\theta $ represent a $ (\\alpha, \\beta) $ en nuestro caso y $y_i$ son las mediciones en el $i$-ésimo condado)."
   ]
  },
  {
   "cell_type": "markdown",
   "metadata": {},
   "source": [
    "<figure>\n",
    "<center>\n",
    "<img src=\"./imagenes/No_jerarquical_model_1.png\" width=\"350\" height=\"300\" align=\"center\"/>\n",
    "</center>\n",
    "<figcaption>\n",
    "<p style=\"text-align:center\">Modelo no jerárquico</p>\n",
    "</figcaption>\n",
    "</figure>\n"
   ]
  },
  {
   "cell_type": "markdown",
   "metadata": {},
   "source": [
    "Para especificar este  modelo en Stan, empezamos por cosntruir el bloque data, el cual incluye vectores de mediciones de *log-radon* ($y$) y la medida de si se tiene sótano ($x$). También incluimos el número de datos, $N=919$.\n"
   ]
  },
  {
   "cell_type": "code",
   "execution_count": null,
   "metadata": {},
   "outputs": [],
   "source": [
    "pooled_data = \"\"\"\n",
    "data {\n",
    "  int<lower=0> N; \n",
    "  vector[N] x;\n",
    "  vector[N] y;\n",
    "}\n",
    "\"\"\""
   ]
  },
  {
   "cell_type": "markdown",
   "metadata": {},
   "source": [
    "Ahora declaramos los parámetros. Observe que *sigma* es postivo"
   ]
  },
  {
   "cell_type": "code",
   "execution_count": null,
   "metadata": {},
   "outputs": [],
   "source": [
    "pooled_parameters = \"\"\"\n",
    "parameters {\n",
    "  real alpha;\n",
    "  real beta;\n",
    "  real<lower=0> sigma;\n",
    "} \n",
    "\"\"\""
   ]
  },
  {
   "cell_type": "markdown",
   "metadata": {},
   "source": [
    "Y definimos el modelo. Asumimos a prioris normalñes para $\\alpha, \\beta$ y normal truncada para $\\sigma$. La verosimilitud de cada observación se asume normal."
   ]
  },
  {
   "cell_type": "code",
   "execution_count": null,
   "metadata": {},
   "outputs": [],
   "source": [
    "pooled_model = \"\"\"\n",
    "model {\n",
    "  alpha ~ normal(0,10);\n",
    "  beta ~ normal(0,10);\n",
    "  sigma ~ normal(0,10);\n",
    "  y ~ normal(alpha + beta * x, sigma);\n",
    "}\n",
    "\"\"\""
   ]
  },
  {
   "cell_type": "code",
   "execution_count": null,
   "metadata": {},
   "outputs": [],
   "source": [
    "pooled_model_code = pooled_data + pooled_parameters + pooled_model\n",
    "print(pooled_model_code)"
   ]
  },
  {
   "cell_type": "code",
   "execution_count": null,
   "metadata": {},
   "outputs": [],
   "source": [
    "log_radon = data.log_radon.values\n",
    "floor_measure = data.floor.values\n",
    "\n",
    "pooled_data_dict = {'N': len(log_radon),\n",
    "               'x': floor_measure,\n",
    "               'y': log_radon}"
   ]
  },
  {
   "cell_type": "code",
   "execution_count": null,
   "metadata": {},
   "outputs": [],
   "source": [
    "# import stan\n",
    "import pystan"
   ]
  },
  {
   "cell_type": "code",
   "execution_count": null,
   "metadata": {},
   "outputs": [],
   "source": [
    "# compile the  model\n",
    "pooled_fit = pystan.StanModel(model_code=pooled_model_code)"
   ]
  },
  {
   "cell_type": "code",
   "execution_count": null,
   "metadata": {},
   "outputs": [],
   "source": [
    "# sample\n",
    "pooled_sample = pooled_fit.sampling (data=pooled_data_dict, iter=1000, chains=4,warmup=500,thin=1)"
   ]
  },
  {
   "cell_type": "code",
   "execution_count": null,
   "metadata": {},
   "outputs": [],
   "source": [
    "alpha_0 = pooled_sample.extract(permuted=True)['alpha'].mean(0)\n",
    "beta_0 = pooled_sample.extract(permuted=True)['beta'].mean(0)"
   ]
  },
  {
   "cell_type": "code",
   "execution_count": null,
   "metadata": {},
   "outputs": [],
   "source": [
    "#### Un Primer gráfico del modelo  estimado"
   ]
  },
  {
   "cell_type": "code",
   "execution_count": null,
   "metadata": {},
   "outputs": [],
   "source": [
    "plt.scatter(data.floor, data.log_radon)\n",
    "xvals = np.linspace(-0.2, 1.2)\n",
    "plt.plot(xvals, beta_0*xvals+alpha_0, 'r--')"
   ]
  },
  {
   "cell_type": "markdown",
   "metadata": {},
   "source": [
    "### Mediciones no agrupadas\n",
    "\n",
    "Pero, ¿qué sucede si nos interesa saber si cada  condado realmente tienen diferente comportamiento. Es decir, si cada condado es modelado de manera independiente?\n",
    "\n",
    "relaciones (pendiente) y diferentes tasas base de radón (intercepto)? \n",
    "\n",
    "Luego, podría decir \"OK, entonces, simplemente estimaré $n$ (número de condados) diferentes regresiones, una para cada condado\". Matemáticamente, ese modelo sería:\n",
    "\n",
    "$$\n",
    "radon_{i,c} = \\alpha_c + \\beta_c ∗ floor_{i,c} + \\epsilon_c\n",
    "$$\n",
    "\n",
    "Tenga en cuenta que agregamos el subíndice $c$, por lo que estamos estimando $n$ $\\alpha$'s y $\\beta$s diferentes, una para cada condado.\n",
    "\n"
   ]
  },
  {
   "cell_type": "markdown",
   "metadata": {},
   "source": [
    "<figure>\n",
    "<center>\n",
    "<img src=\"./imagenes/jerarquical_model_1.png\" width=\"400\" height=\"300\" align=\"center\"/>\n",
    "</center>\n",
    "<figcaption>\n",
    "<p style=\"text-align:center\">Modelo jerárquico</p>\n",
    "</figcaption>\n",
    "</figure>"
   ]
  },
  {
   "cell_type": "markdown",
   "metadata": {},
   "source": [
    "Este es el modelo en el extremo opuesto; donde arriba supusimos que todos los condados son exactamente iguales, aquí estamos diciendo que no comparten similitudes en absoluto. Como mostramos a continuación, este tipo de modelo puede ser muy ruidoso cuando tenemos pocos datos por condado, como es el caso en este conjunto de datos.\n",
    "\n",
    "Vamos a construir este modelo."
   ]
  },
  {
   "cell_type": "code",
   "execution_count": null,
   "metadata": {},
   "outputs": [],
   "source": [
    "unpooled_model_code = \"\"\"\n",
    "data {\n",
    "  int<lower=0> N; \n",
    "  int<lower=0> N_counties;\n",
    "  int<lower=1,upper=N_counties> county[N];\n",
    "  vector[N] x;\n",
    "  vector[N] y;\n",
    "} \n",
    "\n",
    "parameters {\n",
    "  vector[N] alpha;\n",
    "  vector[N] beta;\n",
    "  real<lower=0> sigma;\n",
    "} \n",
    "\n",
    "transformed parameters {\n",
    "  vector[N] y_hat;\n",
    "\n",
    "  for (i in 1:N)\n",
    "    y_hat[i] =  alpha[county[i]] + beta[county[i]] * x[i] ;\n",
    "}\n",
    "\n",
    "model {\n",
    "  alpha ~ normal(0,10);\n",
    "  beta  ~ normal(0,10);\n",
    "  sigma ~ cauchy(0,10);\n",
    "  y ~ normal(y_hat, sigma);\n",
    "}\"\"\"\n"
   ]
  },
  {
   "cell_type": "code",
   "execution_count": null,
   "metadata": {},
   "outputs": [],
   "source": [
    "print(unpooled_model_code)"
   ]
  },
  {
   "cell_type": "code",
   "execution_count": null,
   "metadata": {},
   "outputs": [],
   "source": [
    "unpooled_data = {'N': len(log_radon),\n",
    "                 'N_counties': n_counties,\n",
    "               'county': county_idx+1, # Stan counts starting at 1\n",
    "               'x': floor_measure,\n",
    "               'y': log_radon}"
   ]
  },
  {
   "cell_type": "code",
   "execution_count": null,
   "metadata": {},
   "outputs": [],
   "source": [
    "import pystan\n",
    "\n",
    "# compile the  model\n",
    "unpooled_fit = pystan.StanModel(model_code=unpooled_model_code)\n"
   ]
  },
  {
   "cell_type": "code",
   "execution_count": null,
   "metadata": {},
   "outputs": [],
   "source": [
    "# sample\n",
    "unpooled_sample = unpooled_fit.sampling (data=unpooled_data, iter=1000, chains=4,warmup=500,thin=1)"
   ]
  },
  {
   "cell_type": "code",
   "execution_count": null,
   "metadata": {},
   "outputs": [],
   "source": [
    "#unpooled_estimates = pd.Series(unpooled_fit['a'].mean(0), index=mn_counties)\n",
    "#unpooled_se = pd.Series(unpooled_fit['a'].std(0), index=mn_counties)\n",
    "\n",
    "#alpha_0 = unpooled_sample.extract(permuted=True)['alpha'].mean(0)\n",
    "#beta_0 = pooled_sample.extract(permuted=True)['beta'].mean(0)"
   ]
  },
  {
   "cell_type": "code",
   "execution_count": null,
   "metadata": {},
   "outputs": [],
   "source": [
    "\n",
    "order = unpooled_estimates.sort_values().index\n",
    "\n",
    "plt.scatter(range(len(unpooled_estimates)), unpooled_estimates[order])\n",
    "for i, m, se in zip(range(len(unpooled_estimates)), unpooled_estimates[order], unpooled_se[order]):\n",
    "    plt.plot([i,i], [m-se, m+se], 'b-')\n",
    "plt.xlim(-1,86); plt.ylim(-1,4)\n",
    "plt.ylabel('Radon estimate');plt.xlabel('Ordered county');"
   ]
  },
  {
   "cell_type": "markdown",
   "metadata": {},
   "source": [
    "### Regresión Jerárquica\n",
    "\n",
    "Afortunadamente, hay un punto medio para ambos extremos. Específicamente, podemos suponer que si bien $\\alpha$'s y $\\beta$s son diferentes, una para cada condado como en el caso no agrupado, todos los coeficientes comparten similitud. Podemos modelar esto asumiendo que cada coeficiente individual proviene de una distribución grupal común:\n",
    "\n",
    "$$\n",
    "\\begin{align}\n",
    "\\alpha_c &\\sim \\mathcal{N}(\\mu_{\\alpha},\\sigma^2_{\\alpha})\\\\\n",
    "\\beta_c &\\sim \\mathcal{N}(\\mu_{\\beta},\\sigma^2_{\\beta})\n",
    "\\end{align}\n",
    "$$\n",
    "\n",
    "\n",
    "Por lo tanto, suponemos que los interceptos $\\alpha$ y las pendientes $\\beta$ provienen de una distribución normal centrada alrededor de su respectiva media de grupo $\\mu$ con una cierta desviación estándar $\\sigma^2$, cuyos valores (o más bien posteriores) de los cuales también estimamos. Es por eso que esto se llama un modelado multinivel, jerárquico o de agrupación parcial.\n"
   ]
  },
  {
   "cell_type": "markdown",
   "metadata": {},
   "source": [
    "<figure>\n",
    "<center>\n",
    "<img src=\"./imagenes/full_jerarquical_model_1.png\" width=\"400\" height=\"300\" align=\"center\"/>\n",
    "</center>\n",
    "<figcaption>\n",
    "<p style=\"text-align:center\">Modelo jerárquico completo</p>\n",
    "</figcaption>\n",
    "</figure>"
   ]
  },
  {
   "cell_type": "markdown",
   "metadata": {},
   "source": [
    "<h2>Modelo Jerárquico</h2>\n",
    "\n",
    "En lugar de crear modelos por separado, el modelo jerárquico crea parámetros de grupo que consideran que los condados no son completamente diferentes sino que tienen una similitud subyacente. Estas distribuciones se utilizan posteriormente para influir en la distribución de $\\alpha$ y $\\beta$ de cada condado.\n"
   ]
  },
  {
   "cell_type": "code",
   "execution_count": null,
   "metadata": {
    "jupyter": {
     "source_hidden": true
    }
   },
   "outputs": [],
   "source": [
    "with pm.Model() as hierarchical_model:\n",
    "    # Hyperpriors for group nodes\n",
    "    mu_a = pm.Normal('mu_a', mu=0., sigma=100)\n",
    "    sigma_a = pm.HalfNormal('sigma_a', 5.)\n",
    "    mu_b = pm.Normal('mu_b', mu=0., sigma=100)\n",
    "    sigma_b = pm.HalfNormal('sigma_b', 5.)\n",
    "\n",
    "    # Intercept for each county, distributed around group mean mu_a\n",
    "    # Above we just set mu and sd to a fixed value while here we\n",
    "    # plug in a common group distribution for all a and b (which are\n",
    "    # vectors of length n_counties).\n",
    "    a = pm.Normal('a', mu=mu_a, sigma=sigma_a, shape=n_counties)\n",
    "    # Intercept for each county, distributed around group mean mu_a\n",
    "    b = pm.Normal('b', mu=mu_b, sigma=sigma_b, shape=n_counties)\n",
    "\n",
    "    # Model error\n",
    "    eps = pm.HalfCauchy('eps', 5.)\n",
    "\n",
    "    radon_est = a[county_idx] + b[county_idx]*data.floor.values\n",
    "\n",
    "    # Data likelihood\n",
    "    radon_like = pm.Normal('radon_like', mu=radon_est,\n",
    "                           sigma=eps, observed=data.log_radon)"
   ]
  },
  {
   "cell_type": "code",
   "execution_count": null,
   "metadata": {},
   "outputs": [],
   "source": [
    "varying_intercept_slope_model = \"\"\"\n",
    "data {\n",
    "  int<lower=0> N;\n",
    "  int<lower=0> J;\n",
    "  vector[N] y;\n",
    "  vector[N] x;\n",
    "  int county[N];\n",
    "}\n",
    "\n",
    "parameters {\n",
    "  real<lower=0> sigma;\n",
    "  real<lower=0> sigma_a;\n",
    "  real<lower=0> sigma_b;\n",
    "  vector[J] a;\n",
    "  vector[J] b;\n",
    "  real mu_a;\n",
    "  real mu_b;\n",
    "}\n",
    "\n",
    "model {\n",
    "  mu_a ~ normal(0, 100);\n",
    "  mu_b ~ normal(0, 100);\n",
    "\n",
    "  a ~ normal(mu_a, sigma_a);\n",
    "  b ~ normal(mu_b, sigma_b);\n",
    "  y ~ normal(a[county] + b[county].*x, sigma);\n",
    "}\n",
    "\"\"\""
   ]
  },
  {
   "cell_type": "code",
   "execution_count": null,
   "metadata": {},
   "outputs": [],
   "source": [
    "unpooled_data = {'N': len(log_radon),\n",
    "                 'N_counties': n_counties,\n",
    "               'county': county_idx+1, # Stan counts starting at 1\n",
    "               'x': floor_measure,\n",
    "               'y': log_radon}"
   ]
  },
  {
   "cell_type": "code",
   "execution_count": null,
   "metadata": {},
   "outputs": [],
   "source": [
    "intercept_slope_data = {'N': len(log_radon),\n",
    "                          'J': n_counties,\n",
    "                          'county': county_idx+1, # Stan counts starting at 1\n",
    "                          'x': floor_measure,\n",
    "                          'y': log_radon}\n"
   ]
  },
  {
   "cell_type": "code",
   "execution_count": null,
   "metadata": {},
   "outputs": [],
   "source": [
    "import pystan\n",
    "\n",
    "# compile the  model\n",
    "intercept_slope_model_fit = pystan.StanModel(model_code=varying_intercept_slope_model)\n"
   ]
  },
  {
   "cell_type": "code",
   "execution_count": null,
   "metadata": {},
   "outputs": [],
   "source": [
    "# sample\n",
    "intercept_slope_model_sample = intercept_slope_model_fit.sampling (data=intercept_slope_data, iter=2000, chains=4,warmup=500,thin=1)"
   ]
  },
  {
   "cell_type": "code",
   "execution_count": null,
   "metadata": {},
   "outputs": [],
   "source": [
    "xvals = np.arange(2)\n",
    "b = intercept_slope_model_sample['a'].mean(axis=0)\n",
    "m = intercept_slope_model_sample['b'].mean(axis=0)\n",
    "for bi,mi in zip(b,m):\n",
    "    plt.plot(xvals, mi*xvals + bi, 'bo-', alpha=0.4)\n",
    "plt.xlim(-0.1, 1.1);"
   ]
  },
  {
   "cell_type": "code",
   "execution_count": null,
   "metadata": {},
   "outputs": [],
   "source": [
    "intercept_slope_model_sample"
   ]
  },
  {
   "cell_type": "code",
   "execution_count": null,
   "metadata": {},
   "outputs": [],
   "source": []
  }
 ],
 "metadata": {
  "kernelspec": {
   "display_name": "Python 3",
   "language": "python",
   "name": "python3"
  },
  "language_info": {
   "codemirror_mode": {
    "name": "ipython",
    "version": 3
   },
   "file_extension": ".py",
   "mimetype": "text/x-python",
   "name": "python",
   "nbconvert_exporter": "python",
   "pygments_lexer": "ipython3",
   "version": "3.7.5"
  }
 },
 "nbformat": 4,
 "nbformat_minor": 4
}
