{
 "cells": [
  {
   "cell_type": "markdown",
   "metadata": {},
   "source": [
    "# Curso de Estadística Bayesiana\n"
   ]
  },
  {
   "cell_type": "markdown",
   "metadata": {},
   "source": [
    "#  Regresión Robusta\n",
    "\n",
    "En este cuaderno veremos como utilizar un comando mágico para poder tener celdas completas con código STAN."
   ]
  },
  {
   "cell_type": "markdown",
   "metadata": {},
   "source": [
    "## Autor\n",
    "\n",
    "1. Alvaro Mauricio Montenegro Díaz, ammontenegrod@unal.edu.co\n",
    "2. Daniel Mauricio Montenegro Reyes, dextronomo@gmail.com "
   ]
  },
  {
   "cell_type": "markdown",
   "metadata": {},
   "source": [
    "## Referencias\n",
    "\n",
    "1. Basado en <url>https://jrnold.github.io/bayesian_notes/</url>"
   ]
  },
  {
   "cell_type": "markdown",
   "metadata": {},
   "source": [
    "#  Distribuciones de cola pesada\n",
    "\n",
    "\n",
    "La regresión lineal Bayesiana con errores distribuidos normalmente es sensible a los valores atípicos. Esto se debe a que la distribución normal tiene probabilidades de cola estrechas, con aproximadamente el 99.8% de la probabilidad dentro de tres desviaciones estándar.\n",
    "\n",
    "La regresión robusta se refiere a métodos de regresión que son menos sensibles a los valores atípicos. La regresión robusta Bayesiana usa distribuciones con colas más pesadas que las normales.\n",
    "\n",
    "La sigiuente gráfica mustra las funciones de densidad de probabilidad (pdf)  de las distribuciones normal, doble exponencial (Laplace) y Student-t $ (df = 4) $ todas con media 0 y escala 1,\n",
    "\n",
    "\n"
   ]
  },
  {
   "cell_type": "code",
   "execution_count": null,
   "metadata": {},
   "outputs": [],
   "source": [
    "import matplotlib.pyplot as plt\n",
    "import numpy as np\n",
    "from scipy.stats import norm\n",
    "from scipy.stats import t\n",
    "from scipy.stats import laplace\n",
    "#\n",
    "fig, ax = plt.subplots(1, 1,figsize=(12, 8))\n",
    "plt.title('Funciones de densidad',fontsize=14)\n",
    "\n",
    "x = np.linspace(-6,6,300)\n",
    "#\n",
    "y_laplace = laplace.pdf(x)\n",
    "ax.plot(x, y_laplace, 'g-', lw=2, alpha=0.6, label='laplace pdf')\n",
    "#\n",
    "y_norm = norm.pdf(x)\n",
    "ax.plot(x, y_norm, 'r-', lw=2, alpha=0.6, label='norm pdf')\n",
    "#\n",
    "y_student_t = t.pdf(x, df=10)\n",
    "ax.plot(x, y_student_t, 'b-', lw=2, alpha=0.6, label='student-t pdf')\n",
    "\n",
    "#\n",
    "plt.xlabel('$x$',fontsize=14)\n",
    "plt.ylabel('$pdf(x) ',fontsize=14)\n",
    "plt.legend()\n",
    "plt.show()"
   ]
  },
  {
   "cell_type": "markdown",
   "metadata": {},
   "source": [
    "La siguiente gráfica muestra las funciones de información (diferencial), definida por $-\\log pdf(x)$. Esta muestra el **grado de sorpresa** de observar el valor en cada punto.\n",
    "\n",
    "\n",
    "Tanto la distribución de Student como la doble exponencial tienen valores sorpresa muy por debajo de lo normal en los rangos (-6, 6). Esto significa que los valores atípicos tendrán menos efecto en el log-posterior de los modelos que usan estas distribuciones. La línea de regresión necesitaría moverse menos para incorporar esas observaciones, ya que la distribución del error no las considerará inusuales."
   ]
  },
  {
   "cell_type": "code",
   "execution_count": null,
   "metadata": {},
   "outputs": [],
   "source": [
    "import matplotlib.pyplot as plt\n",
    "import numpy as np\n",
    "from scipy.stats import norm\n",
    "from scipy.stats import t\n",
    "from scipy.stats import laplace\n",
    "#\n",
    "fig, ax = plt.subplots(1, 1,figsize=(12, 8))\n",
    "plt.title('Funciones de información',fontsize=14)\n",
    "\n",
    "x = np.linspace(-6,6,300)\n",
    "#\n",
    "y_laplace = -np.log(laplace.pdf(x))\n",
    "ax.plot(x, y_laplace, 'g-', lw=2, alpha=0.6, label='laplace pdf')\n",
    "#\n",
    "y_norm = -np.log(norm.pdf(x))\n",
    "ax.plot(x, y_norm, 'r-', lw=2, alpha=0.6, label='norm pdf')\n",
    "#\n",
    "y_student_t = -np.log(t.pdf(x, df=10))\n",
    "ax.plot(x, y_student_t, 'b-', lw=2, alpha=0.6, label='student-t pdf')\n",
    "\n",
    "#\n",
    "plt.xlabel('$x$',fontsize=14)\n",
    "plt.ylabel('$I(x) = -\\log \\ f(x)$',fontsize=14)\n",
    "plt.legend()\n",
    "plt.show()"
   ]
  },
  {
   "cell_type": "markdown",
   "metadata": {},
   "source": [
    "# Distribución t-Student\n",
    "\n",
    "\n",
    "El modelo Bayesiano más utilizado para la regresión robusta es una regresión lineal con errores  independientes Student-$t$ (Geweke 1993; A. Gelman, Carlin, et al. 2013, Ch. 17)\n",
    "    \n",
    "    \n",
    "$$\n",
    "y_i \\sim t\\text{-Student}\\left(\\nu, \\mu_i, \\sigma \\right)\n",
    "$$\n",
    "    \n",
    "$ \\nu \\in  \\mathcal{R}^{+} $ es un parámetro de grados de libertad, $ \\mu_i \\in \\mathcal{R} $ son ubicaciones específicas de observación a menudo modeladas con una regresión, y $ \\sigma \\in \\mathcal{R} ^ {+} $ es un parámetro de escala. La fdp de la distribución $ t $-Student  está dado por\n",
    "    \n",
    "$$\n",
    "t\\text{-Student} \\left(x; \\nu, \\mu, \\sigma \\right) = K \\left(1 + \\frac {1}{\\nu} \\left(\\frac {x- \\mu}{\\sigma} \\right)^2 \\right)^{- \\frac{\\nu + 1} {2}},\n",
    "$$\n",
    "\n",
    "donde $ K $ es una constante de normalización.\n",
    "\n",
    "    \n",
    "Tenga en cuenta que cuando $ \\nu \\to \\infty $, este modelo se aproxima a un modelo normal independiente, ya que la distribución de $ t $-Student se aproxima asintóticamente a la distribución normal a medida que aumentan los grados de libertad. Para el valor de $ \\nu $, se puede usar un bajo grado de libertad, digamos $ \\nu \\in (4, 6) $, o se le puede asignar una distribución previa.\n",
    "\n",
    "\n",
    "\n",
    "Para la distribución de $t$-Student, la existencia de varios momentos depende del valor de $ \\nu $: la media existe para $ \\nu \\ge 1 $ varianza para $ \\nu \\ge 2 $, y la curtosis para $ \\nu \\ge 3 $.\n",
    "\n",
    "Como tal, a menudo es útil restringir el soporte de $ \\nu $ a al menos 1 o 2 (o incluso más) para garantizar la existencia de una media o variación.\n",
    "\n",
    "Una distribución previa razonable para el parámetro de grados de libertad es un Gamma\n",
    "distribución con el parámetro de forma 2 y un parámetro de escala inversa (velocidad) de 0.1 (Juárez and Steel 2010, @Stan-prior-choices), $\\nu \\sim Gamma(2, 10)$."
   ]
  },
  {
   "cell_type": "code",
   "execution_count": null,
   "metadata": {},
   "outputs": [],
   "source": [
    "# gráficos de la distribución Gamma\n",
    "import matplotlib.pyplot as plt\n",
    "import numpy as np\n",
    "from scipy.stats import gamma\n",
    "\n",
    "\n",
    "x = np.linspace(0,50,50)             \n",
    "fig, ax = plt.subplots(1, 1, figsize=(12,8))\n",
    "alpha = 2\n",
    "beta  = 10\n",
    "y = gamma.pdf(x, alpha, loc=0, scale=beta)\n",
    "ax.set_ylim(0,0.04)\n",
    "ax.plot(x,y)\n",
    "ax.plot(0, 0, label=\"$\\\\alpha$ = {:3.2f}\\n$\\\\beta$ = {:3.2f}\".format(alpha, beta), alpha=0)\n",
    "ax.legend(fontsize=12)\n",
    "ax.set_xlabel('$\\\\nu$', fontsize=14)\n",
    "ax.set_ylabel('$pdf(x)$', fontsize=14)\n",
    "fig.suptitle('Función de densidad de la distribución Gamma(2,10)',fontsize=16)\n",
    "plt.show()\n",
    "    "
   ]
  },
  {
   "cell_type": "markdown",
   "metadata": {},
   "source": [
    "Esta densidad coloca la mayoría de la masa anterior para valores $\\nu \\le 50$, en los que la distribución de $t$-Student es sustancialmente diferente de la distribución Normal, y también permite que existan todos los momentos anteriores."
   ]
  },
  {
   "cell_type": "markdown",
   "metadata": {},
   "source": [
    "# Datos\n",
    "\n",
    "Algunos autores han debatido si la política y la economía de la izquierda han tenido un impacto sostenido en el crecimiento económico de las democracias capitalistas relativamente ricas desde 1973. Los datos se refieren al crecimiento de algunos países entre 1978 y 1982. El autor afirma que el crecimiento acelerado se debe ambos: los sindicatos eran organizacionalmente fuertes y los partidos de izquierda eran fuertes participantes en los gobiernos.\n"
   ]
  },
  {
   "cell_type": "code",
   "execution_count": null,
   "metadata": {},
   "outputs": [],
   "source": [
    "import pandas as pd\n",
    "import numpy as np\n",
    "path = \"./datos/\"\n",
    "econ_growth = pd.read_csv(path +\"econ_growth.csv\")"
   ]
  },
  {
   "cell_type": "code",
   "execution_count": null,
   "metadata": {},
   "outputs": [],
   "source": [
    "econ_growth.head()"
   ]
  },
  {
   "cell_type": "code",
   "execution_count": null,
   "metadata": {},
   "outputs": [],
   "source": [
    "econ_growth.describe().T"
   ]
  },
  {
   "cell_type": "code",
   "execution_count": null,
   "metadata": {},
   "outputs": [],
   "source": [
    "# add a new column to the data frame. cross effect labor_org*social_dem\n",
    "econ_growth['labor_soc_dem'] = econ_growth.labor_org * econ_growth.social_dem\n",
    "econ_growth.head()"
   ]
  },
  {
   "cell_type": "code",
   "execution_count": null,
   "metadata": {},
   "outputs": [],
   "source": [
    "# normalizing the columns of data\n",
    "# install sklearn\n",
    "# pip install sklearn\n",
    "from sklearn.preprocessing import StandardScaler as SS\n",
    "\n",
    "econ_growth['growth_ss'] = SS().fit_transform(econ_growth[['econ_growth']])\n",
    "econ_growth['labor_ss'] = SS().fit_transform(econ_growth[['labor_org']])\n",
    "econ_growth['soc_dem_ss'] = SS().fit_transform(econ_growth[['social_dem']])\n",
    "econ_growth['labor_soc_dem_ss'] = SS().fit_transform(econ_growth[['labor_soc_dem']])\n",
    "econ_growth.head()"
   ]
  },
  {
   "cell_type": "markdown",
   "metadata": {},
   "source": [
    "## Instalando el comando mágico de pystan\n",
    "\n",
    "Este comando permite escribir código Stan directamente en una celda. Lo primero que hay que hace es  instalar el comando. En la siguiente código se muestra una forma de hacer la instalación.\n",
    "\n",
    "Para detalles vea el sitio [stan-magic]( https://github.com/Arvinds-ds/stanmagic/blob/master/StanMagic-Help.ipynb)"
   ]
  },
  {
   "cell_type": "raw",
   "metadata": {},
   "source": [
    "## magic stan\n",
    "# installing \n",
    "# require to have installed git\n",
    "# pip install git+https://github.com/Arvinds-ds/stanmagic.git\n",
    "# eventually, for compiler options of python you may need to install \n",
    "# conda install libpython\n",
    "# https://github.com/Arvinds-ds/stanmagic/blob/master/StanMagic-Help.ipynb"
   ]
  },
  {
   "cell_type": "code",
   "execution_count": null,
   "metadata": {},
   "outputs": [],
   "source": [
    "import pystan\n",
    "%load_ext stanmagic"
   ]
  },
  {
   "cell_type": "code",
   "execution_count": null,
   "metadata": {},
   "outputs": [],
   "source": [
    "%%stan -f Robust_reg.stan\n",
    "// Linear Model with Student-t Errors\n",
    "data {\n",
    "  // number of observations\n",
    "  int N;\n",
    "  // response\n",
    "  vector[N] y;\n",
    "  // number of columns in the design matrix X\n",
    "  int K;\n",
    "  // design matrix X\n",
    "  // should not include an intercept\n",
    "  matrix [N, K] X;\n",
    "  // priors on alpha\n",
    "  real scale_alpha;\n",
    "  vector[K] scale_beta;\n",
    "  real loc_sigma;\n",
    "  // keep responses\n",
    "  int use_y_rep;\n",
    "  int use_log_lik;\n",
    "}\n",
    "parameters {\n",
    "  // regression coefficient vector\n",
    "  real alpha;\n",
    "  vector[K] beta;\n",
    "  real sigma;\n",
    "  // degrees of freedom;\n",
    "  // limit df = 2 so that there is a finite variance\n",
    "  real nu;\n",
    "}\n",
    "transformed parameters {\n",
    "  vector[N] mu;\n",
    "\n",
    "  mu = alpha + X * beta;\n",
    "}\n",
    "model {\n",
    "  // priors\n",
    "  alpha ~ normal(0.0, scale_alpha);\n",
    "  beta ~ normal(0.0, scale_beta);\n",
    "  sigma ~ exponential(loc_sigma);\n",
    "  // see Stan prior distribution suggestions\n",
    "  nu ~ gamma(2, 0.1);\n",
    "  // likelihood\n",
    "  y ~ student_t(nu, mu, sigma);\n",
    "}\n",
    "generated quantities {\n",
    "  // simulate data from the posterior\n",
    "  vector[N * use_y_rep] y_rep;\n",
    "  // log-likelihood posterior\n",
    "  vector[N * use_log_lik] log_lik;\n",
    "  for (i in 1:num_elements(y_rep)) {\n",
    "    y_rep[i] = student_t_rng(nu, mu[i], sigma);\n",
    "  }\n",
    "  for (i in 1:num_elements(log_lik)) {\n",
    "    log_lik[i] = student_t_lpdf(y[i] | nu, mu[i], sigma);\n",
    "  }\n",
    "}"
   ]
  },
  {
   "cell_type": "code",
   "execution_count": null,
   "metadata": {},
   "outputs": [],
   "source": [
    "_stan_model"
   ]
  },
  {
   "cell_type": "code",
   "execution_count": null,
   "metadata": {},
   "outputs": [],
   "source": [
    "from collections import OrderedDict\n",
    "#data = OrderedDict({'X':X, 'y': y, 'N':N, 'K': K})\n",
    "\n",
    "import numpy as np\n",
    "#X= np.array(econ_growth[['labor_ss', 'soc_dem_ss','labor_soc_dem_ss']])\n",
    "#y= np.array(econ_growth[['growth_ss']])\n",
    "data = OrderedDict({'N':15, 'K':3, 'scale_alpha': 10, 'scale_beta': [2.5, 2.5, 2.5], \n",
    "                    'loc_sigma':  1, 'use_y_rep': 1, 'use_log_lik': 1, 'd': 4,\n",
    "                    'X':np.array(econ_growth[['labor_ss', 'soc_dem_ss','labor_soc_dem_ss']]), \n",
    "                    'y': np.reshape(np.array(econ_growth[['growth_ss']]),15,0)})\n"
   ]
  },
  {
   "cell_type": "code",
   "execution_count": null,
   "metadata": {},
   "outputs": [],
   "source": [
    "econ_growth"
   ]
  },
  {
   "cell_type": "code",
   "execution_count": null,
   "metadata": {},
   "outputs": [],
   "source": [
    "data"
   ]
  },
  {
   "cell_type": "code",
   "execution_count": null,
   "metadata": {},
   "outputs": [],
   "source": [
    "robust_reg_model = pystan.StanModel(file=_stan_model.model_file)"
   ]
  },
  {
   "cell_type": "code",
   "execution_count": null,
   "metadata": {},
   "outputs": [],
   "source": [
    "robust_reg_sample = robust_reg_model.sampling(data=data)"
   ]
  },
  {
   "cell_type": "code",
   "execution_count": null,
   "metadata": {},
   "outputs": [],
   "source": [
    "robust_reg_sample"
   ]
  },
  {
   "cell_type": "code",
   "execution_count": null,
   "metadata": {},
   "outputs": [],
   "source": []
  }
 ],
 "metadata": {
  "kernelspec": {
   "display_name": "Python 3",
   "language": "python",
   "name": "python3"
  },
  "language_info": {
   "codemirror_mode": {
    "name": "ipython",
    "version": 3
   },
   "file_extension": ".py",
   "mimetype": "text/x-python",
   "name": "python",
   "nbconvert_exporter": "python",
   "pygments_lexer": "ipython3",
   "version": "3.7.5"
  }
 },
 "nbformat": 4,
 "nbformat_minor": 4
}
