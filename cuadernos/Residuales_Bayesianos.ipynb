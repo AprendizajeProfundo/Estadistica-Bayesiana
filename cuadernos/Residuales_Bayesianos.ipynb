{
 "cells": [
  {
   "cell_type": "markdown",
   "metadata": {},
   "source": [
    "# Curso de Estadística Bayesiana\n"
   ]
  },
  {
   "cell_type": "markdown",
   "metadata": {},
   "source": [
    "# Evaluacion de Modelos Bayesianos: Residuales"
   ]
  },
  {
   "cell_type": "markdown",
   "metadata": {},
   "source": [
    "## Autores"
   ]
  },
  {
   "cell_type": "markdown",
   "metadata": {},
   "source": [
    "1. Alvaro Mauricio Montenegro Díaz, ammontenegrod@unal.edu.co"
   ]
  },
  {
   "cell_type": "markdown",
   "metadata": {},
   "source": [
    "## Referencias\n",
    "\n",
    "1. Alvaro Montenegro, [Curso de Estadística Bayesiana](https://github.com/AprendizajeProfundo/Estadistica-Bayesiana), 2020\n",
    "2. De Paula Gilberto, [\"MODELOS DE REGRESSÃO com apoio computacional, ](https://www.ime.usp.br/~giapaula/texto_2013.pdf), Instituto de Matemática e Estatística  Universidade de São  Paulo\n",
    "3.  [\"Stan User's Guide. Version 2.22\", Stan Development Team, 2020.](https://mc-stan.org/users/documentation/)\n",
    "4. Kumar, Ravin and Carroll, Colin and Hartikainen, Ari and Martin, Osvaldo A., [ArviZ a unified library for exploratory analysis of Bayesian models in Python](https://arviz-devs.github.io/arviz/), [The Journal of Open Source Software], 2019.\n",
    "5. Richard McElreath, [\"Statistical Rethinking, A Bayesian Course with examples in R and Stan\"](http://xcelab.net/rmpubs/rethinking/Statistical_Rethinking_sample.pdf), version compilada en noviembre 9 de 2015.\n"
   ]
  },
  {
   "cell_type": "markdown",
   "metadata": {},
   "source": [
    "# Introduccción\n"
   ]
  },
  {
   "cell_type": "markdown",
   "metadata": {},
   "source": [
    "En esta lección introducimos la primera herramienta para la evaluación de los modelos. Como seguramente ya sabe, en la estadística Bayesiana siempre trabajamos con distribuciones posteriores.\n",
    "\n",
    "En la estadística clásica se define un residual como sigue. Si $y_i$ es una observación, con media $\\mu_i$, entonces el residual, que denotaremos por $r_i$ se define por\n",
    "\n",
    "$$\n",
    "r_i = (y_i-\\hat{\\mu}_i),\n",
    "$$\n",
    "\n",
    "en donde $\\hat{\\mu}_i$ es una estimación de  $\\mu_i$.\n",
    "\n",
    "El problema con esta medida es que depende de la escala de la observación, por lo que si $\\sigma_i^2$ es la varianza de $y_i$ entonces el residual estandarizado es dado por\n",
    "\n",
    "$$\n",
    "re_i = \\frac{(y_i-\\hat{\\mu}_i)}{\\hat{\\sigma}_i},\n",
    "$$\n",
    "\n",
    "en donde $\\hat{\\sigma}_i$ es la estimación de $\\sigma_i^2$ .\n",
    "\n",
    "El residual de pearson es definido por \n",
    "\n",
    "\n",
    "$$\n",
    "rp_i = \\frac{(y_i-\\hat{\\mu}_i)^2}{\\hat{\\sigma}_i^2},\n",
    "$$\n",
    "el cual es siempre positivo.\n",
    "\n",
    "\n"
   ]
  },
  {
   "cell_type": "markdown",
   "metadata": {},
   "source": [
    "## Nota"
   ]
  },
  {
   "cell_type": "markdown",
   "metadata": {},
   "source": [
    "Dado que $E[y_i]=\\hat{\\mu}_i$, es frecuente denotar usar la notación $\\tilde{y}_i$ en lugar de  $\\hat{\\mu}_i$.Es comun llamar $\\tilde{y}_i$ como el valor ajustado por el modelo para $y_i$.\n",
    "\n",
    "En los siguientes ejemplos vamos a suponer que las estimaciones son máximo-verosímil, aunque tecnicamente no es realmente necesario."
   ]
  },
  {
   "cell_type": "markdown",
   "metadata": {},
   "source": [
    "## Ejemplo 1. Modelo de regresión lineal Gaussiano "
   ]
  },
  {
   "cell_type": "markdown",
   "metadata": {},
   "source": [
    "En este casos el modelo estadístico es definido por\n",
    "\n",
    "$$\n",
    "\\begin{align}\n",
    "E[y_i] &= \\mu_i =  \\alpha +  \\mathbf{x_i}^T\\mathbf{\\beta} \\\\\n",
    "\\log \\sigma_i &= \\eta +\\mathbf{z_i}^T\\mathbf{\\nu} \\\\\n",
    "y_i &\\sim \\mathcal{N}(\\mu_i,\\sigma_i^2)\n",
    "\\end{align}\n",
    "$$\n",
    "con $i =1,\\ldots,n$. \n",
    "\n",
    "El parámetro del problema es $\\mathbf{\\theta} = (\\alpha,\\eta, \\mathbf{\\beta}^T,\\mathbf{\\nu}^T)^T$. \n",
    "\n",
    "Entonces, si $\\hat{\\mathbf{\\theta}} = (\\hat{\\alpha},\\hat{\\eta}, \\hat{\\mathbf{\\beta}}^T,\\hat{\\mathbf{\\nu}}^T)^T$, se tiene que\n",
    "\n",
    "$$\n",
    "\\begin{align}\n",
    "\\hat{\\mu}_i &=  \\hat{\\alpha} +  \\mathbf{x_i}^T\\hat{\\mathbf{\\beta}} \\\\\n",
    "\\hat{\\sigma}_i &=  \\hat{\\eta} +  \\mathbf{z_i}^T\\hat{\\mathbf{\\nu}} \\\\ \n",
    "\\end{align}\n",
    "$$\n",
    "\n",
    "En el caso homocedástico, se tiene que $\\sigma_i^2 = \\sigma^2$."
   ]
  },
  {
   "cell_type": "markdown",
   "metadata": {},
   "source": [
    "## Ejemplo 2. Modelo regresión Binomial"
   ]
  },
  {
   "cell_type": "markdown",
   "metadata": {},
   "source": [
    "La función *inv_logit* es definida por $\\text{inv_logit}(x) = (1+ \\exp (-x))^{-1}$. Esta es la función de distribuición acumulada logística.\n",
    "\n",
    "El modelo Binomial de regresión se define por\n",
    "\n",
    "\n",
    "$$\n",
    "\\begin{align}\n",
    "E[y_i] &= \\mu_i= N_i\\pi_i\\\\\n",
    "\\pi_i &=  \\text{inv_logit}(\\alpha +  \\mathbf{x_i}^T\\mathbf{\\beta}) \\\\\n",
    "y_i &\\sim \\text{Binomial}(N_i,\\pi_i)\n",
    "\\end{align}\n",
    "$$\n",
    "con $i =1,\\ldots,n$. Los valores $N_i$ se asumen conocidos. En este caso se tiene que $Var[y_i] = N_i\\pi_i(1-\\pi)$, por lo que $\\sigma_i =\\sqrt{N_i\\pi_i(1-\\pi)} $. \n",
    "\n",
    "Si $\\hat{\\alpha}$ y $\\hat{\\mathbf{\\beta}}$ son las respectivas estimaciones, entonces se tiene que\n",
    "\n",
    "$$\n",
    "\\begin{align}\n",
    "\\hat{\\pi}_i &=  \\hat{\\alpha} +  \\mathbf{x_i}^T\\hat{\\mathbf{\\beta}} \\\\\n",
    "\\hat{\\mu}_i &= N_i \\hat{\\pi}_i \\\\\n",
    "\\hat{\\sigma}_i &=  \\sqrt{N_i\\hat{\\pi}(1-\\hat{\\pi})} \\\\ \n",
    "\\end{align}\n",
    "$$\n",
    "\n",
    "\n"
   ]
  },
  {
   "cell_type": "markdown",
   "metadata": {},
   "source": [
    "## Ejemplo 3. Modelo de regresión Poisson"
   ]
  },
  {
   "cell_type": "markdown",
   "metadata": {},
   "source": [
    "El modelo Poisson de regresión se define por\n",
    "\n",
    "\n",
    "$$\n",
    "\\begin{align}\n",
    "E[y_i] &= \\mu_i\\\\\n",
    "\\ln \\mu_i&=  \\alpha +  \\mathbf{x_i}^T\\mathbf{\\beta}\\\\\n",
    "y_i &\\sim \\text{Poisson}(\\mu_i)\n",
    "\\end{align}\n",
    "$$\n",
    "con $i =1,\\ldots,n$.\n",
    "\n",
    "Si $\\hat{\\alpha}$ y $\\hat{\\mathbf{\\beta}}$ son las respectivas estimaciones, entonces se tiene que\n",
    "\n",
    "\n",
    "$$\n",
    "\\begin{align}\n",
    "\\ln \\hat{\\mu}_i &=  \\hat{\\alpha} +  \\mathbf{x_i}^T\\hat{\\mathbf{\\beta}} \\\\\n",
    "\\hat{\\sigma}_i &=  \\sqrt{\\hat{\\mu}_i}\\\\ \n",
    "\\end{align}\n",
    "$$\n"
   ]
  },
  {
   "cell_type": "markdown",
   "metadata": {},
   "source": [
    "## Ejemplo 4. Modelo de regresión Beta"
   ]
  },
  {
   "cell_type": "markdown",
   "metadata": {},
   "source": [
    "Asumiremos que las observaciones son $y_i \\sim \\text{Beta}(a_i,b_i)$. \n",
    "\n",
    "Como hemos hecho antes usaremos la reparametrización\n",
    "\n",
    "$$\n",
    "\\begin{align}\n",
    "\\mu_i &= \\frac{a_i}{a_i+b_i}\\\\\n",
    "\\phi_i &= a_i+b_i\n",
    "\\end{align}\n",
    "$$\n",
    "\n",
    "Observe que \n",
    "\n",
    "$$\n",
    "\\begin{align}\n",
    "a_i &= \\mu_i \\phi_i\\\\\n",
    "b_i &= \\phi_i(1-\\mu_i)\\\\\n",
    "\\sigma_i &= \\sqrt{\\frac{a_ib_i}{(a_i+b_i +1)(a_i+b_i)^2} } = \\sqrt{\\frac{\\mu_i(1-\\mu_i)}{1+\\phi_i}}\n",
    "\\end{align}\n",
    "$$\n",
    "\n",
    "\n",
    "Con esta parametrización es posible ahora definir el modelo de regresión Beta como\n",
    "\n",
    "$$\n",
    "\\begin{align}\n",
    "E[y_i] &= \\mu_i\\\\\n",
    " \\mu_i&=  \\text{inv_logit}(\\alpha +  \\mathbf{x_i}^T\\mathbf{\\beta})\\\\\n",
    "\\ln \\phi_i & = \\eta +  \\mathbf{x_i}^T\\mathbf{\\nu}\\\\\n",
    "y_i &\\sim \\text{Beta}(\\mu_i\\phi_i,(1-\\mu_i)\\phi_i)\n",
    "\\end{align}\n",
    "$$\n",
    "\n",
    "Entonces, si $\\hat{\\mathbf{\\theta}} = (\\hat{\\alpha},\\hat{\\eta}, \\hat{\\mathbf{\\beta}}^T,\\hat{\\mathbf{\\nu}}^T)^T$, se tiene que\n",
    "\n",
    "$$\n",
    "\\begin{align}\n",
    "\\hat{\\mu}_i &= \\text{inv_logit} (\\hat{\\alpha} +  \\mathbf{x_i}^T\\hat{\\mathbf{\\beta}})\\\\\n",
    "\\ln\\hat{\\sigma}_i &=  \\hat{\\eta} +  \\mathbf{z_i}^T\\hat{\\mathbf{\\nu}} \\\\ \n",
    "\\end{align}\n",
    "$$\n"
   ]
  },
  {
   "cell_type": "markdown",
   "metadata": {},
   "source": [
    "## Ejemplo 5: Modelo de regresión Gama"
   ]
  },
  {
   "cell_type": "markdown",
   "metadata": {},
   "source": [
    "A partir de la parametrización $\\text{Gama}(a,b)$, en donde la función de densidad $f(y)$es dada por\n",
    "\n",
    "$$\n",
    "\\text{Gama}(y|a,b) = \\frac{b^{a}}{\\Gamma(a)}{y^{a-1}\\exp(-b y)}\n",
    "$$\n",
    "\n",
    "introducimos la reparametrización \n",
    "\n",
    "$$\n",
    "\\begin{align}\n",
    "a &= \\phi\\mu^2\\\\\n",
    "b &= \\phi\\mu,\n",
    "\\end{align}\n",
    "$$\n",
    "\n",
    "con lo cual se tiene que la esperanza y la varianza de la distribución son dadas por $\\mu$ y $1/\\phi$ respectivamente.\n",
    "\n",
    "Entonces el modelo de regresión Gama se define así:\n",
    "\n",
    "$$\n",
    "\\begin{align}\n",
    "E[y_i] &= \\mu_i\\\\\n",
    "\\ln \\mu_i&=  \\alpha +  \\mathbf{x_i}^T\\mathbf{\\beta}\\\\\n",
    "\\ln \\phi_i & = \\eta +  \\mathbf{x_i}^T\\mathbf{\\nu}\\\\\n",
    "y_i &\\sim \\text{Gama}(\\mu_i^2\\phi_i,\\mu_i\\phi_i)\n",
    "\\end{align}\n",
    "$$\n",
    "\n",
    "Entonces, si $\\hat{\\mathbf{\\theta}} = (\\hat{\\alpha},\\hat{\\eta}, \\hat{\\mathbf{\\beta}}^T,\\hat{\\mathbf{\\nu}}^T)^T$, se tiene que\n",
    "\n",
    "$$\n",
    "\\begin{align}\n",
    "\\ln\\hat{\\mu}_i &= \\hat{\\alpha} +  \\mathbf{x_i}^T\\hat{\\mathbf{\\beta}}\\\\\n",
    "\\ln\\hat{\\phi}_i &=  \\hat{\\eta} +  \\mathbf{z_i}^T\\hat{\\mathbf{\\nu}} \\\\ \n",
    "\\hat{\\sigma}_i  &= \\sqrt{\\tfrac{1}{\\hat{\\phi}_i}}\n",
    "\\end{align}\n",
    "$$"
   ]
  },
  {
   "cell_type": "markdown",
   "metadata": {},
   "source": [
    "# Residuales Bayesianos estandarizados"
   ]
  },
  {
   "cell_type": "markdown",
   "metadata": {},
   "source": [
    "En el caso Bayesiano, se considera siempre la distribución asociada ala cantidad de interes. En este caso los residuales. Esto es bastante ventajoso, por que al no ser una cantidad única como en ela caso clásico, es posible evaluar de una mejor manera el modelo a partir de los residuales del modelo.\n",
    "\n",
    "Para la práctica, el procedimiento para obtener la distribución de residuales es como sigue. Supongamos que $\\mu_i^{(k)}$ y $\\sigma_i^{(k)}$ son los funcionales asociados a la muestra en el paso $k$.\n",
    "\n",
    "Por ejemplo, consideresmos el modelo de regresión Gama. Supongamos que $\\alpha^{(k)}$, $\\eta^{(k)}$, $\\mathbf{\\beta}^{(k)} y $\\mathbf{\\nu}^{(k)} son las muestras de los parámetros del problema en le paso $k$ del muestreados Bayesiano. Entonces se tiene que \n",
    "\n",
    "\n",
    "$$\n",
    "\\begin{align}\n",
    "{\\mu}_i^{(k)} &= \\exp(\\alpha^{(k)} +  \\mathbf{x_i}^T\\mathbf{\\beta}^{(k)})\\\\\n",
    "{\\sigma}_i^{(k)}  &= \\sqrt{\\exp(-(\\eta^{(k)} +  \\mathbf{x_i}^T\\mathbf{\\nu}^{(k)}))}\n",
    "\\end{align}\n",
    "$$\n",
    "\n",
    "y el residual estandarizado en el paso $k$ del muestreador es entonces\n",
    "\n",
    "$$\n",
    "r_i^{(k)} = \\frac{y_i -{\\mu}_i^{(k)}}{{\\sigma}_i^{(k)}}\n",
    "$$"
   ]
  },
  {
   "cell_type": "markdown",
   "metadata": {},
   "source": [
    "## Ejemplo 1. Modelo de regresión Bernoulli: Modelo Logístico.\n",
    "\n",
    "Este es el caso particular del modelo de regresión Binomial en donde $N_i=1$, en todas las observaciones.\n",
    "\n",
    "En este caso se tiene que \n",
    "\n",
    "\n",
    "\n",
    "$$\n",
    "\\begin{align}\n",
    "E[y_i] &= \\mu_i= \\pi_i\\\\\n",
    "\\pi_i &=  \\text{inv_logit}(\\alpha +  \\mathbf{x_i}^T\\mathbf{\\beta}) \\\\\n",
    "y_i &\\sim \\text{Bernulli}(\\pi_i)\n",
    "\\end{align}\n",
    "$$\n",
    "con $i =1,\\ldots,n$. \n",
    "\n",
    "Si $\\hat{\\alpha}$ y $\\hat{\\mathbf{\\beta}}$ son las respectivas estimaciones, entonces se tiene que\n",
    "\n",
    "$$\n",
    "\\begin{align}\n",
    "\\hat{\\pi}_i &=  \\text{inv_logit}(\\hat{\\alpha} +  \\mathbf{x_i}^T\\hat{\\mathbf{\\beta}}) \\\\\n",
    "\\hat{\\mu}_i &= \\hat{\\pi}_i \\\\\n",
    "\\hat{\\sigma}_i &=  \\sqrt{\\hat{\\pi}(1-\\hat{\\pi})} \\\\ \n",
    "\\end{align}\n",
    "$$\n",
    "\n",
    "Para ilustrar el cálculo y uso de los residuales consideramos el problema del Parcial 1.\n",
    "\n",
    "\n",
    "La tabla 2 muestra  los datos experimentales sobre la influencia de la razón y del volúmen del aire aspirado en la constricción vascular de la piel de los dedos de la mano, de un experimento reportado por Predigon. \n",
    "\n",
    "\n",
    "\n",
    "La respuesta es dicotómica: ocurrencia (1), y no ocurrecia (0). Se asume para cada observación $Y_i \\sim \\text{Bernoulli}(\\pi_i)$. El modelo lineal logistico es definido por\n",
    "\n",
    "\n"
   ]
  },
  {
   "cell_type": "markdown",
   "metadata": {},
   "source": [
    " ### Datos\n",
    " \n",
    "      y   vol   razón\n",
    "      1  3.70    0.825\n",
    "      1  3.50    1.090\n",
    "      1  1.25    2.500\n",
    "      1  0.75    1.500\n",
    "      1  0.80    3.200\n",
    "      1  0.70    3.500\n",
    "      0  0.60    0.750\n",
    "      0  1.10    1.700\n",
    "      0  0.90    0.750\n",
    "      0  0.90    0.450\n",
    "      0  0.80    0.570\n",
    "      0  0.55    2.750\n",
    "      0  0.60    3.000\n",
    "      1  1.40    2.330\n",
    "      1  0.75    3.750\n",
    "      1  2.30    1.640\n",
    "      1  3.20    1.600\n",
    "      1  0.85    1.415\n",
    "      0  1.70    1.060\n",
    "      1  1.80    1.800\n",
    "      0  0.40    2.000\n",
    "      0  0.95    1.360\n",
    "      0  1.35    1.350\n",
    "      0  1.50    1.360\n",
    "      1  1.60    1.780\n",
    "      0  0.60    1.500\n",
    "      1  1.80    1.500\n",
    "      0  0.95    1.900\n",
    "      1  1.90    0.950\n",
    "      0  1.60    0.400\n",
    "      1  2.70    0.750\n",
    "      0  2.35    0.030\n",
    "      0  1.10    1.830\n",
    "      1  1.10    2.200\n",
    "      1  1.20    2.000\n",
    "      1  0.80    3.330\n",
    "      0  0.95    1.900\n",
    "      0  0.75    1.900\n",
    "      1  1.30    1.625\n",
    "\n",
    "*Tabla 2. datos sobre influencia de la razón y del volúmen del aire aspirado en la constricción vascular de la piel de los dedos de la mano*"
   ]
  },
  {
   "cell_type": "markdown",
   "metadata": {},
   "source": [
    "### Estimación y residuales con Stan"
   ]
  },
  {
   "cell_type": "code",
   "execution_count": null,
   "metadata": {},
   "outputs": [],
   "source": [
    "# Cargue librerias necesarias\n",
    "%matplotlib inline\n",
    "import matplotlib.pyplot as plt\n",
    "import numpy as np\n",
    "import pandas as pd\n",
    "import pystan"
   ]
  },
  {
   "cell_type": "code",
   "execution_count": null,
   "metadata": {},
   "outputs": [],
   "source": [
    "path ='./datos/'\n",
    "file ='pregibon.dat'\n",
    "pregibon = pd.read_csv(path+file, sep='\\s+',header=None)\n",
    "pregibon.columns = ['Y','Volume','Razon']\n",
    "pregibon.head()"
   ]
  },
  {
   "cell_type": "code",
   "execution_count": null,
   "metadata": {},
   "outputs": [],
   "source": [
    "# data dictionary\n",
    "datLogit = {'N':pregibon.shape[0], 'K':3,'Y':np.array(pregibon['Y']),\n",
    "          'volume': np.array(pregibon['Volume']), \n",
    "          'razon': np.array(pregibon['Razon'])}"
   ]
  },
  {
   "cell_type": "code",
   "execution_count": null,
   "metadata": {},
   "outputs": [],
   "source": [
    "#stan\n",
    "import pystan\n",
    "%load_ext stanmagic"
   ]
  },
  {
   "cell_type": "code",
   "execution_count": null,
   "metadata": {},
   "outputs": [],
   "source": [
    "%%stan -f logit_reg_p1.stan\n",
    "// Modelo de regresion Bernoulli  (modelo logistico)\n",
    "\n",
    "data{\n",
    " // number of observations\n",
    " int<lower=1> N;\n",
    " // dim regression parameter\n",
    " int<lower=1> K;\n",
    " // Observations\n",
    " int<lower=0> Y[N];\n",
    " // volume\n",
    " vector<lower=0>[N] volume;   \n",
    "  // razon\n",
    " vector<lower=0>[N] razon;     \n",
    " }\n",
    "\n",
    "transformed data{\n",
    "vector[N] log_vol;\n",
    "vector[N] log_razon;   \n",
    "//\n",
    "log_vol = log(volume);\n",
    "log_razon = log(razon);\n",
    "}\n",
    "\n",
    "parameters{\n",
    " vector[K]  beta;\n",
    "}\n",
    "\n",
    "model{\n",
    "// priors\n",
    "beta ~ normal(0,10);\n",
    "// likelihood   \n",
    "for (i in 1:N){\n",
    "   Y[i] ~ bernoulli_logit(beta[1] + beta[2]*log_vol[i] + beta[3]*log_razon[i]);\n",
    "}\n",
    "}\n",
    "\n",
    "\n",
    "generated quantities{\n",
    "  vector[N] residual;\n",
    "  vector[N] prob; \n",
    "  for (i in 1:N){\n",
    "      prob[i] = inv_logit(beta[1] + beta[2]*log_vol[i] + beta[3]*log_razon[i]);\n",
    "      residual[i] = (Y[i]-prob[i])/sqrt(prob[i]*(1-prob[i]));\n",
    "      }\n",
    "}"
   ]
  },
  {
   "cell_type": "code",
   "execution_count": null,
   "metadata": {},
   "outputs": [],
   "source": [
    "Observe que los residuales son calculados en la sección generated quantities"
   ]
  },
  {
   "cell_type": "code",
   "execution_count": null,
   "metadata": {},
   "outputs": [],
   "source": [
    "logit_model_p1 = pystan.StanModel(file=_stan_model.model_file)"
   ]
  },
  {
   "cell_type": "code",
   "execution_count": null,
   "metadata": {},
   "outputs": [],
   "source": [
    "# sampling\n",
    "logit_model_sample_p1 =logit_model_p1.sampling(data=datLogit, iter = 4000)"
   ]
  },
  {
   "cell_type": "code",
   "execution_count": null,
   "metadata": {},
   "outputs": [],
   "source": [
    "#logit_model_sample_p1\n",
    "print(logit_model_sample_p1.stansummary([\"beta\", \"residual\"]))"
   ]
  },
  {
   "cell_type": "markdown",
   "metadata": {},
   "source": [
    "### Análisis exploratorio de los datos"
   ]
  },
  {
   "cell_type": "code",
   "execution_count": null,
   "metadata": {},
   "outputs": [],
   "source": [
    "Primero vamos a extraer la cadenas para generar algunos gráficos de los residuales."
   ]
  },
  {
   "cell_type": "code",
   "execution_count": null,
   "metadata": {},
   "outputs": [],
   "source": [
    "residuals = logit_model_sample_p1.extract(['residual'])"
   ]
  },
  {
   "cell_type": "code",
   "execution_count": null,
   "metadata": {},
   "outputs": [],
   "source": [
    "residuals = residuals['residual']"
   ]
  },
  {
   "cell_type": "code",
   "execution_count": null,
   "metadata": {},
   "outputs": [],
   "source": [
    "residuals.shape"
   ]
  },
  {
   "cell_type": "code",
   "execution_count": null,
   "metadata": {},
   "outputs": [],
   "source": [
    "residuals[0:10,0:5]"
   ]
  },
  {
   "cell_type": "code",
   "execution_count": null,
   "metadata": {},
   "outputs": [],
   "source": [
    "# hace una tabla residual indice\n",
    "# indice del residual\n",
    "# sample size\n",
    "#sz = 8000\n",
    "# number of observations\n",
    "#no = 39\n",
    "#\n",
    "#id =[]\n",
    "#for i in range(0,no):\n",
    "#    ii = sz*[i]\n",
    "#    id+= ii\n",
    "#id = np.array(id)  \n",
    "#reshape residual\n",
    "#residuals =residuals.reshape(residuals.shape[0]*residuals.shape[1])\n",
    "# pega residuales e indice de la observación\n",
    "#data = np.vstack([residuals, id]).T"
   ]
  },
  {
   "cell_type": "code",
   "execution_count": null,
   "metadata": {},
   "outputs": [],
   "source": [
    "import matplotlib.pyplot as plt\n",
    "\n",
    "fig, ax = plt.subplots(figsize =(14,6))\n",
    "ax.set_ylim(-3, 3)\n",
    "plt.plot([0, 39], [0, 0], color='r', linestyle='-', linewidth=1)\n",
    "ax.boxplot(residuals)\n",
    "\n",
    "plt.show()\n"
   ]
  },
  {
   "cell_type": "code",
   "execution_count": null,
   "metadata": {},
   "outputs": [],
   "source": [
    "import pandas as pd\n",
    "rp = pd.DataFrame(residuals)\n",
    "rp.describe().T"
   ]
  },
  {
   "cell_type": "markdown",
   "metadata": {},
   "source": [
    "## Ejemplo 2.  Modelo de regresión Gama"
   ]
  },
  {
   "cell_type": "markdown",
   "metadata": {},
   "source": [
    "En Stan la distribución Beta tiene la forma \n",
    "\n",
    "$$\n",
    "\\text{Gamma}(y|a,b) = \\frac{a^{b}}{\\Gamma(a)}{y^{a-1}\\exp(-b y)}\n",
    "$$\n",
    "\n",
    "Si $\\mu$ es la media de la distribución, se tiene que\n",
    "\n",
    "$$\n",
    "\\begin{align}\n",
    "\\mu &= \\frac{a}{b}\\\\\n",
    "\\sigma^2 &= \\frac{a}{b^2} = \\mu\\frac{1}{b}\n",
    "\\end{align}\n",
    "$$\n",
    "Sea $\\phi = \\frac{1}{\\sigma^2}$. Entonces $\\phi$ es el parámetro de precisión de cada grupo de turbinas.\n",
    "\n",
    "Por lo que podemos hacer la reparametrización\n",
    "\n",
    "$$\n",
    "\\begin{align}\n",
    "a &= \\phi\\mu^2 \\\\\n",
    "b &= \\phi\\mu\n",
    "\\end{align}\n",
    "$$\n"
   ]
  },
  {
   "cell_type": "markdown",
   "metadata": {},
   "source": [
    "Ahora bien. Supongamos que la matrix de datos es $y$ de tamaño $N\\times T$, en donde $N=10$ es el numéro de observaciones por tipo de turbina y $T=5$ es el número de turbinas.\n",
    "\n",
    "Sea $Y$ la matriz aleatoria del mismo tamaño, que corresponde a las variables aleatorias que generan los datos. Entonces se tiene que\n",
    "\n",
    "$$\n",
    "Y_{ij} \\sim \\text{Gamma}(\\phi_{ij}\\mu_{ij}^2, \\phi_{ij}\\mu_{ij}),\n",
    "$$\n",
    "\n",
    "en donde $\\phi_{ij}>0$ y $\\mu_{ij}>0$\n",
    "\n",
    "$$\n",
    "\\begin{align}\n",
    "\\phi_{ij}&= \\phi_j; \\quad i= 1,\\ldots,N; \\quad j= 1,\\ldots,T\\\\\n",
    "\\ln \\mu_{ij} &= \\mu + \\beta_j; \\quad i= 1,\\ldots,N;\\quad j= 1,\\ldots,T\n",
    "\\end{align}\n",
    "$$\n",
    "\n",
    "Es decir, asumimos un  parámetro de forma $\\phi_j>0$ por cada grupo de turbinas. Adicionalmente se usa la función de enlace $\\ln $, para garantizar que $\\mu_{ij}>0$. Adicionalmente se asume que cada  $\\phi_j>0$."
   ]
  },
  {
   "cell_type": "markdown",
   "metadata": {},
   "source": [
    "Por otro lado, existe un problema de identificabilidad, es decir infinitas soluciones, debido a que si $k$ es una constante cualquiera diferente de cero, se tiene que\n",
    "\n",
    "$$\n",
    "\\mu +\\beta_j = (\\mu+k) + (\\beta_j-k)\n",
    "$$\n",
    "\n",
    "En consecuencia es necesario definir una restricción en el modelo. Por ejemplo $\\mu=0$, o $\\beta_j=0$, para algún $j$. Haremos lo siguiente: $\\beta_1=0$.\n",
    "\n",
    "En consecuencia, ahora los parámetros por estimar son $\\phi$, el vector $\\beta = (\\beta_2,\\ldots,\\beta_T)'$ y $\\mu$.\n",
    "\n",
    "Lo que vamos a hacer es declarar digamos $\\beta_f$ como un vector de tamaño $T-1$ y dentro de la sección del modelo hacer lo siguiente\n"
   ]
  },
  {
   "cell_type": "markdown",
   "metadata": {},
   "source": [
    "## Implementación"
   ]
  },
  {
   "cell_type": "code",
   "execution_count": null,
   "metadata": {},
   "outputs": [],
   "source": [
    "# Cargue librerias necesarias\n",
    "%matplotlib inline\n",
    "import matplotlib.pyplot as plt\n",
    "import numpy as np\n",
    "import pandas as pd\n",
    "import pystan\n",
    "import seaborn as sns"
   ]
  },
  {
   "cell_type": "code",
   "execution_count": null,
   "metadata": {},
   "outputs": [],
   "source": [
    "# lee los datos\n",
    "path ='./datos/'\n",
    "file ='turbina.dat'\n",
    "turbina = pd.read_csv(path+file, sep='\\s+',header=None) # para Stan\n",
    "datos = np.array(turbina) # para el boxplot\n",
    "turbina.columns = ['a','T1','c','T2','e','T3','g','T4','i','T5']\n",
    "turbina = turbina[['T1','T2','T3','T4','T5']]\n",
    "turbina.head()"
   ]
  },
  {
   "cell_type": "markdown",
   "metadata": {},
   "source": [
    "### Una primera mirada gráfica de los datos"
   ]
  },
  {
   "cell_type": "code",
   "execution_count": null,
   "metadata": {},
   "outputs": [],
   "source": [
    "datos = pd.DataFrame({\"Tiempo\":datos[:,np.arange(1,10,2)].reshape(5*10),\n",
    "         \"Tipo\":datos[:,np.arange(0,9,2)].reshape(5*10)})\n",
    "datos.head()"
   ]
  },
  {
   "cell_type": "code",
   "execution_count": null,
   "metadata": {},
   "outputs": [],
   "source": [
    "fig =  plt.figure(figsize=(10,7))\n",
    "sns.boxplot(y=datos[\"Tiempo\"],x=datos[\"Tipo\"] )\n",
    "fig.suptitle('Gráficos boxplot por tipo de motor',fontsize=16)\n",
    "plt.show()"
   ]
  },
  {
   "cell_type": "markdown",
   "metadata": {},
   "source": [
    "El gráfico muestra que en cada grupo de turbinas los datos son en general asimétrico, lo que justifica en principio el modelo Gamma."
   ]
  },
  {
   "cell_type": "markdown",
   "metadata": {},
   "source": [
    "### Preparación de datos para Stan"
   ]
  },
  {
   "cell_type": "code",
   "execution_count": null,
   "metadata": {},
   "outputs": [],
   "source": [
    "# matrix Y\n",
    "Y = np.array(turbina)\n",
    "N = np.shape(Y)[0]\n",
    "T = np.shape(Y)[1]\n",
    "\n",
    "# data\n",
    "dat ={'Y':Y, 'N':N,'T':T}\n",
    "dat"
   ]
  },
  {
   "cell_type": "markdown",
   "metadata": {},
   "source": [
    "### El modelo en Stan"
   ]
  },
  {
   "cell_type": "code",
   "execution_count": null,
   "metadata": {},
   "outputs": [],
   "source": [
    "# Magic STAN\n",
    "import pystan\n",
    "%load_ext stanmagic"
   ]
  },
  {
   "cell_type": "code",
   "execution_count": null,
   "metadata": {},
   "outputs": [],
   "source": [
    "%%stan -f gamma_reg_p1.stan\n",
    "// Gamma log Linear Model for Y\n",
    "\n",
    "data{\n",
    " // number of observations\n",
    " int N;\n",
    " // number of turbines\n",
    " int T;\n",
    " // responses\n",
    " matrix[N,T] Y;\n",
    "}\n",
    "\n",
    "parameters{\n",
    " vector<lower=0>[T]  phi;\n",
    " vector[T-1] beta_f;\n",
    "  real mu;\n",
    "}\n",
    "\n",
    "model{\n",
    " vector[T] beta;\n",
    " matrix[N,T] mu_ij;\n",
    " \n",
    "\n",
    "# priors\n",
    "mu ~ normal(10,10);\n",
    "beta_f ~ normal(0,10);    \n",
    "phi ~ cauchy(0,10);\n",
    "\n",
    "# update beta\n",
    "beta[1] = 0;\n",
    "for (j in 2:(T)){\n",
    "    beta[j] = beta_f[j-1];\n",
    " }\n",
    "\n",
    "# likelihood   \n",
    "for (i in 1:N){\n",
    "    for (j in 1:T){\n",
    "      // means\n",
    "      //mu_ij[i,j] = exp(mu + beta[j]);\n",
    "      //mu_ij[i,j] = (mu_ij[i,j]>27)?27:mu_ij[i,j];\n",
    "      mu_ij[i,j] = (mu + beta[j]);\n",
    "      mu_ij[i,j] = (mu_ij[i,j]<0.01)?0.01:mu_ij[i,j];\n",
    "      //\n",
    "      Y[i,j] ~ gamma(phi[j]*(mu_ij[i,j])^2,phi[j]*mu_ij[i,j]);\n",
    "    }    \n",
    "  }    \n",
    "}\n",
    "\n",
    "generated quantities{\n",
    "  matrix[N,T] residual;\n",
    "  for (i in 1:N){\n",
    "      residual[i,1] = (Y[i,1]-(mu))*sqrt(phi[T]);\n",
    "      for (j in 2:(T)){\n",
    "      residual[i,j] = (Y[i,j]-(mu + beta_f[j-1]))*sqrt(phi[j]);\n",
    "      }\n",
    "  }\n",
    "}"
   ]
  },
  {
   "cell_type": "code",
   "execution_count": null,
   "metadata": {},
   "outputs": [],
   "source": [
    "# compile\n",
    "gamma_model_p1 = pystan.StanModel(file=_stan_model.model_file)"
   ]
  },
  {
   "cell_type": "code",
   "execution_count": null,
   "metadata": {},
   "outputs": [],
   "source": [
    "# Muestreo\n",
    "np.random.seed(127)\n",
    "gamma_model_sample_p1 = gamma_model_p1.sampling(data=dat, iter = 4000)"
   ]
  },
  {
   "cell_type": "code",
   "execution_count": null,
   "metadata": {},
   "outputs": [],
   "source": [
    "print(gamma_model_sample_p1.stansummary([\"mu\",\"beta_f\",\"phi\"]))"
   ]
  },
  {
   "cell_type": "code",
   "execution_count": null,
   "metadata": {},
   "outputs": [],
   "source": [
    "residuals = gamma_model_sample_p1.extract(['residual'])"
   ]
  },
  {
   "cell_type": "code",
   "execution_count": null,
   "metadata": {},
   "outputs": [],
   "source": [
    "residuals = residuals['residual']\n",
    "residuals = residuals.reshape([residuals.shape[0],residuals.shape[1]*residuals.shape[2]])"
   ]
  },
  {
   "cell_type": "code",
   "execution_count": null,
   "metadata": {},
   "outputs": [],
   "source": [
    "import matplotlib.pyplot as plt\n",
    "\n",
    "fig, ax = plt.subplots(figsize =(14,6))\n",
    "ax.set_ylim(-3, 3)\n",
    "plt.plot([1, 50], [0, 0], color='r', linestyle='-', linewidth=1)\n",
    "ax.boxplot(residuals)\n",
    "\n",
    "plt.show()\n"
   ]
  }
 ],
 "metadata": {
  "kernelspec": {
   "display_name": "Python 3",
   "language": "python",
   "name": "python3"
  },
  "language_info": {
   "codemirror_mode": {
    "name": "ipython",
    "version": 3
   },
   "file_extension": ".py",
   "mimetype": "text/x-python",
   "name": "python",
   "nbconvert_exporter": "python",
   "pygments_lexer": "ipython3",
   "version": "3.7.5"
  }
 },
 "nbformat": 4,
 "nbformat_minor": 4
}
