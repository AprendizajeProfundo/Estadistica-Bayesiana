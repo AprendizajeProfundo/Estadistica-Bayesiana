{
 "cells": [
  {
   "cell_type": "markdown",
   "metadata": {},
   "source": [
    "# Residuales Bayesianos"
   ]
  },
  {
   "cell_type": "markdown",
   "metadata": {},
   "source": [
    "## Autores"
   ]
  },
  {
   "cell_type": "markdown",
   "metadata": {},
   "source": [
    "1. Alvaro Mauricio Montenegro Díaz, ammontenegrod@unal.edu.co"
   ]
  },
  {
   "cell_type": "markdown",
   "metadata": {},
   "source": [
    "## Referencias\n",
    "\n",
    "1. Alvaro Montenegro, [Curso de Estadística Bayesiana](https://github.com/AprendizajeProfundo/Estadistica-Bayesiana), 2020\n",
    "2. De Paula Gilberto, [\"MODELOS DE REGRESSÃO com apoio computacional, ](https://www.ime.usp.br/~giapaula/texto_2013.pdf), Instituto de Matemática e Estatística  Universidade de São  Paulo\n",
    "3.  [\"Stan User's Guide. Version 2.22\", Stan Development Team, 2020.](https://mc-stan.org/users/documentation/)\n",
    "4. Kumar, Ravin and Carroll, Colin and Hartikainen, Ari and Martin, Osvaldo A., [ArviZ a unified library for exploratory analysis of Bayesian models in Python](https://arviz-devs.github.io/arviz/), [The Journal of Open Source Software], 2019.\n",
    "5. Richard McElreath, [\"Statistical Rethinking, A Bayesian Course with examples in R and Stan\"](http://xcelab.net/rmpubs/rethinking/Statistical_Rethinking_sample.pdf), version compilada en noviembre 9 de 2015.\n"
   ]
  },
  {
   "cell_type": "markdown",
   "metadata": {},
   "source": [
    "# Introduccción\n"
   ]
  },
  {
   "cell_type": "markdown",
   "metadata": {},
   "source": [
    "En esta lección introducimos la primera herramienta para la evaluación de los modelos. Como seguramente ya sabe, en la estadística Bayesiana siempre trabajamos con distribuciones posteriores.\n",
    "\n",
    "En la estadística clásica se define un residual como sigue. Si $y_i$ es una observación, con media $\\mu_i$, entonces el residual, que denotaremos por $r_i$ se define por\n",
    "\n",
    "$$\n",
    "r_i = (y_i-\\hat{\\mu}_i),\n",
    "$$\n",
    "\n",
    "en donde $\\hat{\\mu}_i$ es una estimación de  $\\mu_i$.\n",
    "\n",
    "El problema con esta medida es que depende de la escala de la observación, por lo que si $\\sigma_i^2$ es la varianza de $y_i$ entonces el residual estandarizado es dado por\n",
    "\n",
    "$$\n",
    "re_i = \\frac{(y_i-\\hat{\\mu}_i)}{\\hat{\\sigma}_i},\n",
    "$$\n",
    "\n",
    "en donde $\\hat{\\sigma}_i$ es la estimación de $\\sigma_i^2$ .\n",
    "\n",
    "El residual de pearson es definido por \n",
    "\n",
    "\n",
    "$$\n",
    "rp_i = \\frac{(y_i-\\hat{\\mu}_i)^2}{\\hat{\\sigma}_i^2},\n",
    "$$\n",
    "el cual es siempre positivo.\n",
    "\n",
    "\n"
   ]
  },
  {
   "cell_type": "markdown",
   "metadata": {},
   "source": [
    "## Nota"
   ]
  },
  {
   "cell_type": "markdown",
   "metadata": {},
   "source": [
    "Dado que $E[y_i]=\\hat{\\mu}_i$, es frecuente denotar usar la notación $\\tilde{y}_i$ en lugar de  $\\hat{\\mu}_i$.Es comun llamar $\\tilde{y}_i$ como el valor ajustado por el modelo para $y_i$.\n",
    "\n",
    "En los siguientes ejemplos vamos a suponer que las estimaciones son máximo-verosímil, aunque tecnicamente no es realmente necesario."
   ]
  },
  {
   "cell_type": "markdown",
   "metadata": {},
   "source": [
    "# Residuales. Enfoque clásico"
   ]
  },
  {
   "cell_type": "markdown",
   "metadata": {},
   "source": [
    "En esta sección se definen los residuales Bayesianos como una generalización de esta sección."
   ]
  },
  {
   "cell_type": "markdown",
   "metadata": {},
   "source": [
    "## Ejemplo 1. Modelo de regresión lineal Gaussiano "
   ]
  },
  {
   "cell_type": "markdown",
   "metadata": {},
   "source": [
    "En este caso el modelo estadístico es definido por\n",
    "\n",
    "$$\n",
    "\\begin{align}\n",
    "E[y_i] &= \\mu_i =  \\alpha +  \\mathbf{x_i}^T\\mathbf{\\beta} \\\\\n",
    "\\log \\sigma_i &= \\eta +\\mathbf{z_i}^T\\mathbf{\\nu} \\\\\n",
    "\\alpha &\\sim \\mathcal{N}(\\mu_{\\alpha},\\sigma_{\\alpha}^2)\\\\\n",
    "\\mathbf{\\beta} &\\sim \\mathcal{N}(\\mathbf{\\mu}_{\\beta},\\rho_{\\beta}^2\\mathbf{I})\\\\\n",
    "\\eta &\\sim \\mathcal{N}(\\mu_{\\eta},\\sigma_{\\eta}^2)\\\\\n",
    "\\mathbf{\\nu} &\\sim \\mathcal{N}(\\mathbf{\\mu}_{\\nu},\\rho_{\\nu}^2\\mathbf{I})\\\\\n",
    "y_i &\\sim \\mathcal{N}(\\mu_i,\\sigma_i^2), \\hspace{3mm} i =1,\\ldots,n\n",
    "\\end{align}\n",
    "$$\n",
    "\n",
    "\n",
    "Entonces, si $\\hat{\\mathbf{\\theta}} = (\\hat{\\alpha},\\hat{\\eta}, \\hat{\\mathbf{\\beta}}^T,\\hat{\\mathbf{\\nu}}^T)^T$, se tiene que\n",
    "\n",
    "$$\n",
    "\\begin{align}\n",
    "\\hat{\\mu}_i &=  \\hat{\\alpha} +  \\mathbf{x_i}^T\\hat{\\mathbf{\\beta}} \\\\\n",
    "\\ln \\hat{\\sigma}_i &=  \\hat{\\eta} +  \\mathbf{z_i}^T\\hat{\\mathbf{\\nu}} \\\\ \n",
    "\\end{align}\n",
    "$$\n",
    "\n",
    "En el caso homocedástico, se tiene que $\\sigma_i^2 = \\sigma^2$."
   ]
  },
  {
   "cell_type": "markdown",
   "metadata": {},
   "source": [
    "## Ejemplo 2. Modelo regresión Binomial"
   ]
  },
  {
   "cell_type": "markdown",
   "metadata": {},
   "source": [
    "La función *inv_logit* es definida por $\\text{inv_logit}(x) = (1+ \\exp (-x))^{-1}$. Esta es la función de distribuición acumulada logística.\n",
    "\n",
    "El modelo Binomial de regresión se define por\n",
    "\n",
    "\n",
    "$$\n",
    "\\begin{align}\n",
    "E[y_i] &= \\mu_i= N_i\\pi_i\\\\\n",
    "\\pi_i &=  \\text{inv_logit}(\\alpha +  \\mathbf{x_i}^T\\mathbf{\\beta}) \\\\\n",
    "y_i &\\sim \\text{Binomial}(N_i,\\pi_i), \\hspace{3mm} i =1,\\ldots,n.\n",
    "\\end{align}\n",
    "$$\n",
    "\n",
    "Los valores $N_i$ se asumen conocidos. En este caso se tiene que $Var[y_i] = N_i\\pi_i(1-\\pi)$, por lo que $\\sigma_i =\\sqrt{N_i\\pi_i(1-\\pi)} $. \n",
    "\n",
    "Si $\\hat{\\alpha}$ y $\\hat{\\mathbf{\\beta}}$ son las respectivas estimaciones, entonces se tiene que\n",
    "\n",
    "$$\n",
    "\\begin{align}\n",
    "\\hat{\\pi}_i &= \\text{inv_logit}( \\hat{\\alpha} +  \\mathbf{x_i}^T\\hat{\\mathbf{\\beta}}) \\\\\n",
    "\\hat{\\mu}_i &= N_i \\hat{\\pi}_i \\\\\n",
    "\\hat{\\sigma}_i &=  \\sqrt{N_i\\hat{\\pi}_i(1-\\hat{\\pi}_i)} \\\\ \n",
    "\\end{align}\n",
    "$$\n",
    "\n",
    "\n"
   ]
  },
  {
   "cell_type": "markdown",
   "metadata": {},
   "source": [
    "## Ejemplo 3. Modelo de regresión Poisson"
   ]
  },
  {
   "cell_type": "markdown",
   "metadata": {},
   "source": [
    "El modelo Poisson de regresión se define por\n",
    "\n",
    "\n",
    "\n",
    "$$\n",
    "\\begin{align}\n",
    "E[y_i] &= \\mu_i\\\\\n",
    "\\ln \\mu_i&=  \\alpha +  \\mathbf{x_i}^T\\mathbf{\\beta}\\\\\n",
    "\\alpha &\\sim \\mathcal{N}(\\mu_{\\alpha},\\sigma_{\\alpha}^2)\\\\\n",
    "\\mathbf{\\beta} &\\sim \\mathcal{N}(\\mathbf{\\mu}_{\\beta},\\rho_{\\beta}^2\\mathbf{I})\\\\\n",
    "y_i &\\sim \\text{Poisson}(\\mu_i), \\hspace{3mm} i =1,\\ldots,n.\n",
    "\\end{align}\n",
    "$$\n",
    "\n",
    "\n",
    "Si $\\hat{\\alpha}$ y $\\hat{\\mathbf{\\beta}}$ son las respectivas estimaciones, entonces se tiene que\n",
    "\n",
    "\n",
    "$$\n",
    "\\begin{align}\n",
    "\\ln \\hat{\\mu}_i &=  \\hat{\\alpha} +  \\mathbf{x_i}^T\\hat{\\mathbf{\\beta}} \\\\\n",
    "\\hat{\\sigma}_i &=  \\sqrt{\\hat{\\mu}_i}\\\\ \n",
    "\\end{align}\n",
    "$$\n"
   ]
  },
  {
   "cell_type": "markdown",
   "metadata": {},
   "source": [
    "## Ejemplo 4. Modelo de regresión Beta"
   ]
  },
  {
   "cell_type": "markdown",
   "metadata": {},
   "source": [
    "El modelo de regresión Beta lo hemos definido como\n",
    "\n",
    "$$\n",
    "\\begin{align}\n",
    "E[y_i] &= \\mu_i\\\\\n",
    " \\mu_i&=  \\text{inv_logit}(\\alpha +  \\mathbf{x_i}^T\\mathbf{\\beta})\\\\\n",
    "\\ln \\phi_i & = \\eta +  \\mathbf{z_i}^T\\mathbf{\\nu}\\\\\n",
    "\\alpha &\\sim \\mathcal{N}(\\mu_{\\alpha},\\sigma_{\\alpha}^2)\\\\\n",
    "\\mathbf{\\beta} &\\sim \\mathcal{N}(\\mathbf{\\mu}_{\\beta},\\rho_{\\beta}^2\\mathbf{I})\\\\\n",
    "\\eta &\\sim \\mathcal{N}(\\mu_{\\eta},\\sigma_{\\eta}^2)\\\\\n",
    "\\mathbf{\\nu} &\\sim \\mathcal{N}(\\mathbf{\\mu}_{\\nu},\\rho_{\\nu}^2\\mathbf{I})\\\\\n",
    "y_i &\\sim \\text{Beta}(\\mu_i\\phi_i,(1-\\mu_i)\\phi_i), \\hspace{3mm} i =1,\\ldots,n\n",
    "\\end{align}\n",
    "$$\n",
    "\n",
    "Entonces, si $\\hat{\\mathbf{\\theta}} = (\\hat{\\alpha},\\hat{\\eta}, \\hat{\\mathbf{\\beta}}^T,\\hat{\\mathbf{\\nu}}^T)^T$, se tiene que\n",
    "\n",
    "$$\n",
    "\\begin{align}\n",
    "\\hat{\\mu}_i &= \\text{inv_logit} (\\hat{\\alpha} +  \\mathbf{x_i}^T\\hat{\\mathbf{\\beta}})\\\\\n",
    "\\ln\\hat{\\phi}_i &=  \\hat{\\eta} +  \\mathbf{z_i}^T\\hat{\\mathbf{\\nu}}\\\\\n",
    "\\hat{\\sigma}_i &= \\sqrt{\\frac{\\hat{\\mu}_i(1-\\hat{\\mu}_i)}{1+\\hat{\\phi}_i}} \\\\ \n",
    "\\end{align}\n",
    "$$\n"
   ]
  },
  {
   "cell_type": "markdown",
   "metadata": {},
   "source": [
    "## Ejemplo 5: Modelo de regresión Gama"
   ]
  },
  {
   "cell_type": "markdown",
   "metadata": {},
   "source": [
    "El modelo de regresión Gama se define así:\n",
    "\n",
    "$$\n",
    "\\begin{align}\n",
    "E[y_i] &= \\mu_i\\\\\n",
    "\\ln \\mu_i&=  \\alpha +  \\mathbf{x_i}^T\\mathbf{\\beta}\\\\\n",
    "\\ln \\phi_i & = \\eta +  \\mathbf{z_i}^T\\mathbf{\\nu}\\\\\n",
    "\\alpha &\\sim \\mathcal{N}(\\mu_{\\alpha},\\sigma_{\\alpha}^2)\\\\\n",
    "\\mathbf{\\beta} &\\sim \\mathcal{N}(\\mathbf{\\mu}_{\\beta},\\rho_{\\beta}^2\\mathbf{I})\\\\\n",
    "\\eta &\\sim \\mathcal{N}(\\mu_{\\eta},\\sigma_{\\eta}^2)\\\\\n",
    "\\mathbf{\\nu} &\\sim \\mathcal{N}(\\mathbf{\\mu}_{\\nu},\\rho_{\\nu}^2\\mathbf{I})\\\\\n",
    "y_i &\\sim \\text{Gama}(\\mu_i^2\\phi_i,\\mu_i\\phi_i), \\hspace{3mm} i=1,\\ldots,n.\n",
    "\\end{align}\n",
    "$$\n",
    "\n",
    "\n",
    "Entonces, si $\\hat{\\mathbf{\\theta}} = (\\hat{\\alpha},\\hat{\\eta}, \\hat{\\mathbf{\\beta}}^T,\\hat{\\mathbf{\\nu}}^T)^T$, se tiene que\n",
    "\n",
    "$$\n",
    "\\begin{align}\n",
    "\\ln\\hat{\\mu}_i &= \\hat{\\alpha} +  \\mathbf{x_i}^T\\hat{\\mathbf{\\beta}}\\\\\n",
    "\\ln\\hat{\\phi}_i &=  \\hat{\\eta} +  \\mathbf{z_i}^T\\hat{\\mathbf{\\nu}} \\\\ \n",
    "\\hat{\\sigma}_i  &= \\sqrt{\\tfrac{1}{\\hat{\\phi}_i}}\n",
    "\\end{align}\n",
    "$$"
   ]
  },
  {
   "cell_type": "markdown",
   "metadata": {},
   "source": [
    "## Modelo de regresión $t$-Student"
   ]
  },
  {
   "cell_type": "markdown",
   "metadata": {},
   "source": [
    "La distribución  $t$-Student tiene función de densidad dada por\n",
    "\n",
    "\n",
    "Hemos definido el modelo de regresión mediante\n",
    "\n",
    "$$\n",
    "\\begin{align}\n",
    "\\mu_i &=  \\alpha +  \\mathbf{x_i}^T\\mathbf{\\beta} \\\\\n",
    "\\ln \\varphi_i &= \\eta +\\mathbf{z_i}^T\\mathbf{\\nu} \\\\\n",
    "\\ln(\\kappa_i-2.00001) &= \\xi +\\mathbf{s_i}^T\\mathbf{\\omega} \\\\\n",
    "\\alpha &\\sim \\mathcal{N}(\\mu_{\\alpha},\\sigma_{\\alpha}^2)\\\\\n",
    "\\mathbf{\\beta} &\\sim \\mathcal{N}(\\mathbf{\\mu}_{\\beta},\\rho_{\\beta}^2\\mathbf{I})\\\\\n",
    "\\eta &\\sim \\mathcal{N}(\\mu_{\\eta},\\sigma_{\\eta}^2)\\\\\n",
    "\\mathbf{\\nu} &\\sim \\mathcal{N}(\\mathbf{\\mu}_{\\nu},\\rho_{\\nu}^2\\mathbf{I})\\\\\n",
    "\\xi &\\sim \\mathcal{N}(\\mu_{\\xi},\\sigma_{\\xi}^2)\\\\\n",
    "\\mathbf{\\omega} &\\sim \\mathcal{N}(\\mathbf{\\mu}_{\\omega},\\rho_{\\omega}^2\\mathbf{I})\\\\\n",
    "y_i &\\sim \\mathcal{N}(\\mu_i,\\sigma_i^2), \\hspace{3mm} i =1,\\ldots,n.\n",
    "\\end{align}\n",
    "$$\n",
    "\n",
    "\n",
    "El parámetro del problema es $\\mathbf{\\theta} = (\\alpha,\\eta,\\xi, \\mathbf{\\beta}^T,\\mathbf{\\nu}^T,\\mathbf{\\omega}^T)^T$. \n",
    "\n",
    "Entonces, si $\\hat{\\mathbf{\\theta}} = (\\hat{\\alpha},\\hat{\\eta}, \\hat{\\xi},\\hat{\\mathbf{\\beta}}^T,\\hat{\\mathbf{\\nu}}^T,\\hat{\\mathbf{\\omega}}^T)^T$, se tiene que\n",
    "\n",
    "$$\n",
    "\\begin{align}\n",
    "\\hat{\\mu}_i &= \\hat{\\alpha} +  \\mathbf{x_i}^T\\hat{\\mathbf{\\beta}}\\\\\n",
    "\\ln\\hat{\\varphi}_i &=  \\hat{\\eta} +  \\mathbf{z_i}^T\\hat{\\mathbf{\\nu}} \\\\\n",
    "\\ln(\\hat{\\kappa}_i-2.00001) &=  \\hat{\\xi} +  \\mathbf{s_i}^T\\hat{\\mathbf{\\omega}} \\\\\n",
    "\\hat{\\sigma}_i  &=\\hat{\\varphi}_i \\sqrt{\\frac{\\hat{\\kappa}_i}{\\hat{\\kappa}_i-2}}\n",
    "\\end{align}\n",
    "$$"
   ]
  },
  {
   "cell_type": "markdown",
   "metadata": {},
   "source": [
    "# Residuales Bayesianos "
   ]
  },
  {
   "cell_type": "markdown",
   "metadata": {},
   "source": [
    "En el caso Bayesiano, se considera siempre la distribución asociada ala cantidad de interes. En este caso los residuales. Esto es bastante ventajoso, por que al no ser una cantidad única como en ela caso clásico, es posible evaluar de una mejor manera el modelo a partir de los residuales del modelo.\n",
    "\n",
    "Para la práctica, el procedimiento para obtener la distribución de residuales es como sigue. Supongamos que $\\mu_i^{(k)}$ y $\\sigma_i^{(k)}$ son los funcionales asociados a la muestra en el paso $k$.\n",
    "\n",
    "Por ejemplo, consideresmos el modelo de regresión Beta. Supongamos que $\\alpha^{(k)}$, $\\eta^{(k)}$, $\\mathbf{\\beta}^{(k)} y $\\mathbf{\\nu}^{(k)} son las muestras de los parámetros del problema en le paso $k$ del muestreados Bayesiano. Entonces se tiene que \n",
    "\n",
    "\n",
    "$$\n",
    "\\begin{align}\n",
    "{\\mu}_i^{(k)} &=  \\text{inv_logit}(\\alpha^{(k)} + \\mathbf{x_i}^T\\mathbf{\\beta}^{(k)})\\\\\n",
    "{\\phi}_i^{(k)}  &= \\sqrt{\\exp(\\eta^{(k)} +  \\mathbf{z_i}^T\\mathbf{\\nu}^{(k)})}\\\\\n",
    "{\\sigma}_i^{(k)}&= \\sqrt{\\frac{1}{{\\phi}_i^{(k)}}}\n",
    "\\end{align}\n",
    "$$\n",
    "\n",
    "y el residual estandarizado en el paso $k$ del muestreador es entonces\n",
    "\n",
    "$$\n",
    "r_i^{(k)} = \\frac{y_i -{\\mu}_i^{(k)}}{{\\sigma}_i^{(k)}}\n",
    "$$"
   ]
  },
  {
   "cell_type": "markdown",
   "metadata": {},
   "source": [
    "## Ejemplo 1. Modelo de regresión Bernoulli: Modelo Logístico.\n",
    "\n",
    "Este es el caso particular del modelo de regresión Binomial en donde $N_i=1$, en todas las observaciones.\n",
    "\n",
    "En este caso se tiene que \n",
    "\n",
    "\n",
    "\n",
    "$$\n",
    "\\begin{align}\n",
    "E[y_i] &= \\mu_i= \\pi_i\\\\\n",
    "\\pi_i &=  \\text{inv_logit}(\\alpha +  \\mathbf{x_i}^T\\mathbf{\\beta}) \\\\\n",
    "y_i &\\sim \\text{Bernulli}(\\pi_i)\n",
    "\\end{align}\n",
    "$$\n",
    "con $i =1,\\ldots,n$. \n",
    "\n",
    "Si $\\hat{\\alpha}$ y $\\hat{\\mathbf{\\beta}}$ son las respectivas estimaciones, entonces se tiene que\n",
    "\n",
    "$$\n",
    "\\begin{align}\n",
    "\\hat{\\pi}_i &=  \\text{inv_logit}(\\hat{\\alpha} +  \\mathbf{x_i}^T\\hat{\\mathbf{\\beta}}) \\\\\n",
    "\\hat{\\mu}_i &= \\hat{\\pi}_i \\\\\n",
    "\\hat{\\sigma}_i &=  \\sqrt{\\hat{\\pi}(1-\\hat{\\pi})} \\\\ \n",
    "\\end{align}\n",
    "$$\n",
    "\n",
    "Para ilustrar el cálculo y uso de los residuales consideramos el problema del Parcial 1.\n",
    "\n",
    "\n",
    "La tabla 2 muestra  los datos experimentales sobre la influencia de la razón y del volúmen del aire aspirado en la constricción vascular de la piel de los dedos de la mano, de un experimento reportado por Predigon. \n",
    "\n",
    "\n",
    "\n",
    "La respuesta es dicotómica: ocurrencia (1), y no ocurrecia (0). Se asume para cada observación $Y_i \\sim \\text{Bernoulli}(\\pi_i)$. El modelo lineal logistico es definido por\n",
    "\n",
    "\n"
   ]
  },
  {
   "cell_type": "markdown",
   "metadata": {
    "jupyter": {
     "source_hidden": true
    }
   },
   "source": [
    " ### Datos\n",
    " \n",
    "      y   vol   razón\n",
    "      1  3.70    0.825\n",
    "      1  3.50    1.090\n",
    "      1  1.25    2.500\n",
    "      1  0.75    1.500\n",
    "      1  0.80    3.200\n",
    "      1  0.70    3.500\n",
    "      0  0.60    0.750\n",
    "      0  1.10    1.700\n",
    "      0  0.90    0.750\n",
    "      0  0.90    0.450\n",
    "      0  0.80    0.570\n",
    "      0  0.55    2.750\n",
    "      0  0.60    3.000\n",
    "      1  1.40    2.330\n",
    "      1  0.75    3.750\n",
    "      1  2.30    1.640\n",
    "      1  3.20    1.600\n",
    "      1  0.85    1.415\n",
    "      0  1.70    1.060\n",
    "      1  1.80    1.800\n",
    "      0  0.40    2.000\n",
    "      0  0.95    1.360\n",
    "      0  1.35    1.350\n",
    "      0  1.50    1.360\n",
    "      1  1.60    1.780\n",
    "      0  0.60    1.500\n",
    "      1  1.80    1.500\n",
    "      0  0.95    1.900\n",
    "      1  1.90    0.950\n",
    "      0  1.60    0.400\n",
    "      1  2.70    0.750\n",
    "      0  2.35    0.030\n",
    "      0  1.10    1.830\n",
    "      1  1.10    2.200\n",
    "      1  1.20    2.000\n",
    "      1  0.80    3.330\n",
    "      0  0.95    1.900\n",
    "      0  0.75    1.900\n",
    "      1  1.30    1.625\n",
    "\n",
    "*Tabla 2. datos sobre influencia de la razón y del volúmen del aire aspirado en la constricción vascular de la piel de los dedos de la mano*"
   ]
  },
  {
   "cell_type": "markdown",
   "metadata": {},
   "source": [
    "### Estimación y residuales con Stan"
   ]
  },
  {
   "cell_type": "code",
   "execution_count": 1,
   "metadata": {},
   "outputs": [],
   "source": [
    "# Cargue librerias necesarias\n",
    "%matplotlib inline\n",
    "import matplotlib.pyplot as plt\n",
    "import numpy as np\n",
    "import pandas as pd\n",
    "import pystan"
   ]
  },
  {
   "cell_type": "code",
   "execution_count": 2,
   "metadata": {},
   "outputs": [
    {
     "data": {
      "text/html": [
       "<div>\n",
       "<style scoped>\n",
       "    .dataframe tbody tr th:only-of-type {\n",
       "        vertical-align: middle;\n",
       "    }\n",
       "\n",
       "    .dataframe tbody tr th {\n",
       "        vertical-align: top;\n",
       "    }\n",
       "\n",
       "    .dataframe thead th {\n",
       "        text-align: right;\n",
       "    }\n",
       "</style>\n",
       "<table border=\"1\" class=\"dataframe\">\n",
       "  <thead>\n",
       "    <tr style=\"text-align: right;\">\n",
       "      <th></th>\n",
       "      <th>Y</th>\n",
       "      <th>Volume</th>\n",
       "      <th>Razon</th>\n",
       "    </tr>\n",
       "  </thead>\n",
       "  <tbody>\n",
       "    <tr>\n",
       "      <th>0</th>\n",
       "      <td>1</td>\n",
       "      <td>3.70</td>\n",
       "      <td>0.825</td>\n",
       "    </tr>\n",
       "    <tr>\n",
       "      <th>1</th>\n",
       "      <td>1</td>\n",
       "      <td>3.50</td>\n",
       "      <td>1.090</td>\n",
       "    </tr>\n",
       "    <tr>\n",
       "      <th>2</th>\n",
       "      <td>1</td>\n",
       "      <td>1.25</td>\n",
       "      <td>2.500</td>\n",
       "    </tr>\n",
       "    <tr>\n",
       "      <th>3</th>\n",
       "      <td>1</td>\n",
       "      <td>0.75</td>\n",
       "      <td>1.500</td>\n",
       "    </tr>\n",
       "    <tr>\n",
       "      <th>4</th>\n",
       "      <td>1</td>\n",
       "      <td>0.80</td>\n",
       "      <td>3.200</td>\n",
       "    </tr>\n",
       "  </tbody>\n",
       "</table>\n",
       "</div>"
      ],
      "text/plain": [
       "   Y  Volume  Razon\n",
       "0  1    3.70  0.825\n",
       "1  1    3.50  1.090\n",
       "2  1    1.25  2.500\n",
       "3  1    0.75  1.500\n",
       "4  1    0.80  3.200"
      ]
     },
     "execution_count": 2,
     "metadata": {},
     "output_type": "execute_result"
    }
   ],
   "source": [
    "path ='./datos/'\n",
    "file ='pregibon.dat'\n",
    "pregibon = pd.read_csv(path+file, sep='\\s+',header=None)\n",
    "pregibon.columns = ['Y','Volume','Razon']\n",
    "pregibon.head()"
   ]
  },
  {
   "cell_type": "code",
   "execution_count": 4,
   "metadata": {},
   "outputs": [],
   "source": [
    "# data dictionary\n",
    "datLogit = {'N':pregibon.shape[0], 'K':3,'Y':np.array(pregibon['Y']),\n",
    "          'volume': np.array(pregibon['Volume']), \n",
    "          'razon': np.array(pregibon['Razon'])}"
   ]
  },
  {
   "cell_type": "code",
   "execution_count": 5,
   "metadata": {},
   "outputs": [],
   "source": [
    "#stan\n",
    "import pystan\n",
    "%load_ext stanmagic"
   ]
  },
  {
   "cell_type": "code",
   "execution_count": 6,
   "metadata": {},
   "outputs": [
    {
     "name": "stdout",
     "output_type": "stream",
     "text": [
      "Using pystan.stanc compiler..\n",
      "-------------------------------------------------------------------------------\n",
      "Model compiled successfully. Output stored in _stan_model object.\n",
      "Type _stan_model in a cell to see a nicely formatted code output in a notebook\n",
      "     ^^^^^^^^^^^\n",
      "Access model compile output properties\n",
      "_stan_model.model_file -> Name of stan_file [logit_reg_p1.stan]\n",
      "_stan_model.model_name -> Name of stan model [logit_reg_p1_model]\n",
      "_stan_model.model_code -> Model code [// Modelo de regresi ....]\n"
     ]
    }
   ],
   "source": [
    "%%stan -f logit_reg_p1.stan\n",
    "// Modelo de regresion Bernoulli  (modelo logistico)\n",
    "\n",
    "data{\n",
    " // number of observations\n",
    " int<lower=1> N;\n",
    " // dim regression parameter\n",
    " int<lower=1> K;\n",
    " // Observations\n",
    " int<lower=0> Y[N];\n",
    " // volume\n",
    " vector<lower=0>[N] volume;   \n",
    "  // razon\n",
    " vector<lower=0>[N] razon;     \n",
    " }\n",
    "\n",
    "transformed data{\n",
    "vector[N] log_vol;\n",
    "vector[N] log_razon;   \n",
    "//\n",
    "log_vol = log(volume);\n",
    "log_razon = log(razon);\n",
    "}\n",
    "\n",
    "parameters{\n",
    " vector[K]  beta;\n",
    "}\n",
    "\n",
    "model{\n",
    "// priors\n",
    "beta ~ normal(0,10);\n",
    "// likelihood   \n",
    "for (i in 1:N){\n",
    "   Y[i] ~ bernoulli_logit(beta[1] + beta[2]*log_vol[i] + beta[3]*log_razon[i]);\n",
    "}\n",
    "}\n",
    "\n",
    "\n",
    "generated quantities{\n",
    "  vector[N] residual;\n",
    "  vector[N] prob; \n",
    "  for (i in 1:N){\n",
    "      prob[i] = inv_logit(beta[1] + beta[2]*log_vol[i] + beta[3]*log_razon[i]);\n",
    "      residual[i] = (Y[i]-prob[i])/sqrt(prob[i]*(1-prob[i]));\n",
    "      }\n",
    "}"
   ]
  },
  {
   "cell_type": "code",
   "execution_count": null,
   "metadata": {},
   "outputs": [],
   "source": [
    "Observe que los residuales son calculados en la sección generated quantities"
   ]
  },
  {
   "cell_type": "code",
   "execution_count": 7,
   "metadata": {},
   "outputs": [
    {
     "name": "stderr",
     "output_type": "stream",
     "text": [
      "INFO:pystan:COMPILING THE C++ CODE FOR MODEL anon_model_f634e5664d2d6b3bcac408b60cd59f84 NOW.\n"
     ]
    }
   ],
   "source": [
    "logit_model_p1 = pystan.StanModel(file=_stan_model.model_file)"
   ]
  },
  {
   "cell_type": "code",
   "execution_count": 8,
   "metadata": {},
   "outputs": [],
   "source": [
    "# sampling\n",
    "logit_model_sample_p1 =logit_model_p1.sampling(data=datLogit, iter = 4000)"
   ]
  },
  {
   "cell_type": "code",
   "execution_count": 9,
   "metadata": {},
   "outputs": [
    {
     "name": "stdout",
     "output_type": "stream",
     "text": [
      "Inference for Stan model: anon_model_f634e5664d2d6b3bcac408b60cd59f84.\n",
      "4 chains, each with iter=4000; warmup=2000; thin=1; \n",
      "post-warmup draws per chain=2000, total post-warmup draws=8000.\n",
      "\n",
      "               mean se_mean     sd   2.5%    25%    50%    75%  97.5%  n_eff   Rhat\n",
      "beta[1]       -3.22    0.03   1.31  -6.12  -4.03  -3.07   -2.3  -1.05   1522    1.0\n",
      "beta[2]        5.85    0.05   1.89   2.73   4.48   5.63   6.99   10.0   1661    1.0\n",
      "beta[3]        5.11    0.05   1.84   2.12   3.77   4.91   6.25   9.23   1520    1.0\n",
      "residual[1]    0.23  2.6e-3   0.17   0.03   0.11   0.19   0.31   0.68   4281    1.0\n",
      "residual[2]    0.14  1.9e-3   0.11   0.02   0.06   0.11   0.18   0.42   3142    1.0\n",
      "residual[3]    0.28  2.5e-3   0.12   0.09   0.19   0.26   0.35   0.56   2582    1.0\n",
      "residual[4]    4.92    0.09   3.62   1.62   2.79   3.86   5.78  14.49   1464    1.0\n",
      "residual[5]    0.54  3.2e-3   0.23   0.19   0.38   0.51   0.67   1.07   5057    1.0\n",
      "residual[6]    0.64  3.8e-3    0.3   0.22   0.43   0.59    0.8   1.35   6140    1.0\n",
      "residual[7]   -0.04  1.2e-3   0.05  -0.19  -0.06  -0.03-9.6e-3-1.1e-3   1948    1.0\n",
      "residual[8]   -1.05  3.2e-3   0.26  -1.64   -1.2  -1.02  -0.87  -0.62   6691    1.0\n",
      "residual[9]   -0.11  2.1e-3   0.09  -0.35  -0.14  -0.08  -0.04-7.8e-3   1933    1.0\n",
      "residual[10]  -0.04  1.2e-3   0.06   -0.2  -0.05  -0.02-7.8e-3-7.8e-4   2060    1.0\n",
      "residual[11]  -0.05  1.3e-3   0.06  -0.21  -0.06  -0.03  -0.01-1.3e-3   1985    1.0\n",
      "residual[12]  -0.52  3.8e-3   0.25  -1.12  -0.65  -0.47  -0.34  -0.16   4509    1.0\n",
      "residual[13]  -0.82  4.3e-3   0.37  -1.71  -0.99  -0.75  -0.56   -0.3   7506    1.0\n",
      "residual[14]   0.24  2.3e-3   0.11   0.07   0.16   0.23   0.31   0.51   2453    1.0\n",
      "residual[15]   0.45  3.5e-3   0.23   0.13   0.29   0.41   0.58    1.0   4307    1.0\n",
      "residual[16]   0.15  1.9e-3    0.1   0.03   0.08   0.13    0.2   0.39   2517    1.0\n",
      "residual[17]   0.07  1.3e-3   0.07 6.2e-3   0.03   0.06    0.1   0.25   2510    1.0\n",
      "residual[18]   3.81    0.06   2.41   1.45   2.35   3.14   4.49  10.23   1470    1.0\n",
      "residual[19]  -1.17  6.7e-3   0.47   -2.3  -1.41  -1.08  -0.85  -0.53   4855    1.0\n",
      "residual[20]   0.23  2.2e-3   0.11   0.06   0.15   0.21   0.29   0.49   2556    1.0\n",
      "residual[21]  -0.12  2.0e-3    0.1  -0.37  -0.16  -0.09  -0.05  -0.01   2266    1.0\n",
      "residual[22]  -0.41  3.8e-3   0.17  -0.79  -0.51  -0.39  -0.29  -0.14   1967    1.0\n",
      "residual[23]  -1.07  4.4e-3   0.31  -1.79  -1.24  -1.03  -0.85  -0.59   5034    1.0\n",
      "residual[24]   -1.5  6.0e-3   0.47  -2.62  -1.73  -1.42  -1.17  -0.82   6254    1.0\n",
      "residual[25]   0.32  2.4e-3   0.13   0.12   0.23    0.3   0.39   0.61   2884    1.0\n",
      "residual[26]  -0.16  2.5e-3   0.11  -0.44  -0.21  -0.14  -0.08  -0.02   1935    1.0\n",
      "residual[27]   0.35  2.4e-3   0.14   0.13   0.25   0.33   0.43   0.67   3384    1.0\n",
      "residual[28]  -0.92  3.1e-3   0.24  -1.46  -1.06  -0.89  -0.75  -0.51   6048    1.0\n",
      "residual[29]   0.96  6.6e-3   0.43   0.37   0.66   0.89   1.16   2.01   4249    1.0\n",
      "residual[30]  -0.13  2.9e-3   0.14  -0.53  -0.17  -0.08  -0.04-6.2e-3   2402    1.0\n",
      "residual[31]   0.67  5.7e-3   0.41   0.17   0.39   0.59   0.85   1.68   5170    1.0\n",
      "residual[32]-7.9e-3  5.6e-4   0.03  -0.07-3.2e-3-4.4e-4-4.2e-5-2.3e-7   3577    1.0\n",
      "residual[33]  -1.27  3.4e-3   0.32  -2.01  -1.44  -1.23  -1.05  -0.77   8931    1.0\n",
      "residual[34]   0.53  2.3e-3   0.16   0.26   0.42   0.52   0.63   0.88   4719    1.0\n",
      "residual[35]   0.52  2.2e-3   0.15   0.26   0.42   0.51   0.62   0.86   4670    1.0\n",
      "residual[36]   0.49  3.2e-3   0.22   0.17   0.33   0.46   0.62   1.01   4571    1.0\n",
      "residual[37]  -0.92  3.1e-3   0.24  -1.46  -1.06  -0.89  -0.75  -0.51   6048    1.0\n",
      "residual[38]  -0.48  3.6e-3   0.18   -0.9  -0.59  -0.46  -0.35  -0.18   2620    1.0\n",
      "residual[39]    0.7  2.0e-3   0.18   0.39   0.57   0.68    0.8    1.1   7732    1.0\n",
      "\n",
      "Samples were drawn using NUTS at Wed May 13 12:10:44 2020.\n",
      "For each parameter, n_eff is a crude measure of effective sample size,\n",
      "and Rhat is the potential scale reduction factor on split chains (at \n",
      "convergence, Rhat=1).\n"
     ]
    }
   ],
   "source": [
    "#logit_model_sample_p1\n",
    "print(logit_model_sample_p1.stansummary([\"beta\", \"residual\"]))"
   ]
  },
  {
   "cell_type": "markdown",
   "metadata": {},
   "source": [
    "### Análisis exploratorio de los datos"
   ]
  },
  {
   "cell_type": "code",
   "execution_count": null,
   "metadata": {},
   "outputs": [],
   "source": [
    "Primero vamos a extraer la cadenas para generar algunos gráficos de los residuales."
   ]
  },
  {
   "cell_type": "code",
   "execution_count": 10,
   "metadata": {},
   "outputs": [],
   "source": [
    "residuals = logit_model_sample_p1.extract(['residual'])"
   ]
  },
  {
   "cell_type": "code",
   "execution_count": 11,
   "metadata": {},
   "outputs": [],
   "source": [
    "residuals = residuals['residual']"
   ]
  },
  {
   "cell_type": "code",
   "execution_count": 12,
   "metadata": {},
   "outputs": [
    {
     "data": {
      "text/plain": [
       "(8000, 39)"
      ]
     },
     "execution_count": 12,
     "metadata": {},
     "output_type": "execute_result"
    }
   ],
   "source": [
    "residuals.shape"
   ]
  },
  {
   "cell_type": "code",
   "execution_count": 13,
   "metadata": {},
   "outputs": [
    {
     "data": {
      "text/plain": [
       "array([[0.12741828, 0.09048963, 0.37258967, 3.92471487, 0.84235288],\n",
       "       [0.05104475, 0.03767305, 0.34184268, 5.41745969, 1.0907046 ],\n",
       "       [0.3752068 , 0.29985152, 0.53405986, 1.94847084, 0.77595163],\n",
       "       [0.13139218, 0.04357872, 0.06426887, 6.60048768, 0.13096037],\n",
       "       [0.28404869, 0.16216365, 0.26430795, 3.4158009 , 0.43374739],\n",
       "       [0.13122492, 0.07055722, 0.26231965, 7.7083358 , 0.64730739],\n",
       "       [0.09572539, 0.06880749, 0.27187282, 2.65190564, 0.59961136],\n",
       "       [0.57545823, 0.28860749, 0.28541988, 4.31611339, 0.39636163],\n",
       "       [0.08560778, 0.04234459, 0.16194645, 6.74939023, 0.42151029],\n",
       "       [0.45144425, 0.3047917 , 0.49833779, 3.32934799, 0.75523202]])"
      ]
     },
     "execution_count": 13,
     "metadata": {},
     "output_type": "execute_result"
    }
   ],
   "source": [
    "residuals[0:10,0:5]"
   ]
  },
  {
   "cell_type": "code",
   "execution_count": null,
   "metadata": {},
   "outputs": [],
   "source": [
    "# hace una tabla residual indice\n",
    "# indice del residual\n",
    "# sample size\n",
    "#sz = 8000\n",
    "# number of observations\n",
    "#no = 39\n",
    "#\n",
    "#id =[]\n",
    "#for i in range(0,no):\n",
    "#    ii = sz*[i]\n",
    "#    id+= ii\n",
    "#id = np.array(id)  \n",
    "#reshape residual\n",
    "#residuals =residuals.reshape(residuals.shape[0]*residuals.shape[1])\n",
    "# pega residuales e indice de la observación\n",
    "#data = np.vstack([residuals, id]).T"
   ]
  },
  {
   "cell_type": "code",
   "execution_count": 14,
   "metadata": {},
   "outputs": [
    {
     "data": {
      "image/png": "[encoded data removed]",
      "text/plain": [
       "<Figure size 1008x432 with 1 Axes>"
      ]
     },
     "metadata": {
      "needs_background": "light"
     },
     "output_type": "display_data"
    }
   ],
   "source": [
    "import matplotlib.pyplot as plt\n",
    "\n",
    "fig, ax = plt.subplots(figsize =(14,6))\n",
    "ax.set_ylim(-3, 3)\n",
    "plt.plot([0, 39], [0, 0], color='r', linestyle='-', linewidth=1)\n",
    "ax.boxplot(residuals)\n",
    "\n",
    "plt.show()\n"
   ]
  },
  {
   "cell_type": "code",
   "execution_count": 15,
   "metadata": {},
   "outputs": [
    {
     "data": {
      "text/html": [
       "<div>\n",
       "<style scoped>\n",
       "    .dataframe tbody tr th:only-of-type {\n",
       "        vertical-align: middle;\n",
       "    }\n",
       "\n",
       "    .dataframe tbody tr th {\n",
       "        vertical-align: top;\n",
       "    }\n",
       "\n",
       "    .dataframe thead th {\n",
       "        text-align: right;\n",
       "    }\n",
       "</style>\n",
       "<table border=\"1\" class=\"dataframe\">\n",
       "  <thead>\n",
       "    <tr style=\"text-align: right;\">\n",
       "      <th></th>\n",
       "      <th>count</th>\n",
       "      <th>mean</th>\n",
       "      <th>std</th>\n",
       "      <th>min</th>\n",
       "      <th>25%</th>\n",
       "      <th>50%</th>\n",
       "      <th>75%</th>\n",
       "      <th>max</th>\n",
       "    </tr>\n",
       "  </thead>\n",
       "  <tbody>\n",
       "    <tr>\n",
       "      <th>0</th>\n",
       "      <td>8000.0</td>\n",
       "      <td>0.232515</td>\n",
       "      <td>0.172580</td>\n",
       "      <td>0.006118</td>\n",
       "      <td>0.112600</td>\n",
       "      <td>0.188349</td>\n",
       "      <td>0.306851</td>\n",
       "      <td>1.471350e+00</td>\n",
       "    </tr>\n",
       "    <tr>\n",
       "      <th>1</th>\n",
       "      <td>8000.0</td>\n",
       "      <td>0.138602</td>\n",
       "      <td>0.106980</td>\n",
       "      <td>0.002610</td>\n",
       "      <td>0.062875</td>\n",
       "      <td>0.110017</td>\n",
       "      <td>0.184650</td>\n",
       "      <td>9.161396e-01</td>\n",
       "    </tr>\n",
       "    <tr>\n",
       "      <th>2</th>\n",
       "      <td>8000.0</td>\n",
       "      <td>0.279568</td>\n",
       "      <td>0.124754</td>\n",
       "      <td>0.020121</td>\n",
       "      <td>0.188724</td>\n",
       "      <td>0.262616</td>\n",
       "      <td>0.352734</td>\n",
       "      <td>1.074113e+00</td>\n",
       "    </tr>\n",
       "    <tr>\n",
       "      <th>3</th>\n",
       "      <td>8000.0</td>\n",
       "      <td>4.915605</td>\n",
       "      <td>3.619969</td>\n",
       "      <td>0.893192</td>\n",
       "      <td>2.791142</td>\n",
       "      <td>3.859945</td>\n",
       "      <td>5.777714</td>\n",
       "      <td>6.488744e+01</td>\n",
       "    </tr>\n",
       "    <tr>\n",
       "      <th>4</th>\n",
       "      <td>8000.0</td>\n",
       "      <td>0.540080</td>\n",
       "      <td>0.227765</td>\n",
       "      <td>0.061231</td>\n",
       "      <td>0.376274</td>\n",
       "      <td>0.506285</td>\n",
       "      <td>0.669893</td>\n",
       "      <td>2.133750e+00</td>\n",
       "    </tr>\n",
       "    <tr>\n",
       "      <th>5</th>\n",
       "      <td>8000.0</td>\n",
       "      <td>0.643413</td>\n",
       "      <td>0.295938</td>\n",
       "      <td>0.054904</td>\n",
       "      <td>0.432966</td>\n",
       "      <td>0.591855</td>\n",
       "      <td>0.800935</td>\n",
       "      <td>2.969504e+00</td>\n",
       "    </tr>\n",
       "    <tr>\n",
       "      <th>6</th>\n",
       "      <td>8000.0</td>\n",
       "      <td>-0.042576</td>\n",
       "      <td>0.051364</td>\n",
       "      <td>-0.613966</td>\n",
       "      <td>-0.055762</td>\n",
       "      <td>-0.025620</td>\n",
       "      <td>-0.009587</td>\n",
       "      <td>-3.841053e-05</td>\n",
       "    </tr>\n",
       "    <tr>\n",
       "      <th>7</th>\n",
       "      <td>8000.0</td>\n",
       "      <td>-1.053112</td>\n",
       "      <td>0.263075</td>\n",
       "      <td>-2.914953</td>\n",
       "      <td>-1.204761</td>\n",
       "      <td>-1.024386</td>\n",
       "      <td>-0.870264</td>\n",
       "      <td>-3.478282e-01</td>\n",
       "    </tr>\n",
       "    <tr>\n",
       "      <th>8</th>\n",
       "      <td>8000.0</td>\n",
       "      <td>-0.105264</td>\n",
       "      <td>0.093078</td>\n",
       "      <td>-0.935656</td>\n",
       "      <td>-0.142139</td>\n",
       "      <td>-0.078979</td>\n",
       "      <td>-0.038228</td>\n",
       "      <td>-7.609169e-04</td>\n",
       "    </tr>\n",
       "    <tr>\n",
       "      <th>9</th>\n",
       "      <td>8000.0</td>\n",
       "      <td>-0.042489</td>\n",
       "      <td>0.056496</td>\n",
       "      <td>-0.804040</td>\n",
       "      <td>-0.054098</td>\n",
       "      <td>-0.022125</td>\n",
       "      <td>-0.007798</td>\n",
       "      <td>-2.247494e-05</td>\n",
       "    </tr>\n",
       "    <tr>\n",
       "      <th>10</th>\n",
       "      <td>8000.0</td>\n",
       "      <td>-0.049098</td>\n",
       "      <td>0.059169</td>\n",
       "      <td>-0.744242</td>\n",
       "      <td>-0.063799</td>\n",
       "      <td>-0.028854</td>\n",
       "      <td>-0.010944</td>\n",
       "      <td>-5.707362e-05</td>\n",
       "    </tr>\n",
       "    <tr>\n",
       "      <th>11</th>\n",
       "      <td>8000.0</td>\n",
       "      <td>-0.517304</td>\n",
       "      <td>0.253918</td>\n",
       "      <td>-3.011227</td>\n",
       "      <td>-0.647643</td>\n",
       "      <td>-0.473639</td>\n",
       "      <td>-0.338039</td>\n",
       "      <td>-5.425918e-02</td>\n",
       "    </tr>\n",
       "    <tr>\n",
       "      <th>12</th>\n",
       "      <td>8000.0</td>\n",
       "      <td>-0.815440</td>\n",
       "      <td>0.374279</td>\n",
       "      <td>-5.764543</td>\n",
       "      <td>-0.991051</td>\n",
       "      <td>-0.746847</td>\n",
       "      <td>-0.559334</td>\n",
       "      <td>-1.381562e-01</td>\n",
       "    </tr>\n",
       "    <tr>\n",
       "      <th>13</th>\n",
       "      <td>8000.0</td>\n",
       "      <td>0.243336</td>\n",
       "      <td>0.114848</td>\n",
       "      <td>0.015457</td>\n",
       "      <td>0.158824</td>\n",
       "      <td>0.226269</td>\n",
       "      <td>0.309441</td>\n",
       "      <td>9.509765e-01</td>\n",
       "    </tr>\n",
       "    <tr>\n",
       "      <th>14</th>\n",
       "      <td>8000.0</td>\n",
       "      <td>0.451985</td>\n",
       "      <td>0.228485</td>\n",
       "      <td>0.032808</td>\n",
       "      <td>0.287537</td>\n",
       "      <td>0.410570</td>\n",
       "      <td>0.575000</td>\n",
       "      <td>2.183026e+00</td>\n",
       "    </tr>\n",
       "    <tr>\n",
       "      <th>15</th>\n",
       "      <td>8000.0</td>\n",
       "      <td>0.152368</td>\n",
       "      <td>0.095653</td>\n",
       "      <td>0.006146</td>\n",
       "      <td>0.082818</td>\n",
       "      <td>0.131900</td>\n",
       "      <td>0.200241</td>\n",
       "      <td>7.527342e-01</td>\n",
       "    </tr>\n",
       "    <tr>\n",
       "      <th>16</th>\n",
       "      <td>8000.0</td>\n",
       "      <td>0.074400</td>\n",
       "      <td>0.066121</td>\n",
       "      <td>0.000876</td>\n",
       "      <td>0.027986</td>\n",
       "      <td>0.055112</td>\n",
       "      <td>0.099696</td>\n",
       "      <td>5.844199e-01</td>\n",
       "    </tr>\n",
       "    <tr>\n",
       "      <th>17</th>\n",
       "      <td>8000.0</td>\n",
       "      <td>3.813460</td>\n",
       "      <td>2.405818</td>\n",
       "      <td>0.870154</td>\n",
       "      <td>2.347521</td>\n",
       "      <td>3.135192</td>\n",
       "      <td>4.487774</td>\n",
       "      <td>3.722708e+01</td>\n",
       "    </tr>\n",
       "    <tr>\n",
       "      <th>18</th>\n",
       "      <td>8000.0</td>\n",
       "      <td>-1.171521</td>\n",
       "      <td>0.466057</td>\n",
       "      <td>-7.017044</td>\n",
       "      <td>-1.405713</td>\n",
       "      <td>-1.080937</td>\n",
       "      <td>-0.850569</td>\n",
       "      <td>-2.039443e-01</td>\n",
       "    </tr>\n",
       "    <tr>\n",
       "      <th>19</th>\n",
       "      <td>8000.0</td>\n",
       "      <td>0.227561</td>\n",
       "      <td>0.111717</td>\n",
       "      <td>0.015022</td>\n",
       "      <td>0.146276</td>\n",
       "      <td>0.210087</td>\n",
       "      <td>0.290336</td>\n",
       "      <td>8.434052e-01</td>\n",
       "    </tr>\n",
       "    <tr>\n",
       "      <th>20</th>\n",
       "      <td>8000.0</td>\n",
       "      <td>-0.115019</td>\n",
       "      <td>0.097539</td>\n",
       "      <td>-1.062833</td>\n",
       "      <td>-0.155276</td>\n",
       "      <td>-0.089002</td>\n",
       "      <td>-0.045436</td>\n",
       "      <td>-9.151750e-04</td>\n",
       "    </tr>\n",
       "    <tr>\n",
       "      <th>21</th>\n",
       "      <td>8000.0</td>\n",
       "      <td>-0.412385</td>\n",
       "      <td>0.170352</td>\n",
       "      <td>-1.219331</td>\n",
       "      <td>-0.512634</td>\n",
       "      <td>-0.394690</td>\n",
       "      <td>-0.287401</td>\n",
       "      <td>-4.751363e-02</td>\n",
       "    </tr>\n",
       "    <tr>\n",
       "      <th>22</th>\n",
       "      <td>8000.0</td>\n",
       "      <td>-1.074304</td>\n",
       "      <td>0.313451</td>\n",
       "      <td>-4.060192</td>\n",
       "      <td>-1.242807</td>\n",
       "      <td>-1.032073</td>\n",
       "      <td>-0.854658</td>\n",
       "      <td>-2.892415e-01</td>\n",
       "    </tr>\n",
       "    <tr>\n",
       "      <th>23</th>\n",
       "      <td>8000.0</td>\n",
       "      <td>-1.495753</td>\n",
       "      <td>0.470657</td>\n",
       "      <td>-6.241279</td>\n",
       "      <td>-1.733204</td>\n",
       "      <td>-1.416017</td>\n",
       "      <td>-1.170211</td>\n",
       "      <td>-4.353340e-01</td>\n",
       "    </tr>\n",
       "    <tr>\n",
       "      <th>24</th>\n",
       "      <td>8000.0</td>\n",
       "      <td>0.316518</td>\n",
       "      <td>0.126589</td>\n",
       "      <td>0.031315</td>\n",
       "      <td>0.225579</td>\n",
       "      <td>0.301437</td>\n",
       "      <td>0.389216</td>\n",
       "      <td>9.778745e-01</td>\n",
       "    </tr>\n",
       "    <tr>\n",
       "      <th>25</th>\n",
       "      <td>8000.0</td>\n",
       "      <td>-0.161287</td>\n",
       "      <td>0.109840</td>\n",
       "      <td>-0.994082</td>\n",
       "      <td>-0.214621</td>\n",
       "      <td>-0.138377</td>\n",
       "      <td>-0.080122</td>\n",
       "      <td>-2.979278e-03</td>\n",
       "    </tr>\n",
       "    <tr>\n",
       "      <th>26</th>\n",
       "      <td>8000.0</td>\n",
       "      <td>0.347239</td>\n",
       "      <td>0.139419</td>\n",
       "      <td>0.040638</td>\n",
       "      <td>0.247939</td>\n",
       "      <td>0.328599</td>\n",
       "      <td>0.427403</td>\n",
       "      <td>1.010510e+00</td>\n",
       "    </tr>\n",
       "    <tr>\n",
       "      <th>27</th>\n",
       "      <td>8000.0</td>\n",
       "      <td>-0.915795</td>\n",
       "      <td>0.244029</td>\n",
       "      <td>-2.313039</td>\n",
       "      <td>-1.057550</td>\n",
       "      <td>-0.890261</td>\n",
       "      <td>-0.747597</td>\n",
       "      <td>-2.929081e-01</td>\n",
       "    </tr>\n",
       "    <tr>\n",
       "      <th>28</th>\n",
       "      <td>8000.0</td>\n",
       "      <td>0.958288</td>\n",
       "      <td>0.429841</td>\n",
       "      <td>0.104912</td>\n",
       "      <td>0.659695</td>\n",
       "      <td>0.888050</td>\n",
       "      <td>1.161217</td>\n",
       "      <td>5.607807e+00</td>\n",
       "    </tr>\n",
       "    <tr>\n",
       "      <th>29</th>\n",
       "      <td>8000.0</td>\n",
       "      <td>-0.130461</td>\n",
       "      <td>0.140313</td>\n",
       "      <td>-1.595457</td>\n",
       "      <td>-0.171824</td>\n",
       "      <td>-0.084563</td>\n",
       "      <td>-0.037731</td>\n",
       "      <td>-2.067329e-04</td>\n",
       "    </tr>\n",
       "    <tr>\n",
       "      <th>30</th>\n",
       "      <td>8000.0</td>\n",
       "      <td>0.674147</td>\n",
       "      <td>0.408631</td>\n",
       "      <td>0.033848</td>\n",
       "      <td>0.394298</td>\n",
       "      <td>0.587688</td>\n",
       "      <td>0.850798</td>\n",
       "      <td>5.048462e+00</td>\n",
       "    </tr>\n",
       "    <tr>\n",
       "      <th>31</th>\n",
       "      <td>8000.0</td>\n",
       "      <td>-0.007868</td>\n",
       "      <td>0.033524</td>\n",
       "      <td>-1.196778</td>\n",
       "      <td>-0.003209</td>\n",
       "      <td>-0.000439</td>\n",
       "      <td>-0.000042</td>\n",
       "      <td>-1.771691e-11</td>\n",
       "    </tr>\n",
       "    <tr>\n",
       "      <th>32</th>\n",
       "      <td>8000.0</td>\n",
       "      <td>-1.270867</td>\n",
       "      <td>0.321264</td>\n",
       "      <td>-4.358219</td>\n",
       "      <td>-1.444341</td>\n",
       "      <td>-1.229251</td>\n",
       "      <td>-1.049001</td>\n",
       "      <td>-4.853053e-01</td>\n",
       "    </tr>\n",
       "    <tr>\n",
       "      <th>33</th>\n",
       "      <td>8000.0</td>\n",
       "      <td>0.530831</td>\n",
       "      <td>0.159402</td>\n",
       "      <td>0.083981</td>\n",
       "      <td>0.419471</td>\n",
       "      <td>0.516561</td>\n",
       "      <td>0.627542</td>\n",
       "      <td>1.491091e+00</td>\n",
       "    </tr>\n",
       "    <tr>\n",
       "      <th>34</th>\n",
       "      <td>8000.0</td>\n",
       "      <td>0.523318</td>\n",
       "      <td>0.151531</td>\n",
       "      <td>0.085903</td>\n",
       "      <td>0.416309</td>\n",
       "      <td>0.511529</td>\n",
       "      <td>0.615027</td>\n",
       "      <td>1.410523e+00</td>\n",
       "    </tr>\n",
       "    <tr>\n",
       "      <th>35</th>\n",
       "      <td>8000.0</td>\n",
       "      <td>0.492990</td>\n",
       "      <td>0.219339</td>\n",
       "      <td>0.050267</td>\n",
       "      <td>0.334209</td>\n",
       "      <td>0.459342</td>\n",
       "      <td>0.616363</td>\n",
       "      <td>2.035196e+00</td>\n",
       "    </tr>\n",
       "    <tr>\n",
       "      <th>36</th>\n",
       "      <td>8000.0</td>\n",
       "      <td>-0.915795</td>\n",
       "      <td>0.244029</td>\n",
       "      <td>-2.313039</td>\n",
       "      <td>-1.057550</td>\n",
       "      <td>-0.890261</td>\n",
       "      <td>-0.747597</td>\n",
       "      <td>-2.929081e-01</td>\n",
       "    </tr>\n",
       "    <tr>\n",
       "      <th>37</th>\n",
       "      <td>8000.0</td>\n",
       "      <td>-0.479009</td>\n",
       "      <td>0.184838</td>\n",
       "      <td>-1.520576</td>\n",
       "      <td>-0.588200</td>\n",
       "      <td>-0.459009</td>\n",
       "      <td>-0.345386</td>\n",
       "      <td>-6.796470e-02</td>\n",
       "    </tr>\n",
       "    <tr>\n",
       "      <th>38</th>\n",
       "      <td>8000.0</td>\n",
       "      <td>0.696778</td>\n",
       "      <td>0.179474</td>\n",
       "      <td>0.168820</td>\n",
       "      <td>0.570439</td>\n",
       "      <td>0.681113</td>\n",
       "      <td>0.801168</td>\n",
       "      <td>1.758121e+00</td>\n",
       "    </tr>\n",
       "  </tbody>\n",
       "</table>\n",
       "</div>"
      ],
      "text/plain": [
       "     count      mean       std       min       25%       50%       75%  \\\n",
       "0   8000.0  0.232515  0.172580  0.006118  0.112600  0.188349  0.306851   \n",
       "1   8000.0  0.138602  0.106980  0.002610  0.062875  0.110017  0.184650   \n",
       "2   8000.0  0.279568  0.124754  0.020121  0.188724  0.262616  0.352734   \n",
       "3   8000.0  4.915605  3.619969  0.893192  2.791142  3.859945  5.777714   \n",
       "4   8000.0  0.540080  0.227765  0.061231  0.376274  0.506285  0.669893   \n",
       "5   8000.0  0.643413  0.295938  0.054904  0.432966  0.591855  0.800935   \n",
       "6   8000.0 -0.042576  0.051364 -0.613966 -0.055762 -0.025620 -0.009587   \n",
       "7   8000.0 -1.053112  0.263075 -2.914953 -1.204761 -1.024386 -0.870264   \n",
       "8   8000.0 -0.105264  0.093078 -0.935656 -0.142139 -0.078979 -0.038228   \n",
       "9   8000.0 -0.042489  0.056496 -0.804040 -0.054098 -0.022125 -0.007798   \n",
       "10  8000.0 -0.049098  0.059169 -0.744242 -0.063799 -0.028854 -0.010944   \n",
       "11  8000.0 -0.517304  0.253918 -3.011227 -0.647643 -0.473639 -0.338039   \n",
       "12  8000.0 -0.815440  0.374279 -5.764543 -0.991051 -0.746847 -0.559334   \n",
       "13  8000.0  0.243336  0.114848  0.015457  0.158824  0.226269  0.309441   \n",
       "14  8000.0  0.451985  0.228485  0.032808  0.287537  0.410570  0.575000   \n",
       "15  8000.0  0.152368  0.095653  0.006146  0.082818  0.131900  0.200241   \n",
       "16  8000.0  0.074400  0.066121  0.000876  0.027986  0.055112  0.099696   \n",
       "17  8000.0  3.813460  2.405818  0.870154  2.347521  3.135192  4.487774   \n",
       "18  8000.0 -1.171521  0.466057 -7.017044 -1.405713 -1.080937 -0.850569   \n",
       "19  8000.0  0.227561  0.111717  0.015022  0.146276  0.210087  0.290336   \n",
       "20  8000.0 -0.115019  0.097539 -1.062833 -0.155276 -0.089002 -0.045436   \n",
       "21  8000.0 -0.412385  0.170352 -1.219331 -0.512634 -0.394690 -0.287401   \n",
       "22  8000.0 -1.074304  0.313451 -4.060192 -1.242807 -1.032073 -0.854658   \n",
       "23  8000.0 -1.495753  0.470657 -6.241279 -1.733204 -1.416017 -1.170211   \n",
       "24  8000.0  0.316518  0.126589  0.031315  0.225579  0.301437  0.389216   \n",
       "25  8000.0 -0.161287  0.109840 -0.994082 -0.214621 -0.138377 -0.080122   \n",
       "26  8000.0  0.347239  0.139419  0.040638  0.247939  0.328599  0.427403   \n",
       "27  8000.0 -0.915795  0.244029 -2.313039 -1.057550 -0.890261 -0.747597   \n",
       "28  8000.0  0.958288  0.429841  0.104912  0.659695  0.888050  1.161217   \n",
       "29  8000.0 -0.130461  0.140313 -1.595457 -0.171824 -0.084563 -0.037731   \n",
       "30  8000.0  0.674147  0.408631  0.033848  0.394298  0.587688  0.850798   \n",
       "31  8000.0 -0.007868  0.033524 -1.196778 -0.003209 -0.000439 -0.000042   \n",
       "32  8000.0 -1.270867  0.321264 -4.358219 -1.444341 -1.229251 -1.049001   \n",
       "33  8000.0  0.530831  0.159402  0.083981  0.419471  0.516561  0.627542   \n",
       "34  8000.0  0.523318  0.151531  0.085903  0.416309  0.511529  0.615027   \n",
       "35  8000.0  0.492990  0.219339  0.050267  0.334209  0.459342  0.616363   \n",
       "36  8000.0 -0.915795  0.244029 -2.313039 -1.057550 -0.890261 -0.747597   \n",
       "37  8000.0 -0.479009  0.184838 -1.520576 -0.588200 -0.459009 -0.345386   \n",
       "38  8000.0  0.696778  0.179474  0.168820  0.570439  0.681113  0.801168   \n",
       "\n",
       "             max  \n",
       "0   1.471350e+00  \n",
       "1   9.161396e-01  \n",
       "2   1.074113e+00  \n",
       "3   6.488744e+01  \n",
       "4   2.133750e+00  \n",
       "5   2.969504e+00  \n",
       "6  -3.841053e-05  \n",
       "7  -3.478282e-01  \n",
       "8  -7.609169e-04  \n",
       "9  -2.247494e-05  \n",
       "10 -5.707362e-05  \n",
       "11 -5.425918e-02  \n",
       "12 -1.381562e-01  \n",
       "13  9.509765e-01  \n",
       "14  2.183026e+00  \n",
       "15  7.527342e-01  \n",
       "16  5.844199e-01  \n",
       "17  3.722708e+01  \n",
       "18 -2.039443e-01  \n",
       "19  8.434052e-01  \n",
       "20 -9.151750e-04  \n",
       "21 -4.751363e-02  \n",
       "22 -2.892415e-01  \n",
       "23 -4.353340e-01  \n",
       "24  9.778745e-01  \n",
       "25 -2.979278e-03  \n",
       "26  1.010510e+00  \n",
       "27 -2.929081e-01  \n",
       "28  5.607807e+00  \n",
       "29 -2.067329e-04  \n",
       "30  5.048462e+00  \n",
       "31 -1.771691e-11  \n",
       "32 -4.853053e-01  \n",
       "33  1.491091e+00  \n",
       "34  1.410523e+00  \n",
       "35  2.035196e+00  \n",
       "36 -2.929081e-01  \n",
       "37 -6.796470e-02  \n",
       "38  1.758121e+00  "
      ]
     },
     "execution_count": 15,
     "metadata": {},
     "output_type": "execute_result"
    }
   ],
   "source": [
    "import pandas as pd\n",
    "rp = pd.DataFrame(residuals)\n",
    "rp.describe().T"
   ]
  },
  {
   "cell_type": "markdown",
   "metadata": {},
   "source": [
    "## Ejemplo 2.  Modelo de regresión Gama"
   ]
  },
  {
   "cell_type": "markdown",
   "metadata": {},
   "source": [
    "En Stan la distribución Beta tiene la forma \n",
    "\n",
    "$$\n",
    "\\text{Gamma}(y|a,b) = \\frac{a^{b}}{\\Gamma(a)}{y^{a-1}\\exp(-b y)}\n",
    "$$\n",
    "\n",
    "Si $\\mu$ es la media de la distribución, se tiene que\n",
    "\n",
    "$$\n",
    "\\begin{align}\n",
    "\\mu &= \\frac{a}{b}\\\\\n",
    "\\sigma^2 &= \\frac{a}{b^2} = \\mu\\frac{1}{b}\n",
    "\\end{align}\n",
    "$$\n",
    "Sea $\\phi = \\frac{1}{\\sigma^2}$. Entonces $\\phi$ es el parámetro de precisión de cada grupo de turbinas.\n",
    "\n",
    "Por lo que podemos hacer la reparametrización\n",
    "\n",
    "$$\n",
    "\\begin{align}\n",
    "a &= \\phi\\mu^2 \\\\\n",
    "b &= \\phi\\mu\n",
    "\\end{align}\n",
    "$$\n"
   ]
  },
  {
   "cell_type": "markdown",
   "metadata": {},
   "source": [
    "Ahora bien. Supongamos que la matrix de datos es $y$ de tamaño $N\\times T$, en donde $N=10$ es el numéro de observaciones por tipo de turbina y $T=5$ es el número de turbinas.\n",
    "\n",
    "Sea $Y$ la matriz aleatoria del mismo tamaño, que corresponde a las variables aleatorias que generan los datos. Entonces se tiene que\n",
    "\n",
    "$$\n",
    "Y_{ij} \\sim \\text{Gamma}(\\phi_{ij}\\mu_{ij}^2, \\phi_{ij}\\mu_{ij}),\n",
    "$$\n",
    "\n",
    "en donde $\\phi_{ij}>0$ y $\\mu_{ij}>0$\n",
    "\n",
    "$$\n",
    "\\begin{align}\n",
    "\\phi_{ij}&= \\phi_j; \\quad i= 1,\\ldots,N; \\quad j= 1,\\ldots,T\\\\\n",
    "\\ln \\mu_{ij} &= \\mu + \\beta_j; \\quad i= 1,\\ldots,N;\\quad j= 1,\\ldots,T\n",
    "\\end{align}\n",
    "$$\n",
    "\n",
    "Es decir, asumimos un  parámetro de forma $\\phi_j>0$ por cada grupo de turbinas. Adicionalmente se usa la función de enlace $\\ln $, para garantizar que $\\mu_{ij}>0$. Adicionalmente se asume que cada  $\\phi_j>0$."
   ]
  },
  {
   "cell_type": "markdown",
   "metadata": {},
   "source": [
    "Por otro lado, existe un problema de identificabilidad, es decir infinitas soluciones, debido a que si $k$ es una constante cualquiera diferente de cero, se tiene que\n",
    "\n",
    "$$\n",
    "\\mu +\\beta_j = (\\mu+k) + (\\beta_j-k)\n",
    "$$\n",
    "\n",
    "En consecuencia es necesario definir una restricción en el modelo. Por ejemplo $\\mu=0$, o $\\beta_j=0$, para algún $j$. Haremos lo siguiente: $\\beta_1=0$.\n",
    "\n",
    "En consecuencia, ahora los parámetros por estimar son $\\phi$, el vector $\\beta = (\\beta_2,\\ldots,\\beta_T)'$ y $\\mu$.\n",
    "\n",
    "Lo que vamos a hacer es declarar digamos $\\beta_f$ como un vector de tamaño $T-1$ y dentro de la sección del modelo hacer lo siguiente\n"
   ]
  },
  {
   "cell_type": "markdown",
   "metadata": {},
   "source": [
    "## Implementación"
   ]
  },
  {
   "cell_type": "code",
   "execution_count": 16,
   "metadata": {},
   "outputs": [],
   "source": [
    "# Cargue librerias necesarias\n",
    "%matplotlib inline\n",
    "import matplotlib.pyplot as plt\n",
    "import numpy as np\n",
    "import pandas as pd\n",
    "import pystan\n",
    "import seaborn as sns"
   ]
  },
  {
   "cell_type": "code",
   "execution_count": 17,
   "metadata": {},
   "outputs": [
    {
     "data": {
      "text/html": [
       "<div>\n",
       "<style scoped>\n",
       "    .dataframe tbody tr th:only-of-type {\n",
       "        vertical-align: middle;\n",
       "    }\n",
       "\n",
       "    .dataframe tbody tr th {\n",
       "        vertical-align: top;\n",
       "    }\n",
       "\n",
       "    .dataframe thead th {\n",
       "        text-align: right;\n",
       "    }\n",
       "</style>\n",
       "<table border=\"1\" class=\"dataframe\">\n",
       "  <thead>\n",
       "    <tr style=\"text-align: right;\">\n",
       "      <th></th>\n",
       "      <th>T1</th>\n",
       "      <th>T2</th>\n",
       "      <th>T3</th>\n",
       "      <th>T4</th>\n",
       "      <th>T5</th>\n",
       "    </tr>\n",
       "  </thead>\n",
       "  <tbody>\n",
       "    <tr>\n",
       "      <th>0</th>\n",
       "      <td>3.03</td>\n",
       "      <td>3.19</td>\n",
       "      <td>3.46</td>\n",
       "      <td>5.88</td>\n",
       "      <td>6.43</td>\n",
       "    </tr>\n",
       "    <tr>\n",
       "      <th>1</th>\n",
       "      <td>5.53</td>\n",
       "      <td>4.26</td>\n",
       "      <td>5.22</td>\n",
       "      <td>6.74</td>\n",
       "      <td>9.97</td>\n",
       "    </tr>\n",
       "    <tr>\n",
       "      <th>2</th>\n",
       "      <td>5.60</td>\n",
       "      <td>4.47</td>\n",
       "      <td>5.69</td>\n",
       "      <td>6.90</td>\n",
       "      <td>10.39</td>\n",
       "    </tr>\n",
       "    <tr>\n",
       "      <th>3</th>\n",
       "      <td>9.30</td>\n",
       "      <td>4.53</td>\n",
       "      <td>6.54</td>\n",
       "      <td>6.98</td>\n",
       "      <td>13.55</td>\n",
       "    </tr>\n",
       "    <tr>\n",
       "      <th>4</th>\n",
       "      <td>9.92</td>\n",
       "      <td>4.67</td>\n",
       "      <td>9.16</td>\n",
       "      <td>7.21</td>\n",
       "      <td>14.45</td>\n",
       "    </tr>\n",
       "  </tbody>\n",
       "</table>\n",
       "</div>"
      ],
      "text/plain": [
       "     T1    T2    T3    T4     T5\n",
       "0  3.03  3.19  3.46  5.88   6.43\n",
       "1  5.53  4.26  5.22  6.74   9.97\n",
       "2  5.60  4.47  5.69  6.90  10.39\n",
       "3  9.30  4.53  6.54  6.98  13.55\n",
       "4  9.92  4.67  9.16  7.21  14.45"
      ]
     },
     "execution_count": 17,
     "metadata": {},
     "output_type": "execute_result"
    }
   ],
   "source": [
    "# lee los datos\n",
    "path ='./datos/'\n",
    "file ='turbina.dat'\n",
    "turbina = pd.read_csv(path+file, sep='\\s+',header=None) # para Stan\n",
    "datos = np.array(turbina) # para el boxplot\n",
    "turbina.columns = ['a','T1','c','T2','e','T3','g','T4','i','T5']\n",
    "turbina = turbina[['T1','T2','T3','T4','T5']]\n",
    "turbina.head()"
   ]
  },
  {
   "cell_type": "markdown",
   "metadata": {},
   "source": [
    "### Una primera mirada gráfica de los datos"
   ]
  },
  {
   "cell_type": "code",
   "execution_count": 18,
   "metadata": {},
   "outputs": [
    {
     "data": {
      "text/html": [
       "<div>\n",
       "<style scoped>\n",
       "    .dataframe tbody tr th:only-of-type {\n",
       "        vertical-align: middle;\n",
       "    }\n",
       "\n",
       "    .dataframe tbody tr th {\n",
       "        vertical-align: top;\n",
       "    }\n",
       "\n",
       "    .dataframe thead th {\n",
       "        text-align: right;\n",
       "    }\n",
       "</style>\n",
       "<table border=\"1\" class=\"dataframe\">\n",
       "  <thead>\n",
       "    <tr style=\"text-align: right;\">\n",
       "      <th></th>\n",
       "      <th>Tiempo</th>\n",
       "      <th>Tipo</th>\n",
       "    </tr>\n",
       "  </thead>\n",
       "  <tbody>\n",
       "    <tr>\n",
       "      <th>0</th>\n",
       "      <td>3.03</td>\n",
       "      <td>1.0</td>\n",
       "    </tr>\n",
       "    <tr>\n",
       "      <th>1</th>\n",
       "      <td>3.19</td>\n",
       "      <td>2.0</td>\n",
       "    </tr>\n",
       "    <tr>\n",
       "      <th>2</th>\n",
       "      <td>3.46</td>\n",
       "      <td>3.0</td>\n",
       "    </tr>\n",
       "    <tr>\n",
       "      <th>3</th>\n",
       "      <td>5.88</td>\n",
       "      <td>4.0</td>\n",
       "    </tr>\n",
       "    <tr>\n",
       "      <th>4</th>\n",
       "      <td>6.43</td>\n",
       "      <td>5.0</td>\n",
       "    </tr>\n",
       "  </tbody>\n",
       "</table>\n",
       "</div>"
      ],
      "text/plain": [
       "   Tiempo  Tipo\n",
       "0    3.03   1.0\n",
       "1    3.19   2.0\n",
       "2    3.46   3.0\n",
       "3    5.88   4.0\n",
       "4    6.43   5.0"
      ]
     },
     "execution_count": 18,
     "metadata": {},
     "output_type": "execute_result"
    }
   ],
   "source": [
    "datos = pd.DataFrame({\"Tiempo\":datos[:,np.arange(1,10,2)].reshape(5*10),\n",
    "         \"Tipo\":datos[:,np.arange(0,9,2)].reshape(5*10)})\n",
    "datos.head()"
   ]
  },
  {
   "cell_type": "code",
   "execution_count": 19,
   "metadata": {},
   "outputs": [
    {
     "data": {
      "image/png": "[encoded data removed]",
      "text/plain": [
       "<Figure size 720x504 with 1 Axes>"
      ]
     },
     "metadata": {
      "needs_background": "light"
     },
     "output_type": "display_data"
    }
   ],
   "source": [
    "fig =  plt.figure(figsize=(10,7))\n",
    "sns.boxplot(y=datos[\"Tiempo\"],x=datos[\"Tipo\"] )\n",
    "fig.suptitle('Gráficos boxplot por tipo de motor',fontsize=16)\n",
    "plt.show()"
   ]
  },
  {
   "cell_type": "markdown",
   "metadata": {},
   "source": [
    "El gráfico muestra que en cada grupo de turbinas los datos son en general asimétrico, lo que justifica en principio el modelo Gamma."
   ]
  },
  {
   "cell_type": "markdown",
   "metadata": {},
   "source": [
    "### Preparación de datos para Stan"
   ]
  },
  {
   "cell_type": "code",
   "execution_count": 20,
   "metadata": {},
   "outputs": [
    {
     "data": {
      "text/plain": [
       "{'Y': array([[ 3.03,  3.19,  3.46,  5.88,  6.43],\n",
       "        [ 5.53,  4.26,  5.22,  6.74,  9.97],\n",
       "        [ 5.6 ,  4.47,  5.69,  6.9 , 10.39],\n",
       "        [ 9.3 ,  4.53,  6.54,  6.98, 13.55],\n",
       "        [ 9.92,  4.67,  9.16,  7.21, 14.45],\n",
       "        [12.51,  4.69,  9.4 ,  8.14, 14.72],\n",
       "        [12.95,  5.78, 10.19,  8.59, 16.81],\n",
       "        [15.21,  6.79, 10.71,  9.8 , 18.39],\n",
       "        [16.04,  9.37, 12.58, 12.28, 20.84],\n",
       "        [16.84, 12.75, 13.41, 25.46, 21.51]]), 'N': 10, 'T': 5}"
      ]
     },
     "execution_count": 20,
     "metadata": {},
     "output_type": "execute_result"
    }
   ],
   "source": [
    "# matrix Y\n",
    "Y = np.array(turbina)\n",
    "N = np.shape(Y)[0]\n",
    "T = np.shape(Y)[1]\n",
    "\n",
    "# data\n",
    "dat ={'Y':Y, 'N':N,'T':T}\n",
    "dat"
   ]
  },
  {
   "cell_type": "markdown",
   "metadata": {},
   "source": [
    "### El modelo en Stan"
   ]
  },
  {
   "cell_type": "code",
   "execution_count": 21,
   "metadata": {},
   "outputs": [
    {
     "name": "stdout",
     "output_type": "stream",
     "text": [
      "The stanmagic extension is already loaded. To reload it, use:\n",
      "  %reload_ext stanmagic\n"
     ]
    }
   ],
   "source": [
    "# Magic STAN\n",
    "import pystan\n",
    "%load_ext stanmagic"
   ]
  },
  {
   "cell_type": "code",
   "execution_count": 22,
   "metadata": {},
   "outputs": [
    {
     "name": "stdout",
     "output_type": "stream",
     "text": [
      "Using pystan.stanc compiler..\n",
      "-------------------------------------------------------------------------------\n",
      "Model compiled successfully. Output stored in _stan_model object.\n",
      "Type _stan_model in a cell to see a nicely formatted code output in a notebook\n",
      "     ^^^^^^^^^^^\n",
      "Access model compile output properties\n",
      "_stan_model.model_file -> Name of stan_file [gamma_reg_p1.stan]\n",
      "_stan_model.model_name -> Name of stan model [gamma_reg_p1_model]\n",
      "_stan_model.model_code -> Model code [// Gamma log Linear  ....]\n"
     ]
    }
   ],
   "source": [
    "%%stan -f gamma_reg_p1.stan\n",
    "// Gamma log Linear Model for Y\n",
    "\n",
    "data{\n",
    " // number of observations\n",
    " int N;\n",
    " // number of turbines\n",
    " int T;\n",
    " // responses\n",
    " matrix[N,T] Y;\n",
    "}\n",
    "\n",
    "parameters{\n",
    " vector<lower=0>[T]  phi;\n",
    " vector[T-1] beta_f;\n",
    "  real mu;\n",
    "}\n",
    "\n",
    "model{\n",
    " vector[T] beta;\n",
    " matrix[N,T] mu_ij;\n",
    " \n",
    "\n",
    "# priors\n",
    "mu ~ normal(10,10);\n",
    "beta_f ~ normal(0,10);    \n",
    "phi ~ cauchy(0,10);\n",
    "\n",
    "# update beta\n",
    "beta[1] = 0;\n",
    "for (j in 2:(T)){\n",
    "    beta[j] = beta_f[j-1];\n",
    " }\n",
    "\n",
    "# likelihood   \n",
    "for (i in 1:N){\n",
    "    for (j in 1:T){\n",
    "      // means\n",
    "      //mu_ij[i,j] = exp(mu + beta[j]);\n",
    "      //mu_ij[i,j] = (mu_ij[i,j]>27)?27:mu_ij[i,j];\n",
    "      mu_ij[i,j] = (mu + beta[j]);\n",
    "      mu_ij[i,j] = (mu_ij[i,j]<0.01)?0.01:mu_ij[i,j];\n",
    "      //\n",
    "      Y[i,j] ~ gamma(phi[j]*(mu_ij[i,j])^2,phi[j]*mu_ij[i,j]);\n",
    "    }    \n",
    "  }    \n",
    "}\n",
    "\n",
    "generated quantities{\n",
    "  matrix[N,T] residual;\n",
    "  for (i in 1:N){\n",
    "      residual[i,1] = (Y[i,1]-(mu))*sqrt(phi[T]);\n",
    "      for (j in 2:(T)){\n",
    "      residual[i,j] = (Y[i,j]-(mu + beta_f[j-1]))*sqrt(phi[j]);\n",
    "      }\n",
    "  }\n",
    "}"
   ]
  },
  {
   "cell_type": "code",
   "execution_count": 23,
   "metadata": {},
   "outputs": [
    {
     "name": "stderr",
     "output_type": "stream",
     "text": [
      "INFO:pystan:COMPILING THE C++ CODE FOR MODEL anon_model_66cb6a5b298fc8b85045df95eab3e2fd NOW.\n"
     ]
    }
   ],
   "source": [
    "# compile\n",
    "gamma_model_p1 = pystan.StanModel(file=_stan_model.model_file)"
   ]
  },
  {
   "cell_type": "code",
   "execution_count": 24,
   "metadata": {},
   "outputs": [],
   "source": [
    "# Muestreo\n",
    "np.random.seed(127)\n",
    "gamma_model_sample_p1 = gamma_model_p1.sampling(data=dat, iter = 4000)"
   ]
  },
  {
   "cell_type": "code",
   "execution_count": 25,
   "metadata": {},
   "outputs": [
    {
     "name": "stdout",
     "output_type": "stream",
     "text": [
      "Inference for Stan model: anon_model_66cb6a5b298fc8b85045df95eab3e2fd.\n",
      "4 chains, each with iter=4000; warmup=2000; thin=1; \n",
      "post-warmup draws per chain=2000, total post-warmup draws=8000.\n",
      "\n",
      "            mean se_mean     sd   2.5%    25%    50%    75%  97.5%  n_eff   Rhat\n",
      "mu         10.55    0.03   1.52   7.86   9.51  10.45  11.46  13.89   1962    1.0\n",
      "beta_f[1]  -4.47    0.04   1.72  -8.04  -5.56  -4.39  -3.32  -1.33   2115    1.0\n",
      "beta_f[2]  -1.89    0.04   1.86  -5.68  -3.06  -1.82  -0.69    1.7   2420    1.0\n",
      "beta_f[3]  -0.75    0.04   2.05  -4.83  -2.05  -0.75   0.59   3.36   2483    1.0\n",
      "beta_f[4]   4.02    0.04   2.16  -0.26   2.63   4.03   5.41   8.33   2620    1.0\n",
      "phi[1]      0.04  3.2e-4   0.02   0.01   0.03   0.04   0.06   0.09   4145    1.0\n",
      "phi[2]      0.19  1.0e-3   0.09   0.05   0.12   0.18   0.24   0.41   7809    1.0\n",
      "phi[3]       0.1  5.1e-4   0.05   0.03   0.07   0.09   0.13   0.21   8297    1.0\n",
      "phi[4]      0.06  3.4e-4   0.03   0.02   0.04   0.06   0.08   0.13   7318    1.0\n",
      "phi[5]      0.05  2.4e-4   0.02   0.02   0.03   0.04   0.06    0.1   7737    1.0\n",
      "\n",
      "Samples were drawn using NUTS at Wed May 13 12:12:38 2020.\n",
      "For each parameter, n_eff is a crude measure of effective sample size,\n",
      "and Rhat is the potential scale reduction factor on split chains (at \n",
      "convergence, Rhat=1).\n"
     ]
    }
   ],
   "source": [
    "print(gamma_model_sample_p1.stansummary([\"mu\",\"beta_f\",\"phi\"]))"
   ]
  },
  {
   "cell_type": "code",
   "execution_count": 26,
   "metadata": {},
   "outputs": [],
   "source": [
    "residuals = gamma_model_sample_p1.extract(['residual'])"
   ]
  },
  {
   "cell_type": "code",
   "execution_count": 27,
   "metadata": {},
   "outputs": [],
   "source": [
    "residuals = residuals['residual']\n",
    "residuals = residuals.reshape([residuals.shape[0],residuals.shape[1]*residuals.shape[2]])"
   ]
  },
  {
   "cell_type": "code",
   "execution_count": 28,
   "metadata": {},
   "outputs": [
    {
     "data": {
      "image/png": "[encoded data removed]",
      "text/plain": [
       "<Figure size 1008x432 with 1 Axes>"
      ]
     },
     "metadata": {
      "needs_background": "light"
     },
     "output_type": "display_data"
    }
   ],
   "source": [
    "import matplotlib.pyplot as plt\n",
    "\n",
    "fig, ax = plt.subplots(figsize =(14,6))\n",
    "ax.set_ylim(-3, 3)\n",
    "plt.plot([1, 50], [0, 0], color='r', linestyle='-', linewidth=1)\n",
    "ax.boxplot(residuals)\n",
    "\n",
    "plt.show()\n"
   ]
  },
  {
   "cell_type": "markdown",
   "metadata": {},
   "source": [
    "# Tarea "
   ]
  },
  {
   "cell_type": "markdown",
   "metadata": {},
   "source": [
    "1. Para cada uno de los modelos de la [tarea anterior ](./Modelos_Bayesianos_Regresion.ipynb) complete los programas Stan para calcular los residuales Bayesianos. Haga una discusión de los resultados."
   ]
  },
  {
   "cell_type": "code",
   "execution_count": null,
   "metadata": {},
   "outputs": [],
   "source": []
  }
 ],
 "metadata": {
  "kernelspec": {
   "display_name": "Python 3",
   "language": "python",
   "name": "python3"
  },
  "language_info": {
   "codemirror_mode": {
    "name": "ipython",
    "version": 3
   },
   "file_extension": ".py",
   "mimetype": "text/x-python",
   "name": "python",
   "nbconvert_exporter": "python",
   "pygments_lexer": "ipython3",
   "version": "3.7.7"
  }
 },
 "nbformat": 4,
 "nbformat_minor": 4
}
