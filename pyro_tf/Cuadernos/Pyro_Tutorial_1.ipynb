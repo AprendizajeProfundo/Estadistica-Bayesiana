{
 "cells": [
  {
   "cell_type": "markdown",
   "metadata": {},
   "source": [
    "# <span style=\"color:#F72585\"><center>Tutorial Pyro</center></span>\n"
   ]
  },
  {
   "cell_type": "markdown",
   "metadata": {},
   "source": [
    "## <span style=\"color:#4361EE\">Introducción</span>\n"
   ]
  },
  {
   "cell_type": "markdown",
   "metadata": {},
   "source": [
    "Se introducen los elementos esenciales del uso de Pyro. En este cuaderno usamos el ejemplo de 8 escuelas (eight schools) que utilizamos en el primer ejemplo de Pyro en este curso."
   ]
  },
  {
   "cell_type": "markdown",
   "metadata": {},
   "source": [
    "## <span style=\"color:#4361EE\">Primitives</span>"
   ]
  },
  {
   "cell_type": "markdown",
   "metadata": {},
   "source": [
    "Uno de los objetivos de Pyro es lograr que el código sea lo más elegante e intuitivo posible, las `primitives` buscan alcanzar ese objetivo, entre ellas encontramos:\n",
    "\n",
    "- `pyro.sample`: Guarda en Python un generador de números aleatorios sobre la distribución o función que se le indique. El resultado de esta declaración es un tensor de Pytorch. \n",
    "\n",
    "Es posible ajustar los parámetros de la distribución a los datos que tenemos disponibles por medio de `obs`.\n",
    "\n"
   ]
  },
  {
   "cell_type": "markdown",
   "metadata": {},
   "source": [
    "````{tab} Pyro\n",
    "```python\n",
    "x = pyro.sample('data',dist.Normal(0,1),obs=data)\n",
    "```\n",
    "````\n"
   ]
  },
  {
   "cell_type": "markdown",
   "metadata": {},
   "source": [
    "-`pyro.param`: Permite registrar parámetros que se pueden aprender. Indicamos un nombre y un valor inicial que por lo general se usa solo la primera vez antes de iniciar un proceso de aprendizaje. El argumento `constraint` nos permite restringir nuestro parámetro a los valores que consideremos convenientes \n"
   ]
  },
  {
   "cell_type": "markdown",
   "metadata": {},
   "source": [
    "````{tab} Pyro\n",
    "```python\n",
    "y = pyro.param('y',torch.ones(5), constraint=positive)\n",
    "\n",
    "```\n",
    "````\n"
   ]
  },
  {
   "cell_type": "markdown",
   "metadata": {},
   "source": [
    "-`pyro.plate`: Se usa para indicar que dos variables son condicionalmente independientes o que son 'intercambiables'. Podemos usar esta declaración de dos maneras distintas:"
   ]
  },
  {
   "cell_type": "markdown",
   "metadata": {},
   "source": [
    "````{tab} Pyro\n",
    "```python\n",
    "with pyro.plate('data'),len(data),batch_size) as ids:\n",
    "    pyro.sample('data',fun(x),obs=data[ids])\n",
    "```\n",
    "````\n"
   ]
  },
  {
   "cell_type": "markdown",
   "metadata": {},
   "source": [
    "En este caso podemos generar múltiples muestras en paralelo a partir de múltiples datos. Es decir, nos permite tener grandes lotes de datos y operar en paralelo sobre cada uno de ellos. En ocasiones buscamos una estructura más dinámica y recorrer secuencialmente cada elemento del lote, para esto usamos:"
   ]
  },
  {
   "cell_type": "markdown",
   "metadata": {},
   "source": [
    "````{tab} Pyro\n",
    "```python\n",
    "for i in pyro.plate('data'),len(data),batch_size) as ids:\n",
    "    pyro.sample('data',fun(x),obs=data[ids])\n",
    "```\n",
    "````\n"
   ]
  },
  {
   "cell_type": "markdown",
   "metadata": {},
   "source": [
    "## <span style=\"color:#4361EE\">El modelo estadístico para este tutorial</span>\n"
   ]
  },
  {
   "cell_type": "markdown",
   "metadata": {},
   "source": [
    "Supongamos que tenemos observaciones $[y_n |x_n], n=1,\\ldots,N$, y asumamos el modelo Bayesiano. \n",
    "\n",
    "**Modelo con efectos aleatorios**\n",
    "\n",
    "- Estima los hiperparámetros $\\mu$ and $\\tau$\n",
    "- Predice los efectos aleatorios $\\eta_i$\n",
    "\n",
    "\n",
    "$$\n",
    "\\begin{align}\n",
    "y_i &\\sim \\mathcal{N}(\\theta_i,\\sigma_i^2), \\text{ known } \\sigma_i^2\\\\\n",
    "\\theta_i & = \\mu + \\tau \\times \\eta_i \\\\\n",
    "\\eta_i &\\sim \\mathcal{N}(0, 1)\\\\\n",
    "\\mu &\\propto 1\\\\\n",
    "\\tau &\\propto 1\n",
    "\\end{align}\n",
    "$$\n"
   ]
  },
  {
   "cell_type": "markdown",
   "metadata": {},
   "source": [
    "### <span style=\"color:#4CC9F0\">Los datos</span>\n"
   ]
  },
  {
   "cell_type": "markdown",
   "metadata": {},
   "source": [
    "Los datos corresponden a la estimación (estandarizada) de un puntaje realizada en las ocho escuelas observadas. Este ejemplo es tratado en {cite}`gelman1995bayesian`\n",
    "\n",
    "\n",
    "```{table}\n",
    "|School |Estim. Treatment Effect | Estim. Stand. Error |\n",
    "|---|---|---|\n",
    "|A |28| 15|\n",
    "|B |8 |10|\n",
    "|C| -3| 16|\n",
    "|D| 7| 11|\n",
    "|E| -1 |9|\n",
    "|F| 1| 11|\n",
    "|G |18| 10|\n",
    "|H| 12| 18|\n",
    "```"
   ]
  },
  {
   "cell_type": "code",
   "execution_count": 28,
   "metadata": {},
   "outputs": [],
   "source": [
    "# Importamos las librerías necesarias\n",
    "import matplotlib.pyplot as plt\n",
    "import numpy as np\n",
    "import seaborn as sns\n",
    "import pandas as pd\n",
    "\n",
    "import os\n",
    "import torch\n",
    "import torch.nn.functional as F\n",
    "import pyro\n",
    "import pyro.distributions as dist\n",
    "import pyro.poutine as poutine\n",
    "from pyro.infer import MCMC, NUTS\n",
    "import pyro.distributions.constraints as constraints\n",
    "from pyro.optim import Adam\n",
    "from pyro.infer import SVI, Trace_ELBO"
   ]
  },
  {
   "cell_type": "markdown",
   "metadata": {},
   "source": []
  },
  {
   "cell_type": "code",
   "execution_count": 11,
   "metadata": {},
   "outputs": [
    {
     "data": {
      "text/plain": [
       "{'J': 8,\n",
       " 'y': tensor([28.,  8., -3.,  7., -1.,  1., 18., 12.]),\n",
       " 'sigma': tensor([15., 10., 16., 11.,  9., 11., 10., 18.])}"
      ]
     },
     "execution_count": 11,
     "metadata": {},
     "output_type": "execute_result"
    }
   ],
   "source": [
    "# Los datos\n",
    "J = 8 #Número de escuelas\n",
    "y = torch.tensor([28, 8, -3, 7, -1, 1, 18, 12]).type(torch.Tensor) #Estimaciones de los efectos del tratamiento\n",
    "sigma = torch.tensor([15, 10, 16, 11, 9, 11, 10, 18]).type(torch.Tensor) #Estimacion de la desviacion de los efectos del tratamiento\n",
    "schools = np.array(['Choate', 'Deerfield', 'Phillips Andover', 'Phillips Exeter',\n",
    "                    'Hotchkiss', 'Lawrenceville', \"St. Paul's\", 'Mt. Hermon'])\n",
    "\n",
    "schools_dat = {'J': J,\n",
    "               'y': y,\n",
    "               'sigma': sigma}\n",
    "schools_dat "
   ]
  },
  {
   "cell_type": "markdown",
   "metadata": {},
   "source": [
    "## <span style=\"color:#4361EE\">Implementación del modelo estadístico en Pyro</span>"
   ]
  },
  {
   "cell_type": "markdown",
   "metadata": {},
   "source": [
    "### <span style=\"color:#4CC9F0\">Modelo</span>"
   ]
  },
  {
   "cell_type": "code",
   "execution_count": 20,
   "metadata": {},
   "outputs": [],
   "source": [
    "def model(J,y,sigma):\n",
    "    tau = torch.ones(J)\n",
    "    mu = torch.ones(J)\n",
    "    eta = pyro.sample('eta',dist.Normal(torch.zeros(J),torch.ones(J)))\n",
    "    thetas = mu + tau*eta\n",
    "    with pyro.plate(\"plate\"):\n",
    "        pyro.sample(\"y\",dist.Normal(thetas,sigma),obs=y)   "
   ]
  },
  {
   "cell_type": "code",
   "execution_count": 21,
   "metadata": {},
   "outputs": [
    {
     "data": {
      "image/svg+xml": "<?xml version=\"1.0\" encoding=\"UTF-8\" standalone=\"no\"?>\n<!DOCTYPE svg PUBLIC \"-//W3C//DTD SVG 1.1//EN\"\n \"http://www.w3.org/Graphics/SVG/1.1/DTD/svg11.dtd\">\n<!-- Generated by graphviz version 3.0.0 (20220226.1711)\n -->\n<!-- Pages: 1 -->\n<svg width=\"186pt\" height=\"157pt\"\n viewBox=\"0.00 0.00 185.50 157.00\" xmlns=\"http://www.w3.org/2000/svg\" xmlns:xlink=\"http://www.w3.org/1999/xlink\">\n<g id=\"graph0\" class=\"graph\" transform=\"scale(1 1) rotate(0) translate(4 153)\">\n<polygon fill=\"white\" stroke=\"transparent\" points=\"-4,4 -4,-153 181.5,-153 181.5,4 -4,4\"/>\n<g id=\"clust1\" class=\"cluster\">\n<title>cluster_plate</title>\n<polygon fill=\"none\" stroke=\"black\" points=\"8,-8 8,-83 78,-83 78,-8 8,-8\"/>\n<text text-anchor=\"middle\" x=\"56.5\" y=\"-15.8\" font-family=\"Times New Roman,serif\" font-size=\"14.00\">plate</text>\n</g>\n<!-- eta -->\n<g id=\"node1\" class=\"node\">\n<title>eta</title>\n<ellipse fill=\"white\" stroke=\"black\" cx=\"43\" cy=\"-130\" rx=\"27\" ry=\"18\"/>\n<text text-anchor=\"middle\" x=\"43\" y=\"-126.3\" font-family=\"Times New Roman,serif\" font-size=\"14.00\">eta</text>\n</g>\n<!-- y -->\n<g id=\"node2\" class=\"node\">\n<title>y</title>\n<ellipse fill=\"grey\" stroke=\"black\" cx=\"43\" cy=\"-57\" rx=\"27\" ry=\"18\"/>\n<text text-anchor=\"middle\" x=\"43\" y=\"-53.3\" font-family=\"Times New Roman,serif\" font-size=\"14.00\">y</text>\n</g>\n<!-- eta&#45;&gt;y -->\n<g id=\"edge1\" class=\"edge\">\n<title>eta&#45;&gt;y</title>\n<path fill=\"none\" stroke=\"black\" d=\"M43,-111.81C43,-103.79 43,-94.05 43,-85.07\"/>\n<polygon fill=\"black\" stroke=\"black\" points=\"46.5,-85.03 43,-75.03 39.5,-85.03 46.5,-85.03\"/>\n</g>\n<!-- distribution_description_node -->\n<g id=\"node3\" class=\"node\">\n<title>distribution_description_node</title>\n<text text-anchor=\"start\" x=\"96.5\" y=\"-133.8\" font-family=\"Times New Roman,serif\" font-size=\"14.00\">eta ~ Normal</text>\n<text text-anchor=\"start\" x=\"96.5\" y=\"-118.8\" font-family=\"Times New Roman,serif\" font-size=\"14.00\">y ~ Normal</text>\n</g>\n</g>\n</svg>\n",
      "text/plain": [
       "<graphviz.graphs.Digraph at 0x226a3bed310>"
      ]
     },
     "execution_count": 21,
     "metadata": {},
     "output_type": "execute_result"
    }
   ],
   "source": [
    "pyro.render_model(model,model_args=(J,y,sigma),render_distributions=True)"
   ]
  },
  {
   "cell_type": "markdown",
   "metadata": {},
   "source": [
    "En este código los prámetros que serán muestreados son los $\\eta_i$ (*eta*) que son los efectos aleatorios en el modelo. Las medias $\\theta_i$ de las escuelas son calculados. Es decir, son funcionales de los parámetros."
   ]
  },
  {
   "cell_type": "markdown",
   "metadata": {},
   "source": [
    "### <span style=\"color:#4CC9F0\">Guide</span>\n"
   ]
  },
  {
   "cell_type": "markdown",
   "metadata": {},
   "source": [
    "En `guide` introduciremos una distribución variacional que contenga los parámetros variacionales. Con esta distribución buscamos llegar a la mejor aproximación de la posterior"
   ]
  },
  {
   "cell_type": "markdown",
   "metadata": {},
   "source": [
    "```{admonition} Importante\n",
    ":class: hint\n",
    "Tenga en cuenta que si el modelo contiene una variable `pyro.sample('z_1',...)`, la guía necesita tener una variable `pyro.sample('z_1',...)`. No es necesario que ambas variables sigan la misma distribución o valor inicial, pero sí que tengan el mismo nombre y pertenezcan al mismo 'primitive' \n",
    "```\n"
   ]
  },
  {
   "cell_type": "code",
   "execution_count": 22,
   "metadata": {},
   "outputs": [],
   "source": [
    "def guide_model(J,y,sigma):\n",
    "    tau__0 = pyro.param('tau_0',torch.ones(J), constraint=constraints.positive)\n",
    "    mu_0 = pyro.param('mu_0',torch.ones(J))\n",
    "    pyro.sample('eta',dist.Normal(torch.zeros(J),torch.ones(J)))\n",
    "    "
   ]
  },
  {
   "cell_type": "markdown",
   "metadata": {},
   "source": [
    "## <span style=\"color:#4361EE\">Compilación del modelo</span>\n"
   ]
  },
  {
   "cell_type": "markdown",
   "metadata": {},
   "source": [
    "`NUTS` es una herramienta para hacer inferencia bayesiana usando 'No-U-Turn Sampler' {cite}`hoffman2014nuts`. `MCMC` hace referencia a Markov chain Monte Carlo. En este caso lo usaremos para acceder a los algoritmos de inferencia MCMC disponibles en Pyro."
   ]
  },
  {
   "cell_type": "code",
   "execution_count": 23,
   "metadata": {},
   "outputs": [
    {
     "name": "stderr",
     "output_type": "stream",
     "text": [
      "Sample: 100%|██████████| 800/800 [00:24, 32.73it/s, step size=7.08e-01, acc. prob=0.903]\n"
     ]
    }
   ],
   "source": [
    "nuts_kernel = NUTS(model, adapt_step_size=True)\n",
    "mcmc = MCMC(nuts_kernel, num_samples=500, warmup_steps=300)\n",
    "mcmc.run(J,y,sigma)"
   ]
  },
  {
   "cell_type": "code",
   "execution_count": 24,
   "metadata": {},
   "outputs": [
    {
     "name": "stdout",
     "output_type": "stream",
     "text": [
      "\n",
      "                mean       std    median     25.0%     75.0%     n_eff     r_hat\n",
      "    eta[0]      0.08      1.01      0.08     -0.48      0.72    748.38      1.00\n",
      "    eta[1]      0.06      0.93      0.03     -0.46      0.74    809.28      1.00\n",
      "    eta[2]     -0.03      1.03     -0.01     -0.60      0.78    819.37      1.00\n",
      "    eta[3]      0.06      0.99     -0.00     -0.81      0.53    990.00      1.00\n",
      "    eta[4]     -0.05      1.06     -0.03     -0.82      0.43   1031.35      1.00\n",
      "    eta[5]      0.01      0.96      0.03     -0.89      0.45    728.41      1.00\n",
      "    eta[6]      0.17      0.93      0.18     -0.35      0.75    797.50      1.00\n",
      "    eta[7]      0.02      0.89     -0.01     -0.62      0.43    837.12      1.00\n",
      "\n",
      "Number of divergences: 0\n"
     ]
    }
   ],
   "source": [
    " mcmc.summary(prob=0.5)\n"
   ]
  },
  {
   "cell_type": "markdown",
   "metadata": {},
   "source": [
    "Una vez el modelo es compilado, se pueden generar muestras cuando se desee."
   ]
  },
  {
   "cell_type": "code",
   "execution_count": 16,
   "metadata": {},
   "outputs": [
    {
     "data": {
      "text/plain": [
       "{'eta': tensor([[-1.0944,  1.4402,  0.5232,  ..., -0.3845,  0.2448, -0.0706],\n",
       "         [ 1.1940, -2.1953, -0.1871,  ...,  0.1124,  0.6073,  0.0705],\n",
       "         [ 0.9881, -0.2422, -1.3316,  ...,  0.1053,  0.0171, -1.0768],\n",
       "         ...,\n",
       "         [-0.0374,  0.6343, -0.2479,  ..., -1.1761,  0.9502,  1.5435],\n",
       "         [-1.8467, -1.8912,  0.7523,  ..., -1.0602,  1.0763, -0.3157],\n",
       "         [ 1.6580,  2.0001, -0.8659,  ...,  1.2931, -0.9664,  0.6077]])}"
      ]
     },
     "execution_count": 16,
     "metadata": {},
     "output_type": "execute_result"
    }
   ],
   "source": [
    "samples=mcmc.get_samples()\n",
    "samples"
   ]
  },
  {
   "cell_type": "markdown",
   "metadata": {},
   "source": [
    "## <span style=\"color:#4361EE\">Optimización del modelo</span>\n"
   ]
  },
  {
   "cell_type": "markdown",
   "metadata": {},
   "source": [
    "Para la optimización del modelo usaremos Adam (Adaptative moment estimation)"
   ]
  },
  {
   "cell_type": "code",
   "execution_count": 29,
   "metadata": {},
   "outputs": [],
   "source": [
    "adam_params = {\"lr\": 0.0005, \"betas\": (0.90, 0.999)}\n",
    "optimizer = Adam(adam_params)\n",
    "#Fijamos el algoritmo de inferencia con base el el modelo optimizado\n",
    "svi = SVI(model, guide_model, optimizer, loss=Trace_ELBO())"
   ]
  }
 ],
 "metadata": {
  "interpreter": {
   "hash": "2647ea34e536f865ab67ff9ddee7fd78773d956cec0cab53c79b32cd10da5d83"
  },
  "kernelspec": {
   "display_name": "Python 3.9.3 64-bit",
   "language": "python",
   "name": "python3"
  },
  "language_info": {
   "codemirror_mode": {
    "name": "ipython",
    "version": 3
   },
   "file_extension": ".py",
   "mimetype": "text/x-python",
   "name": "python",
   "nbconvert_exporter": "python",
   "pygments_lexer": "ipython3",
   "version": "3.9.3"
  },
  "orig_nbformat": 4
 },
 "nbformat": 4,
 "nbformat_minor": 2
}
