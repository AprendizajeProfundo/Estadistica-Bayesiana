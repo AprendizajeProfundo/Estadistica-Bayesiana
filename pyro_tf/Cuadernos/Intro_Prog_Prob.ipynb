{
 "cells": [
  {
   "cell_type": "markdown",
   "metadata": {},
   "source": [
    "# <span style=\"color:#F72585\"><center>Introducción a la Programación Probabilística</center></span>"
   ]
  },
  {
   "cell_type": "markdown",
   "metadata": {},
   "source": [
    "## <span style=\"color:#4361EE\">¿Qué es?</span> "
   ]
  },
  {
   "cell_type": "markdown",
   "metadata": {},
   "source": [
    "La programación probabilística nos ayuda a crear modelos probabilísticos y hacer inferencia a partir de ellos de manera automática. "
   ]
  },
  {
   "cell_type": "markdown",
   "metadata": {},
   "source": [
    "## <span style=\"color:#4361EE\">Motivación para y la Programación Probabilística</span> "
   ]
  },
  {
   "cell_type": "markdown",
   "metadata": {},
   "source": [
    "1. **Ajustar modelos estadísticos Bayesianos poderosos** \n",
    "2. **El Proceso**: *A)Crea un modelo estadístico; B) Corre la inferencia del modelo; C) Evalúa;*\n",
    "3. **Dificultades con las herramientas existentes para abordar los modelos de interés actuales** \n",
    "4. **Usabilidad**: *proósito general, Lenguaje de modelamiento claro, integración*\n",
    "5. **Escalabilidad**: *Complejidad del modelo, número de parámetros, tamaño de los datos*\n",
    "6. **Eficiencia**: *Tamaños de muestra altamente efectivos, iteraciones rápidas, baja memoria*\n",
    "7. **Robustez**: *estructura del modelo (por ejemplo geometría posterior), rutinas numéricas*"
   ]
  },
  {
   "cell_type": "markdown",
   "metadata": {},
   "source": [
    "## <span style=\"color:#4361EE\">Inferencia. Lo que hay en el transfondo de la Programación Probabilística</span> "
   ]
  },
  {
   "cell_type": "markdown",
   "metadata": {},
   "source": [
    "**Hamiltonian Monte Carlo (HMC)**\n",
    "\n",
    "- *La distribución del parámetro es muestreada en un espacio sin restricciones*. La base teórica es el muestreador Monte Carlo Hamiltoniano, que permite escanear el espacio del parámetro de manera mucho más eficiente que lo que hacen los muestreadores clásicos Metrópolis- Hastings o Gibbs y sus derivados.\n",
    "- *Transformaciones del parámetro*: Ajuste automático del Jacobiano asociado a las  transformaciones.\n",
    "- *Diferenciación automática*: Gradientes del modelo con respecto a los parámetros usando diferenciación automática.\n",
    "\n",
    "**No-U-Turn Sampler (NUTS)**\n",
    "\n",
    "- *Ajuste (tunning)* automático de los parámetros del muestreador. \n",
    "- *Calentamiento*: Estimación de la matriz de masa y tamaño del paso del muestreador.\n",
    "- *Muestreo*: Número adaptativo de pasos.\n",
    "- *Mantiene el balance detallado*. Que asegura tener cadenas de Markov reversibles.\n",
    "\n",
    "**Optimización: estimación modal**\n",
    "\n",
    "- Métodos BFGS y Newton."
   ]
  },
  {
   "cell_type": "markdown",
   "metadata": {},
   "source": [
    "## <span style=\"color:#4361EE\">Para científicos y más...</span> \n"
   ]
  },
  {
   "cell_type": "markdown",
   "metadata": {},
   "source": [
    "- Lenguaje probabilístico flexible, el lenguaje sigue creciendo\n",
    "\n",
    "- Enfoque en la ciencia: el modelado y los supuestos.\n",
    "\n",
    "- Acceso a múltiples algoritmos (el valor predeterminado es bastante bueno)\n",
    "\n",
    "- Más rápido y menos propenso a errores que la implementación desde cero\n",
    "\n",
    "- Implementación eficiente\n",
    "\n",
    "- Mucha ayuda de modelado (gratis) en la lista de usuarios\n",
    "\n",
    "- Desarrolladores receptivos, soporte continuo para Pyro\n",
    "\n",
    "- No solo por inferencia\n",
    "\n",
    "- Muestreo de avance rápido; muchas distribuciones \n",
    "\n",
    "- Gradientes para funciones arbitrarias"
   ]
  },
  {
   "cell_type": "markdown",
   "metadata": {},
   "source": [
    "## <span style=\"color:#4361EE\">Nuestras Herramientas</span> \n"
   ]
  },
  {
   "cell_type": "markdown",
   "metadata": {},
   "source": [
    "### <span style=\"color:#4CC9F0\">Pyro</span>\n"
   ]
  },
  {
   "cell_type": "markdown",
   "metadata": {},
   "source": [
    "Pyro es un lenguaje de programación probabilística de alto nivel escrito en Python y compilada sobre [PyTorch](https://pytorch.org/) que combina el estado del arte de técnicas de IA con la experiencia y habilidades de científicos de datos para unificar el Aprendizaje Profundo con el modelamiento Bayesiano. El usuario puede especificar o crear modelos estadísticos y hacer Inferencia Bayesiana a partir de ellos. Si no tiene familiaridad con [PyTorch](https://pytorch.org/) le recomendamos que se familiarice con el lenguaje por medio del tutorial [learn the basics](https://pytorch.org/tutorials/beginner/basics/intro.html).\n"
   ]
  },
  {
   "cell_type": "markdown",
   "metadata": {},
   "source": [
    "- Homepage: https://pyro.ai/\n",
    "- Documentation: https://docs.pyro.ai/en/stable/\n",
    "- Forum: https://forum.pyro.ai/"
   ]
  },
  {
   "cell_type": "markdown",
   "metadata": {},
   "source": [
    "### <span style=\"color:#4CC9F0\">TensorFlow Probability (TFP)</span>\n"
   ]
  },
  {
   "cell_type": "markdown",
   "metadata": {},
   "source": [
    "Es una biblioteca de Python compilada sobre [TensorFlow](https://www.tensorflow.org/) para la creación y combinación de modelos probabilísticos con el fin de comprender los datos y hacer predicciones. Incluye optimizadores como Nelder-Mead, BFGS y SGLD. Si no tiene familiaridad con [TensorFlow](https://www.tensorflow.org/) le recomendamos que se familiarice con el lenguaje por medio de los tutoriales disponibles en [Introducción a TensorFlow](https://www.tensorflow.org/learn)"
   ]
  },
  {
   "cell_type": "markdown",
   "metadata": {},
   "source": [
    "### <span style=\"color:#4CC9F0\">Stan</span>\n",
    "\n"
   ]
  },
  {
   "cell_type": "markdown",
   "metadata": {},
   "source": [
    "Stan es un lenguaje de programación probabilística de alto nivel, que permite al usuario especificar y crear modelos estadísticos de manera sencilla.\n",
    "**Interfaces de usuario para distintas plataformas**: \n",
    "\n",
    "- CmdStan - command line\n",
    "- RStan - Integración con R\n",
    "- PyStan - Integración con Python\n",
    "- MStan - Integración con Matlab (user contributed)"
   ]
  },
  {
   "cell_type": "markdown",
   "metadata": {},
   "source": [
    "1.  User Guide: https://mc-stan.org/users/documentation/\n",
    "2.  Homepage: http://mc-stan.org\n",
    "3.  Stan Users group: https://groups.google.com/d/forum/stan-users\n"
   ]
  },
  {
   "cell_type": "markdown",
   "metadata": {},
   "source": [
    "## <span style=\"color:#4361EE\">Un primer ejemplo</span> \n"
   ]
  },
  {
   "cell_type": "markdown",
   "metadata": {},
   "source": [
    "Introducimos un primer ejemplo general. El desarrollo completo de este ejemplo puede encontrarse en [Models in Pyro](https://pyro.ai/examples/intro_long.html)"
   ]
  },
  {
   "cell_type": "markdown",
   "metadata": {},
   "source": [
    "### <span style=\"color:#4CC9F0\">Modelo Estadístico</span>\n"
   ]
  },
  {
   "cell_type": "markdown",
   "metadata": {},
   "source": [
    "Supongamos que tenemos observaciones $[y_n |x_n], n=1,\\ldots,N$, y asumamos el modelo Bayesiano\n",
    "\n",
    "$$\n",
    "\\begin{align*}\n",
    "y_n &\\sim \\mathcal{N}(\\alpha + \\beta x_n, \\sigma^2),\\quad n=1,\\ldots,N\\\\\n",
    "\\alpha &\\sim \\mathcal{N}(0, 100)\\\\\n",
    "\\beta &\\sim \\mathcal{N}(0, 100)\\\\\n",
    "\\sigma &\\sim \\mathcal{C}auchy(0, 25) 1_{\\sigma>0}\\\\\n",
    "\\end{align*}\n",
    "$$\n"
   ]
  },
  {
   "cell_type": "markdown",
   "metadata": {},
   "source": []
  },
  {
   "cell_type": "markdown",
   "metadata": {},
   "source": [
    "````{tab} Pyro\n",
    "```python\n",
    "def model(x, y=None):\n",
    "    alpha = pyro.sample(\"alpha\",dist.Normal(0,10))\n",
    "    beta = pyro.sample(\"beta\",dist.Normal(0,10))\n",
    "    sigma = pyro.sample(\"sigma\",dist.Cauchy(0,25),constraint=constraints.positive)\n",
    "    mu = alpha + beta * x\n",
    "    with pyro.plate(\"plate\"):\n",
    "        pyro.sample(\"y\",dist.Normal(alpha+beta*x,sigma),obs=y )\n",
    "```\n",
    "````\n",
    "````{tab} TFP\n",
    "```python\n",
    "def model(x):\n",
    "    return tfd.JointDistributionSequential([\n",
    "        tfd.Sample(tfd.Normal(loc=0., scale=10., name=\"alpha\"), sample_shape=1), #alpha\n",
    "        tfd.Sample(tfd.Normal(loc=0., scale=10., name='beta'), sample_shape=1), #beta\n",
    "        tfd.Sample(tfd.HalfCauchy(loc=0., scale=25., name='sigma'), sample_shape=1), #sigma  \n",
    "        lambda alpha,beta,sigma,x: (\n",
    "            tfd.Normal(loc= alpha+beta*x, scale=sigma, name='y')\n",
    "        )  \n",
    "    ])\n",
    "```\n",
    "````\n",
    "````{tab} Stan\n",
    "```r\n",
    "data { \n",
    "int<lower=0> N;\n",
    "vector[N] y;\n",
    "vector[N] x;\n",
    "}\n",
    "\n",
    "\n",
    "parameters {\n",
    "real alpha;\n",
    "real beta;\n",
    "real<lower=0> sigma;\n",
    "}\n",
    "\n",
    "\n",
    "model {\n",
    "alpha ~ normal(0,10);\n",
    "beta ~ normal(0,10);\n",
    "sigma ~ cauchy(0,5);\n",
    "for (n in 1:N)\n",
    "   y[n] ~ normal(alpha + beta * x[n], sigma);\n",
    "}\n",
    "```\n",
    "````"
   ]
  }
 ],
 "metadata": {
  "interpreter": {
   "hash": "2647ea34e536f865ab67ff9ddee7fd78773d956cec0cab53c79b32cd10da5d83"
  },
  "kernelspec": {
   "display_name": "Python 3.9.3 64-bit",
   "language": "python",
   "name": "python3"
  },
  "language_info": {
   "codemirror_mode": {
    "name": "ipython",
    "version": 3
   },
   "file_extension": ".py",
   "mimetype": "text/x-python",
   "name": "python",
   "nbconvert_exporter": "python",
   "pygments_lexer": "ipython3",
   "version": "3.9.3"
  },
  "orig_nbformat": 4
 },
 "nbformat": 4,
 "nbformat_minor": 2
}
