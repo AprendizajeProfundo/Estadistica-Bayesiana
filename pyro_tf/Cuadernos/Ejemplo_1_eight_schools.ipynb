{
 "cells": [
  {
   "cell_type": "markdown",
   "metadata": {},
   "source": [
    "(1_Ocho_Escuelas)=\n",
    "# <span style=\"color:#F72585\"><center>Ejemplo 1: Ocho Escuelas</center></span>\n"
   ]
  },
  {
   "cell_type": "markdown",
   "metadata": {},
   "source": [
    "## <span style=\"color:#4361EE\">Introducción</span>\n"
   ]
  },
  {
   "cell_type": "markdown",
   "metadata": {},
   "source": [
    "Se introduce en este cuaderno un ejemplo clásico utilizado en la enseñanza de la Estadística Bayesiana. En particular el ejemplo ha sido usado por {cite}`gelman2003bayesian` y aparece en los manuales de usuario de Stan y TensorFlow Probability."
   ]
  },
  {
   "cell_type": "markdown",
   "metadata": {},
   "source": [
    "## <span style=\"color:#4361EE\">Un primer modelo general</span>\n"
   ]
  },
  {
   "cell_type": "markdown",
   "metadata": {},
   "source": [
    "### <span style=\"color:#4CC9F0\">Modelo Estadístico</span>\n"
   ]
  },
  {
   "cell_type": "markdown",
   "metadata": {},
   "source": [
    "Supongamos que tenemos observaciones $[y_n |x_n], n=1,\\ldots,N$, y asumamos el modelo Bayesiano\n",
    "\n",
    "$$\n",
    "\\begin{align}\n",
    "y_n &\\sim \\mathcal{N}(\\alpha + \\beta x_n, \\sigma^2),\\quad n=1,\\ldots,N\\\\\n",
    "\\alpha &\\sim \\mathcal{N}(0, 100)\\\\\n",
    "\\beta &\\sim \\mathcal{N}(0, 100)\\\\\n",
    "\\sigma &\\sim \\mathcal{C}auchy(0, 25) 1_{\\sigma>0}\\\\\n",
    "\\end{align}\n",
    "$$\n",
    "\n",
    "\n",
    "¿Cuáles serían las distribuciones a priori?"
   ]
  },
  {
   "cell_type": "markdown",
   "metadata": {},
   "source": [
    "## <span style=\"color:#4361EE\">Primera Implementación</span>\n"
   ]
  },
  {
   "cell_type": "markdown",
   "metadata": {},
   "source": [
    "Entonces, el modelo  se escribe de la siguiente manera:"
   ]
  },
  {
   "cell_type": "markdown",
   "metadata": {},
   "source": [
    "````{tab} Pyro\n",
    "```python\n",
    "def model(x, y=None):\n",
    "    alpha = pyro.sample(\"alpha\",dist.Normal(0,10))\n",
    "    beta = pyro.sample(\"beta\",dist.Normal(0,10))\n",
    "    sigma = pyro.sample(\"sigma\",dist.Cauchy(0,25),constraint=constraints.positive)\n",
    "    mu = alpha + beta * x\n",
    "    with pyro.plate(\"plate\"):\n",
    "        pyro.sample(\"y\",dist.Normal(alpha+beta*x,sigma),obs=y )\n",
    "```\n",
    "````\n",
    "````{tab} TFP\n",
    "```python\n",
    "def model(x):\n",
    "    return tfd.JointDistributionSequential([\n",
    "        tfd.Sample(tfd.Normal(loc=0., scale=10., name=\"alpha\"), sample_shape=1), #alpha\n",
    "        tfd.Sample(tfd.Normal(loc=0., scale=10., name='beta'), sample_shape=1), #beta\n",
    "        tfd.Sample(tfd.HalfCauchy(loc=0., scale=25., name='sigma'), sample_shape=1), #sigma  \n",
    "        lambda alpha,beta,sigma,x: (\n",
    "            tfd.Normal(loc= alpha+beta*x, scale=sigma, name='y')\n",
    "        )  \n",
    "    ])\n",
    "```\n",
    "````\n",
    "````{tab} Stan\n",
    "``` r\n",
    "data { \n",
    "int<lower=0> N;\n",
    "vector[N] y;\n",
    "vector[N] x;\n",
    "}\n",
    "\n",
    "\n",
    "parameters {\n",
    "real alpha;\n",
    "real beta;\n",
    "real<lower=0> sigma;\n",
    "}\n",
    "\n",
    "\n",
    "model {\n",
    "alpha ~ normal(0,10);\n",
    "beta ~ normal(0,10);\n",
    "sigma ~ cauchy(0,5);\n",
    "for (n in 1:N)\n",
    "   y[n] ~ normal(alpha + beta * x[n], sigma);\n",
    "}\n",
    "```\n",
    "````"
   ]
  },
  {
   "cell_type": "markdown",
   "metadata": {},
   "source": [
    "```{admonition} Cuidado\n",
    ":class: caution\n",
    "Recuerde que en TFP, Pyro y Stan el segundo parámetro de la distribución normal es la desviación estándar y no la varianza.\n",
    "```\n"
   ]
  },
  {
   "cell_type": "markdown",
   "metadata": {},
   "source": [
    "## <span style=\"color:#4361EE\">Ejemplo 1. Ocho escuelas</span>\n"
   ]
  },
  {
   "cell_type": "markdown",
   "metadata": {},
   "source": [
    "El ejemplo de \"ocho escuelas\" aparece en la Sección 5.5 de {cite}`gelman2003bayesian`, en donde se estudian los efectos del entrenamiento de ocho escuelas.\n",
    "\n",
    "1. Los datos se refieren al estudio del Educational Testing Service para analizar el efecto del entrenamiento.\n",
    "\n",
    "2. Los datos provienen del examen  SAT-V en ocho escuelas secundarias\n",
    "\n",
    "3.  No hay razón previa para creer que algún programa de entrenamiento fue:\n",
    "\n",
    "- Más efectivo que los demás\n",
    "\n",
    "- Más similar a otros\n",
    "\n",
    "\n"
   ]
  },
  {
   "cell_type": "markdown",
   "metadata": {},
   "source": [
    "### <span style=\"color:#4CC9F0\">Los datos</span>\n"
   ]
  },
  {
   "cell_type": "markdown",
   "metadata": {},
   "source": [
    "Los datos corresponden a la estimación (estandarizada) de un puntaje realizada en las ocho escuelas observadas.\n",
    "\n",
    "\n",
    "```{table}\n",
    "|School |Estim. Treatment Effect | Estim. Stand. Error |\n",
    "|---|---|---|\n",
    "|A |28| 15|\n",
    "|B |8 |10|\n",
    "|C| -3| 16|\n",
    "|D| 7| 11|\n",
    "|E| -1 |9|\n",
    "|F| 1| 11|\n",
    "|G |18| 10|\n",
    "|H| 12| 18|\n",
    "```"
   ]
  },
  {
   "cell_type": "markdown",
   "metadata": {},
   "source": [
    "````{tab} Pyro\n",
    "```python\n",
    "# Los datos\n",
    "J = 8 #Número de escuelas\n",
    "y = torch.tensor([28, 8, -3, 7, -1, 1, 18, 12]).type(torch.Tensor) #Estimaciones de los efectos del tratamiento\n",
    "sigma = torch.tensor([15, 10, 16, 11, 9, 11, 10, 18]).type(torch.Tensor) #Estimacion de la desviacion de los efectos del tratamiento\n",
    "schools = np.array(['Choate', 'Deerfield', 'Phillips Andover', 'Phillips Exeter',\n",
    "                    'Hotchkiss', 'Lawrenceville', \"St. Paul's\", 'Mt. Hermon'])\n",
    "\n",
    "schools_dat = {'J': J,\n",
    "               'y': y,\n",
    "               'sigma': sigma}\n",
    "schools_dat \n",
    "```\n",
    "````\n",
    "\n",
    "````{tab} TFP\n",
    "```python\n",
    "# Los datos\n",
    "J = 8 #Número de escuelas\n",
    "y = np.array([28.,  8., -3.,  7., -1.,  1., 18., 12.], dtype=np.float32) #Estimaciones de los efectos del tratamiento\n",
    "sigma = np.array([15., 10., 16., 11.,  9., 11., 10., 18.], dtype=np.float32) #Estimacion de la desviacion de los efectos del tratamiento\n",
    "schools = np.array(['Choate', 'Deerfield', 'Phillips Andover', 'Phillips Exeter',\n",
    "                    'Hotchkiss', 'Lawrenceville', \"St. Paul's\", 'Mt. Hermon'])\n",
    "\n",
    "schools_dat = {'J': J,\n",
    "               'y': y,\n",
    "               'sigma': sigma}\n",
    "schools_dat \n",
    "```\n",
    "````\n",
    "\n",
    "````{tab} Stan\n",
    "``` r\n",
    "schools_dat = {'J': 8,\n",
    "               'y': [28,  8, -3,  7, -1,  1, 18, 12],\n",
    "               'sigma': [15, 10, 16, 11,  9, 11, 10, 18]}\n",
    "schools_dat \n",
    "```\n",
    "````"
   ]
  },
  {
   "cell_type": "markdown",
   "metadata": {},
   "source": [
    "## <span style=\"color:#4361EE\">Primer modelo</span>"
   ]
  },
  {
   "cell_type": "markdown",
   "metadata": {},
   "source": [
    "Eight Schools: No Pooling\n",
    "\n",
    "- Cada escuela es tratada individualmente. A prioris impropias. Cada media de las escuelas proviene de una distribución diferente.\n",
    "\n",
    "$$\n",
    "\\begin{equation}\n",
    "\\begin{split}\n",
    "y_i &\\sim \\mathcal{N}(\\theta_i,\\sigma_i^2), \\text{ known } \\sigma_i^2\\\\\n",
    "\\theta_i &\\propto 1\n",
    "\\end{split}\n",
    "\\end{equation}\n",
    "$$"
   ]
  },
  {
   "cell_type": "markdown",
   "metadata": {},
   "source": [
    "````{tab} Pyro\n",
    "```python\n",
    "def schools_code_01(J, y, sigma):\n",
    "    theta= pyro.param('theta', torch.ones(J))\n",
    "    with pyro.plate(\"plate\"):\n",
    "        pyro.sample(\"y\",dist.Normal(theta,sigma),obs=y )\n",
    "```\n",
    "````\n",
    "\n",
    "````{tab} TFP\n",
    "```python\n",
    "def schools_code_01(y,sigma):\n",
    "    return tfd.JointDistributionSequential([ \n",
    "        mu= y\n",
    "        lambda mu,sigma: (\n",
    "            tfd.Normal(loc= mu, scale=sigma, name='y')\n",
    "        )  \n",
    "    ])\n",
    "\n",
    "```\n",
    "````\n",
    "\n",
    "````{tab} Stan\n",
    "```r\n",
    "schools_code_01 =\"\"\"\n",
    "\n",
    "data {\n",
    "int<lower=0> J; // # schools\n",
    "real y[J]; // estimated treatment\n",
    "real<lower=0> sigma[J]; // std err of effect\n",
    "}\n",
    "\n",
    "parameters {\n",
    "real theta[J]; // school effect\n",
    "}\n",
    "\n",
    "model {\n",
    "y ~ normal(theta, sigma);\n",
    "}\n",
    "\"\"\"\n",
    "\n",
    "```\n",
    "````"
   ]
  },
  {
   "cell_type": "markdown",
   "metadata": {},
   "source": [
    "## <span style=\"color:#4361EE\">Segundo Modelo</span>\n"
   ]
  },
  {
   "cell_type": "markdown",
   "metadata": {},
   "source": [
    "Eight Schools: Complete Poolin. Todas la medias provienen de una única distribución.\n",
    "\n",
    "- Todas las escuelas tomadas conjuntamente.\n",
    "\n",
    "$$\n",
    "y_i \\sim \\mathcal{N}(\\theta,\\sigma_i^2), \\text{ known } \\sigma_i^2\n",
    "$$"
   ]
  },
  {
   "cell_type": "markdown",
   "metadata": {},
   "source": [
    "````{tab} Pyro\n",
    "```python\n",
    "def schools_code_02(J, y,sigma):\n",
    "    theta=pyro.param('theta',torch.ones(J))\n",
    "    return pyro.sample(\"obs\", dist.Normal(theta,sigma),obs=y)\n",
    "```\n",
    "````\n",
    "\n",
    "````{tab} TFP\n",
    "```python\n",
    "def schools_code_02(J, y, sigma):\n",
    "    theta = y\n",
    "    return tfd.JointDistributionSequential([ \n",
    "        lambda theta,sigma: (\n",
    "            tfd.Normal(loc= theta, scale=sigma, name='y')\n",
    "        )  \n",
    "    ])\n",
    "```\n",
    "````\n",
    "\n",
    "````{tab} Stan\n",
    "```r\n",
    "schools_code_02 =\"\"\"\n",
    "\n",
    "data {\n",
    "int<lower=0> J; // # schools\n",
    "real y[J]; // estimated treatment\n",
    "real<lower=0> sigma[J]; // std err of effect\n",
    "}\n",
    "\n",
    "parameters {\n",
    "real theta; // pooled school effect\n",
    "}\n",
    "\n",
    "model {\n",
    "y ~ normal(theta, sigma);\n",
    "}\n",
    "\"\"\"\n",
    "# compile the  model\n",
    "sm_02 = pystan.StanModel(model_code=schools_code_02)\n",
    "# extract the samples\n",
    "fit_02 = sm_02.sampling(data=schools_dat, iter=1000, chains=4)\n",
    "```\n",
    "````"
   ]
  },
  {
   "cell_type": "markdown",
   "metadata": {},
   "source": [
    "## <span style=\"color:#4361EE\">Tercer Modelo</span>\n"
   ]
  },
  {
   "cell_type": "markdown",
   "metadata": {},
   "source": [
    "Eight Schools: Partial Pooling. Estimamos una media global y ahora cada media de las escuelas es una muestra de otra distribución  global.\n",
    "    \n",
    "- Estima una media global $\\mu$,la cual es un hiperparámetro  para el modelo y fijamos  otro hiperparámetro $\\tau = 25$ para esa distribución.\n",
    "\n",
    "\n",
    "$$\n",
    "\\begin{align}\n",
    "y_i &\\sim \\mathcal{N}(\\theta_i,\\sigma_i^2), \\text{ known } \\sigma_i^2\\\\\n",
    "\\theta_i &\\sim \\mathcal{N}(\\mu, \\tau^2) , \\text{ known } \\tau^2\n",
    "\\end{align}\n",
    "$$\n",
    "\n",
    "Así hemos supuesto que hay una media global $\\mu$ de tal manera que las medias $\\theta_i$ de las escuelas son generadas a partir de una distribución normal con media $\\mu$."
   ]
  },
  {
   "cell_type": "markdown",
   "metadata": {},
   "source": [
    "````{tab} Pyro\n",
    "```python\n",
    "# Los datos\n",
    "schools_dat_03 = {'J': 8,\n",
    "               'y': torch.tensor([28, 8, -3, 7, -1, 1, 18, 12]).type(torch.Tensor),\n",
    "               'sigma': torch.tensor([15, 10, 16, 11, 9, 11, 10, 18]).type(torch.Tensor),\n",
    "               'tau': 25}\n",
    "```\n",
    "````\n",
    "\n",
    "````{tab} TFP\n",
    "```python\n",
    "schools_dat_03 = {'J': 8,\n",
    "               'y': np.array([28.,  8., -3.,  7., -1.,  1., 18., 12.], dtype=np.float32),\n",
    "               'sigma': np.array([15., 10., 16., 11.,  9., 11., 10., 18.], dtype=np.float32),\n",
    "               'tau': 25}\n",
    "```\n",
    "````\n",
    "\n",
    "````{tab} Stan\n",
    "```r\n",
    "# Los datos\n",
    "schools_dat_03 = {'J': 8,\n",
    "               'y': [28,  8, -3,  7, -1,  1, 18, 12],\n",
    "               'sigma': [15, 10, 16, 11,  9, 11, 10, 18],\n",
    "               'tau': 25}\n",
    "```\n",
    "````"
   ]
  },
  {
   "cell_type": "markdown",
   "metadata": {},
   "source": [
    "Una vez que agregamos $\\tau$ a nuestro conjunto de datos podemos formular el modelo"
   ]
  },
  {
   "cell_type": "markdown",
   "metadata": {},
   "source": [
    "````{tab} Pyro\n",
    "```python\n",
    "def schools_code_03(J,y,sigma,tau):\n",
    "    mu = pyro.param('mu',torch.ones(J))\n",
    "    theta = pyro.sample('theta',dist.Normal(mu,tau))\n",
    "    with pyro.plate(\"plate\"):\n",
    "        pyro.sample(\"y\",dist.Normal(theta,sigma),obs=y )   \n",
    "```\n",
    "````\n",
    "````{tab} TFP\n",
    "```python\n",
    "def schools_code_03(J, y, sigma,tau):\n",
    "    return tfd.JointDistributionSequential([ \n",
    "        #mu\n",
    "        tfd.Uniform(low=tf.cast(0,dtype),high=tf.cast(1,dtype))\n",
    "        #thetas\n",
    "        lambda mu, tau: tfd.Sample(tfd.Normal(loc=mu,scale=tau,name='theta'),sample_shape=n)\n",
    "        # y\n",
    "        lambda thetas, sigma: tfd.independent(tfd.normal (loc= thetas, scale= sigma,name='y'))\n",
    "        )  \n",
    "    ])\n",
    "```\n",
    "````\n",
    "````{tab} Stan\n",
    "```r\n",
    "schools_code_03 =\"\"\"\n",
    "\n",
    "data {\n",
    "int<lower=0> J; // # schools\n",
    "real y[J]; // estimated treatment\n",
    "real<lower=0> sigma[J]; // std err of effect\n",
    "real<lower=0> tau; // variance between schools\n",
    "}\n",
    "\n",
    "parameters {\n",
    "real theta[J]; // school effect\n",
    "real mu; // mean for schools\n",
    "}\n",
    "\n",
    "model {\n",
    "theta ~ normal(mu, tau);\n",
    "y ~ normal(theta, sigma);\n",
    "}\n",
    "\"\"\"\n",
    "# compile the  model\n",
    "sm_03 = pystan.StanModel(model_code=schools_code_03)\n",
    "# extract the samples\n",
    "fit_03 = sm_03.sampling(data=schools_dat_03, iter=1000, chains=4)\n",
    "```\n",
    "````\n"
   ]
  },
  {
   "cell_type": "markdown",
   "metadata": {},
   "source": [
    "## <span style=\"color:#4361EE\">Cuarto Modelo</span>\n"
   ]
  },
  {
   "cell_type": "markdown",
   "metadata": {},
   "source": [
    "Eight Schools: modelo jerárquico completo\n",
    "    \n",
    "• Estima los  hiperparametros $\\mu$ and $\\tau$\n",
    "\n",
    "\n",
    "\n",
    "\n",
    "$$\n",
    "\\begin{align}\n",
    "y_i &\\sim \\mathcal{N}(\\theta_i,\\sigma_i^2), \\text{ known } \\sigma_i^2\\\\\n",
    "\\theta_i &\\sim \\mathcal{N}(\\mu, \\tau)\n",
    "\\end{align}\n",
    "$$"
   ]
  },
  {
   "cell_type": "markdown",
   "metadata": {},
   "source": [
    "````{tab} Pyro\n",
    "```python\n",
    "def schools_code_04(J,y,sigma):\n",
    "    tau = pyro.param('tau',torch.ones(J), constraint = positive)\n",
    "    mu = pyro.param('mu',torch.ones(J))\n",
    "    theta = pyro.sample('theta',dist.Normal(mu,tau))\n",
    "    with pyro.plate(\"plate\"):\n",
    "        pyro.sample(\"y\",dist.Normal(theta,sigma),obs=y )   \n",
    "```\n",
    "````\n",
    "````{tab} TFP\n",
    "```python\n",
    "def schools_code_04(J, y, sigma):\n",
    "    return tfd.JointDistributionSequential([ \n",
    "        #mu\n",
    "        tfd.Uniform(low=tf.cast(0,dtype),high=tf.cast(1,dtype))\n",
    "        #tau\n",
    "        tfd.HalfCauchy(loc=tf.cast(0,dtype),scale=tf.cast(5,dtype))\n",
    "        #thetas\n",
    "        lambda mu, tau: tfd.Sample(tfd.Normal(loc=mu,scale=tau,name='theta'),sample_shape=n)\n",
    "        # y\n",
    "        lambda thetas, sigma: tfd.independent(tfd.normal (loc= thetas, scale= sigma,name='y'))\n",
    "        )  \n",
    "    ])\n",
    "```\n",
    "````\n",
    "````{tab} Stan\n",
    "```r\n",
    "schools_code_04 =\"\"\"\n",
    "\n",
    "data {\n",
    "int<lower=0> J; // # schools\n",
    "real y[J]; // estimated treatment\n",
    "real<lower=0> sigma[J]; // std err of effect\n",
    "}\n",
    "\n",
    "parameters {\n",
    "real theta[J]; // school effect\n",
    "real mu; // mean for schools\n",
    "real<lower=0> tau; // variance between schools\n",
    "}\n",
    "\n",
    "model {\n",
    "theta ~ normal(mu, tau);\n",
    "y ~ normal(theta, sigma);\n",
    "}\n",
    "\"\"\"\n",
    "# compilar the  model\n",
    "sm_04 = pystan.StanModel(model_code=schools_code_04)\n",
    "# extract the samples\n",
    "fit_04 = sm_04.sampling(data=schools_dat, iter=1000, chains=4)\n",
    "```\n",
    "````\n"
   ]
  },
  {
   "cell_type": "markdown",
   "metadata": {},
   "source": [
    "## <span style=\"color:#4361EE\">Quinto Modelo</span>\n"
   ]
  },
  {
   "cell_type": "markdown",
   "metadata": {},
   "source": [
    "\n",
    "Modelo con efectos aleatorios\n",
    "    \n",
    "• Estima los hiperparámetros $\\mu$ and $\\tau$\n",
    "\n",
    "• Predice los efectos aleatorios $\\eta_i$\n",
    "\n",
    "\n",
    "$$\n",
    "\\begin{align}\n",
    "y_i &\\sim \\mathcal{N}(\\theta_i,\\sigma_i^2), \\text{ known } \\sigma_i^2\\\\\n",
    "\\theta_i & = \\mu + \\tau \\times \\eta_i \\\\\n",
    "\\eta_i &\\sim \\mathcal{N}(0, 1)\n",
    "\\end{align}\n",
    "$$"
   ]
  },
  {
   "cell_type": "markdown",
   "metadata": {},
   "source": [
    "````{tab} Pyro\n",
    "```python\n",
    "def schools_code_05(J,y,sigma):\n",
    "    tau = pyro.param('tau',torch.ones(J), constraint = constraints.positive)\n",
    "    mu = pyro.param('mu',torch.ones(J))\n",
    "    eta = pyro.sample('eta',dist.Normal(0,1))\n",
    "    theta = mu + tau*eta\n",
    "    with pyro.plate(\"plate\"):\n",
    "        pyro.sample(\"y\",dist.Normal(theta,sigma),obs=y)   \n",
    "```\n",
    "````\n",
    "````{tab} TFP\n",
    "```python\n",
    "def schools_code_05(J, y, sigma):\n",
    "    return tfd.JointDistributionSequential([ \n",
    "        #mu\n",
    "        tfd.Uniform(low=tf.cast(0,dtype),high=tf.cast(1,dtype))\n",
    "        #tau\n",
    "        tfd.HalfCauchy(loc=tf.cast(0,dtype),scale=tf.cast(5,dtype))\n",
    "        #etas\n",
    "        tfd.Sample(tfd.Normal(loc=torch.zeros(J),scale=torch.ones(J)))\n",
    "        #thetas\n",
    "        lambda mu, tau, etas: mu+tau*etas\n",
    "        # y\n",
    "        lambda thetas, sigma: tfd.independent(tfd.normal (loc= thetas, scale= sigma,name='y'))\n",
    "        )  \n",
    "    ])\n",
    "```\n",
    "````\n",
    "\n",
    "````{tab} Stan\n",
    "```r\n",
    "schools_code_05 = \"\"\"\n",
    "\n",
    "data {\n",
    "    int<lower=0> J; // number of schools\n",
    "    vector[J] y; // estimated treatment effects\n",
    "    vector<lower=0>[J] sigma; // s.e. of effect estimates\n",
    "}\n",
    "\n",
    "parameters {\n",
    "    real mu;\n",
    "    real<lower=0> tau;\n",
    "    vector[J] eta;\n",
    "}\n",
    "\n",
    "transformed parameters {\n",
    "    vector[J] theta;\n",
    "    theta = mu + tau * eta;\n",
    "}\n",
    "model {\n",
    "    eta ~ normal(0, 1);\n",
    "    y ~ normal(theta, sigma);\n",
    "}\n",
    "\"\"\"\n",
    "# compile the  model\n",
    "sm_05 = pystan.StanModel(model_code=schools_code_05)\n",
    "# extract the samples\n",
    "fit_05 = sm_05.sampling(data=schools_dat, iter=1000, chains=4)\n",
    "```\n",
    "````"
   ]
  },
  {
   "cell_type": "markdown",
   "metadata": {},
   "source": [
    "## <span style=\"color:#4361EE\">Tarea</span>\n"
   ]
  },
  {
   "cell_type": "markdown",
   "metadata": {},
   "source": [
    "Reescriba la tarea de la sección [Interpretación de la Media Posterior](EAP) utilizando Stan y lo aprendido en este cuaderno."
   ]
  },
  {
   "cell_type": "markdown",
   "metadata": {},
   "source": [
    "## <span style=\"color:#4361EE\">Referencias</span>\n"
   ]
  },
  {
   "cell_type": "markdown",
   "metadata": {},
   "source": [
    "```{bibliography}\n",
    ":filter: docname in docnames\n",
    "```"
   ]
  }
 ],
 "metadata": {
  "kernelspec": {
   "display_name": "Python 3",
   "language": "python",
   "name": "python3"
  },
  "language_info": {
   "codemirror_mode": {
    "name": "ipython",
    "version": 3
   },
   "file_extension": ".py",
   "mimetype": "text/x-python",
   "name": "python",
   "nbconvert_exporter": "python",
   "pygments_lexer": "ipython3",
   "version": "3.9.3"
  }
 },
 "nbformat": 4,
 "nbformat_minor": 4
}
