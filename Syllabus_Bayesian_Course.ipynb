{
 "cells": [
  {
   "cell_type": "markdown",
   "metadata": {},
   "source": [
    "<h1 align='center'> Curso de Estadística Bayesiana<br> Syllabus</h1> \n",
    "\n",
    "<h3>Autor</h3>\n",
    "\n",
    "1. Alvaro Mauricio Montenegro Díaz, ammontenegrod@unal.edu.co\n",
    "2. Daniel Mauricio Montenegro Reyes, dextronomo@gmail.com \n",
    "\n",
    "<h3>Fork</h3>\n",
    "\n",
    "<h3>Referencias</h3>\n",
    "\n",
    "1. [\"Statistical Rethinking, A Bayesian Course with examples in R and Stan\", Richard McElreath, version compilada en noviembre 9 de 2015.](http://xcelab.net/rmpubs/rethinking/Statistical_Rethinking_sample.pdf)\n",
    "2. \"Bayesian Analysis with Python\", Osvaldo Martin, edited by Pack Publishing Ltd., 2016 \n",
    "3. \"Bayesian Methods for Hackers. Probabilistic Programming  and Bayesian Inference\", Cameron Davidson-Pilon\", Addison Wesley. 2016.\n",
    "4. [\"Stan User's Guide. Version 2.22\", Stan Development Team, 2020.](https://mc-stan.org/users/documentation/)\n",
    "\n",
    "<h3>Lenguajes de Programación </h3>\n",
    "\n",
    "Python, R, Stan, sobre JupyterLab.\n",
    "\n",
    "<h3>Videos Introductorios </h3>\n",
    "\n",
    "1. [La verdadera razón del cerebro](https://www.ted.com/talks/daniel_wolpert_the_real_reason_for_brains/transcript?language=es#t-1180518)\n",
    "2. [Cómo Escapar de la Trampa Bayesiana](https://www.youtube.com/watch?v=D7KKlC0LOyw)\n",
    "3. [Notas históricas de la Estadística Bayesiana](https://bookdown.org/aquintela/EBE/notas-historicas-la-estadistica-bayesiana.html)\n",
    "\n",
    "<h3> Evaluación  </h3>\n",
    "\n",
    "1. Dos parciales. 25% cada uno. Semanas 7 y 14 del curso. Para hacer en la casa. Total 50%\n",
    "2. Tareas por demanda. Total 25%.\n",
    "3. Una exposición final. Total 25%.\n",
    "\n",
    "<h3> Descripción del curso</h3>\n",
    "\n",
    "Este curso proporciona al estudiante herramientas teóricas y prácticas para la implementación de técnicas Bayesianas, para la modelación, estimación y evaluación de modelos. La técnicas Bayesianas son utilizadas intensivamente en la actualidad, en problemas complejos que pueden modelarse con distribuciones de probabilidad, usualmente con muchos parámetros y restricciones sobre estos. La parte práctica del curso se desarrolla con el lenguaje de programación probabilística [STAN](https://mc-stan.org/).  Usaremos la iterface [Pystan](https://pystan.readthedocs.io/en/latest/api.html)\n",
    "\n",
    "<h3>Metodología</h3>\n",
    "    \n",
    "El profesor hace clases magistrales con material preparado que obtienen los  estudiantes previamente. Las clase son teórico prácticas, pero no hay sesiones de laboratorio. Las prácticas computacionales son responsabilidad del estudiante. En el curso se usará el lenguaje de programación probabilistica Stan, el cual puede invocarse desde otras plataformas como R, Python, Julia. Hay versión para Windows y Linux. Habrá dos parciales que son teórico prácticos, a los cuales pueden traer sus computadores personales o reservarlos en la sala de cómputo. Los estudiantes deben entregar las tareas propuestas por el profesor en los tiempos previstos.\n",
    "\n"
   ]
  },
  {
   "cell_type": "markdown",
   "metadata": {},
   "source": [
    "<h2 align='center'> Contenido</h2>\n",
    "    \n",
    "1. [Introducción a la Estadística Bayesiana](./cuadernos/Introducción_Estadistica_Bayesiana.ipynb)\n",
    "2. [La Estrategia Bayesiana](./cuadernos/La_estrategia_Bayesiana.ipynb)\n",
    "3. [Computación Bayesiana Básica](./cuadernos/Computacion_Bayesian_Basica.ipynb)\n",
    "4. [El efecto del tamaño de muestra](./cuadernos/Efecto_tamano_muestra.ipynb)  \n",
    "5. [Interpretación de la Esperanza Posterior (EAP)](./cuadernos/EAP_Interpretacion.ipynb)\n",
    "6. [Introducción a Stan](./cuadernos/Intro_Stan.ipynb)\n",
    "7. [Primer Ejemplo en Stan: eight schools](./cuadernos/(Stan_Ejemplo_1_eight_schools.ipynb)\n",
    "8. [Tutorial de Stan](./cuadernos/Stan_Tutorial_1.ipynb)\n",
    "9. [Elementos de la Estadística Bayesiana](./cuadernos/Elementos_Estadistica_Bayesiana.ipynb)\n",
    "10. [Análisis Exploratorio Bayesiano](./cuadernos/Analisis_Exploratorio_Bayesiano.ipynb)\n",
    "11. [Taller Bayesiano](./cuadernos/Taller_Bayesiano.ipynb) \n",
    "12. [Introducción a Arviz](./cuadernos/Arviz_Tutorial.ipynb)\n",
    "13.  [Regresión Lineal Jerárquica](./cuadernos/Regresion_Lineal_Jerarquica.ipynb)\n",
    "14. [Magic_Stan-Regresión Robusta](./cuadernos/Magic_Stan-Regresion_Robusta.ipynb)\n",
    "15. [Selección de Modelos](./cuadernos/Seleccion_Modelos.ipynb) \n",
    "16. [Examen 1](./cuadernos/Parcial_1.ipynb)\n",
    "17. [Solución Parcial 1](./cuadernos/Parcial_1-solucion.ipynb)\n",
    "18. [Residuales Bayesianos](./cuadernos/Residuales_Bayesianos.ipynb)\n"
   ]
  },
  {
   "cell_type": "code",
   "execution_count": null,
   "metadata": {},
   "outputs": [],
   "source": []
  }
 ],
 "metadata": {
  "kernelspec": {
   "display_name": "Python 3",
   "language": "python",
   "name": "python3"
  },
  "language_info": {
   "codemirror_mode": {
    "name": "ipython",
    "version": 3
   },
   "file_extension": ".py",
   "mimetype": "text/x-python",
   "name": "python",
   "nbconvert_exporter": "python",
   "pygments_lexer": "ipython3",
   "version": "3.7.5"
  }
 },
 "nbformat": 4,
 "nbformat_minor": 4
}
