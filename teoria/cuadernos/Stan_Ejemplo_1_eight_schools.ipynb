{
 "cells": [
  {
   "cell_type": "markdown",
   "metadata": {},
   "source": [
    "<h1 align='center'> Curso de Estadística Bayesiana<br> Ejemplo 1 de Stan: eight schools</h1> \n",
    "\n",
    "<h3>Autor</h3>\n",
    "\n",
    "1. Alvaro Mauricio Montenegro Díaz, ammontenegrod@unal.edu.co\n",
    "2. Daniel Mauricio Montenegro Reyes, dextronomo@gmail.com \n",
    "\n",
    "<h3>Fork</h3>\n",
    "\n",
    "<h3>Referencias</h3>\n",
    "\n",
    "\n",
    "1. Gelman, A., Carlin, J., Stern, H., and Rubin, D. *Bayesian Data Analysis*, Chapman & Hall/CRC, 2000\n",
    "2. https://statmodeling.stat.columbia.edu/2014/01/21/everything-need-know-bayesian-statistics-learned-eight-schools/"
   ]
  },
  {
   "cell_type": "markdown",
   "metadata": {},
   "source": [
    "<h2> 1. Introducción</h2>\n",
    "\n",
    "Se introduce en este cuaderno un ejemplo clásico utilizado en la enseñanza de la Estadística Bayesiana. En particular el ejemplo ha sido usado por Gelman y aparece en los manuales de usuario de Stan."
   ]
  },
  {
   "cell_type": "markdown",
   "metadata": {},
   "source": [
    "<h2> 2. Un primer modelo general</h2>\n",
    "\n",
    "\n",
    "\n",
    "<h3> Modelo estadístico</h3>\n",
    "\n",
    "\n",
    "Supongamos que tenemos observaciones $[y_n |x_n], n=1,\\ldots,N$, y asumamos el modelo Bayesiano\n",
    "\n",
    "$$\n",
    "\\begin{align}\n",
    "y_n &\\sim \\mathcal{N}(\\alpha + \\beta x_n, \\sigma^2),\\quad n=1,\\ldots,N\\\\\n",
    "\\alpha &\\sim \\mathcal{N}(0, 100)\\\\\n",
    "\\beta &\\sim \\mathcal{N}(0, 100)\\\\\n",
    "\\sigma &\\sim \\mathcal{C}auchy(0, 25) 1_{\\sigma>0}\\\\\n",
    "\\end{align}\n",
    "$$\n",
    "\n",
    "\n",
    "Discuta con sus compañeros las distribuciones a priori."
   ]
  },
  {
   "cell_type": "markdown",
   "metadata": {},
   "source": [
    "<h3> Primera implementación en Stan</h3>\n",
    "\n",
    "Entonces, el modelo  se escribe es Stan de la siguiente manera (en Stan no debe dar las varianzas sino las desviaciones estándar):\n",
    "\n",
    "data { <br>\n",
    "int<lower=0> N;<br>\n",
    "vector[N] y;<br>\n",
    "vector[N] x;<br>\n",
    "}<br>\n",
    "\n",
    "\n",
    "parameters {<br>\n",
    "real alpha;<br>\n",
    "real beta;<br>\n",
    "real<lower=0> sigma;<br>\n",
    "}<br>\n",
    "\n",
    "\n",
    "model {<br>\n",
    "alpha ~ normal(0,10);<br>\n",
    "beta ~ normal(0,10);<br>\n",
    "sigma ~ cauchy(0,5);<br>\n",
    "for (n in 1:N)<br>\n",
    "   y[n] ~ normal(alpha + beta * x[n], sigma);<br>\n",
    "}<br>"
   ]
  },
  {
   "cell_type": "markdown",
   "metadata": {},
   "source": [
    "<h2> 3. Ejemplo 1. Ocho escuelas (Eight Schools)</h2>\n",
    "\n",
    "El ejemplo de \"ocho escuelas\" aparece en la Sección 5.5 de Gelman et al. (2003), en donde se estudian los efectos del entrenamiento de ocho escuelas.\n",
    "\n",
    "1. Los datos se refieren al estudio del Educational Testing Service para analizar el efecto del entrenamiento.\n",
    "\n",
    "2. Los datos provienen del examen  SAT-V en ocho escuelas secundarias\n",
    "\n",
    "3.  No hay razón previa para creer que algún programa de nentranamiento fue:\n",
    "\n",
    "- más efectivo que los demás\n",
    "\n",
    "- más similar a otros\n",
    "\n",
    "\n"
   ]
  },
  {
   "cell_type": "markdown",
   "metadata": {},
   "source": [
    "<h3>  Los datos</h3>\n",
    "\n",
    "Los datos corresponden a la estimación (estandarizada) de un puntaje realizada en las ocho escuelas observadas.\n",
    "\n",
    "\n",
    "\n",
    "|School |Estim. Treatment Effect | Estim. Stand. Error |\n",
    "|---|---|---|\n",
    "|A |28| 15|\n",
    "|B |8 |10|\n",
    "|C| -3| 16|\n",
    "|D| 7| 11|\n",
    "|E| -1 |9|\n",
    "|F| 1| 11|\n",
    "|G |18| 10|\n",
    "|H| 12| 18|"
   ]
  },
  {
   "cell_type": "code",
   "execution_count": 1,
   "metadata": {},
   "outputs": [],
   "source": [
    "# import the requiered objects\n",
    "import pystan"
   ]
  },
  {
   "cell_type": "code",
   "execution_count": 2,
   "metadata": {},
   "outputs": [
    {
     "data": {
      "text/plain": [
       "{'J': 8,\n",
       " 'y': [28, 8, -3, 7, -1, 1, 18, 12],\n",
       " 'sigma': [15, 10, 16, 11, 9, 11, 10, 18]}"
      ]
     },
     "execution_count": 2,
     "metadata": {},
     "output_type": "execute_result"
    }
   ],
   "source": [
    "# the data\n",
    "schools_dat = {'J': 8,\n",
    "               'y': [28,  8, -3,  7, -1,  1, 18, 12],\n",
    "               'sigma': [15, 10, 16, 11,  9, 11, 10, 18]}\n",
    "schools_dat "
   ]
  },
  {
   "cell_type": "markdown",
   "metadata": {},
   "source": [
    "<h2>5. Primer modelo </h2>\n",
    "\n",
    "Eight Schools: No Pooling\n",
    "\n",
    "- Cada escuela es tratada individualmente. A prioris impropias. Cada media d elas escuelas proviene de una distribución diferente.\n",
    "\n",
    "$$\n",
    "\\begin{equation}\n",
    "\\begin{split}\n",
    "y_i &\\sim \\mathcal{N}(\\theta_i,\\sigma_i^2), \\text{ known } \\sigma_i^2\\\\\n",
    "\\theta_i &\\propto 1\n",
    "\\end{split}\n",
    "\\end{equation}\n",
    "$$"
   ]
  },
  {
   "cell_type": "code",
   "execution_count": 3,
   "metadata": {},
   "outputs": [
    {
     "name": "stdout",
     "output_type": "stream",
     "text": [
      "<class 'dict'>\n",
      "[28, 8, -3, 7, -1, 1, 18, 12]\n"
     ]
    }
   ],
   "source": [
    "print(type(schools_dat))\n",
    "print(schools_dat['y'])"
   ]
  },
  {
   "cell_type": "code",
   "execution_count": 4,
   "metadata": {},
   "outputs": [],
   "source": [
    "schools_code_01 =\"\"\"\n",
    "\n",
    "data {\n",
    "int<lower=0> J; // # schools\n",
    "real y[J]; // estimated treatment\n",
    "real<lower=0> sigma[J]; // std err of effect\n",
    "}\n",
    "\n",
    "parameters {\n",
    "real theta[J]; // school effect\n",
    "}\n",
    "\n",
    "model {\n",
    "y ~ normal(theta, sigma);\n",
    "}\n",
    "\"\"\""
   ]
  },
  {
   "cell_type": "code",
   "execution_count": 5,
   "metadata": {},
   "outputs": [
    {
     "name": "stderr",
     "output_type": "stream",
     "text": [
      "INFO:pystan:COMPILING THE C++ CODE FOR MODEL anon_model_2097d3b0693259b17df3f8156052bac2 NOW.\n"
     ]
    }
   ],
   "source": [
    "# compile the  model\n",
    "sm = pystan.StanModel(model_code=schools_code_01)"
   ]
  },
  {
   "cell_type": "code",
   "execution_count": 6,
   "metadata": {},
   "outputs": [],
   "source": [
    "# extract the samples\n",
    "fit_01 = sm.sampling(data=schools_dat, iter=1000, chains=4)"
   ]
  },
  {
   "cell_type": "code",
   "execution_count": 7,
   "metadata": {},
   "outputs": [
    {
     "data": {
      "text/plain": [
       "Inference for Stan model: anon_model_2097d3b0693259b17df3f8156052bac2.\n",
       "4 chains, each with iter=1000; warmup=500; thin=1; \n",
       "post-warmup draws per chain=500, total post-warmup draws=2000.\n",
       "\n",
       "           mean se_mean     sd   2.5%    25%    50%    75%  97.5%  n_eff   Rhat\n",
       "theta[1]  27.86    0.27  14.46  -1.98  18.78  27.95  37.48  55.61   2857    1.0\n",
       "theta[2]   8.22    0.18   10.3 -12.34   1.31   8.33  15.22  28.24   3345    1.0\n",
       "theta[3]  -3.31    0.28  15.67 -33.33 -14.06  -3.26   7.34  27.41   3031    1.0\n",
       "theta[4]   7.17    0.22   11.0  -14.0  -0.48    6.9  15.06  29.03   2498    1.0\n",
       "theta[5]  -0.72    0.16    8.8 -18.39  -6.45  -0.87   4.86  16.89   3084    1.0\n",
       "theta[6]   1.22    0.21   10.9 -20.36  -6.59   1.43    8.9  22.26   2795    1.0\n",
       "theta[7]  17.83    0.18   9.72  -1.44  11.53  17.93  24.16  37.04   2906    1.0\n",
       "theta[8]  12.73     0.3  17.78 -23.11   0.75   12.7  24.85   47.0   3448    1.0\n",
       "lp__       -3.9    0.07   1.96  -8.47  -4.98  -3.57  -2.47   -1.0    854    1.0\n",
       "\n",
       "Samples were drawn using NUTS at Tue Mar 24 17:21:57 2020.\n",
       "For each parameter, n_eff is a crude measure of effective sample size,\n",
       "and Rhat is the potential scale reduction factor on split chains (at \n",
       "convergence, Rhat=1)."
      ]
     },
     "execution_count": 7,
     "metadata": {},
     "output_type": "execute_result"
    }
   ],
   "source": [
    "fit_01"
   ]
  },
  {
   "cell_type": "markdown",
   "metadata": {},
   "source": [
    "<h3>6. Segundo Modelo </h3>\n",
    "\n",
    "Eight Schools: Complete Poolin. Todas la medias provienen de una única distribución.\n",
    "\n",
    "- Todas las escuelas tomadas conjuntamente.\n",
    "\n",
    "$$\n",
    "y_i \\sim \\mathcal{N}(\\theta,\\sigma_i^2), \\text{ known } \\sigma_i^2\n",
    "$$"
   ]
  },
  {
   "cell_type": "code",
   "execution_count": 26,
   "metadata": {},
   "outputs": [],
   "source": [
    "schools_code_02 =\"\"\"\n",
    "\n",
    "data {\n",
    "int<lower=0> J; // # schools\n",
    "real y[J]; // estimated treatment\n",
    "real<lower=0> sigma[J]; // std err of effect\n",
    "}\n",
    "\n",
    "parameters {\n",
    "real theta; // pooled school effect\n",
    "}\n",
    "\n",
    "model {\n",
    "y ~ normal(theta, sigma);\n",
    "}\n",
    "\"\"\""
   ]
  },
  {
   "cell_type": "code",
   "execution_count": 27,
   "metadata": {},
   "outputs": [
    {
     "name": "stderr",
     "output_type": "stream",
     "text": [
      "INFO:pystan:COMPILING THE C++ CODE FOR MODEL anon_model_e0b1291c3bc60b4cb98f20fa1a861260 NOW.\n"
     ]
    }
   ],
   "source": [
    "# compile the  model\n",
    "sm_02 = pystan.StanModel(model_code=schools_code_02)"
   ]
  },
  {
   "cell_type": "code",
   "execution_count": 28,
   "metadata": {},
   "outputs": [],
   "source": [
    "# extract the samples\n",
    "fit_02 = sm_02.sampling(data=schools_dat, iter=1000, chains=4)"
   ]
  },
  {
   "cell_type": "code",
   "execution_count": 29,
   "metadata": {},
   "outputs": [
    {
     "data": {
      "text/plain": [
       "Inference for Stan model: anon_model_e0b1291c3bc60b4cb98f20fa1a861260.\n",
       "4 chains, each with iter=1000; warmup=500; thin=1; \n",
       "post-warmup draws per chain=500, total post-warmup draws=2000.\n",
       "\n",
       "        mean se_mean     sd   2.5%    25%    50%    75%  97.5%  n_eff   Rhat\n",
       "theta   7.87    0.14   3.93   0.18   5.22    7.8  10.47  15.84    810    1.0\n",
       "lp__   -2.82    0.02   0.66  -4.72  -2.95  -2.57   -2.4  -2.35    842    1.0\n",
       "\n",
       "Samples were drawn using NUTS at Tue Sep 24 13:07:55 2019.\n",
       "For each parameter, n_eff is a crude measure of effective sample size,\n",
       "and Rhat is the potential scale reduction factor on split chains (at \n",
       "convergence, Rhat=1)."
      ]
     },
     "execution_count": 29,
     "metadata": {},
     "output_type": "execute_result"
    }
   ],
   "source": [
    "fit_02"
   ]
  },
  {
   "cell_type": "markdown",
   "metadata": {},
   "source": [
    "<h3> 7. Tercer Modelo </h3>\n",
    "\n",
    "Eight Schools: Partial Pooling. Estimamos una media global y ahora cada media de las escuelas es una muestra de otra distribución  global.\n",
    "    \n",
    "- Estima una media global $\\mu$,la cual es un hiperparámetro  para el modelo y fijamos  otro hiperparámetro $\\tau = 25$ para esa distribución.\n",
    "\n",
    "\n",
    "$$\n",
    "\\begin{align}\n",
    "y_i &\\sim \\mathcal{N}(\\theta_i,\\sigma_i^2), \\text{ known } \\sigma_i^2\\\\\n",
    "\\theta_i &\\sim \\mathcal{N}(\\mu, \\tau^2) , \\text{ known } \\tau^2\n",
    "\\end{align}\n",
    "$$\n",
    "\n",
    "Así hemos supuesto que hay una media global $\\mu$ de tal manera que las medias $\\theta_i$ de las escuelas son generadas a partir de una distribución normal con media $\\mu$."
   ]
  },
  {
   "cell_type": "code",
   "execution_count": 32,
   "metadata": {},
   "outputs": [],
   "source": [
    "schools_code_03 =\"\"\"\n",
    "\n",
    "data {\n",
    "int<lower=0> J; // # schools\n",
    "real y[J]; // estimated treatment\n",
    "real<lower=0> sigma[J]; // std err of effect\n",
    "real<lower=0> tau; // variance between schools\n",
    "}\n",
    "\n",
    "parameters {\n",
    "real theta[J]; // school effect\n",
    "real mu; // mean for schools\n",
    "}\n",
    "\n",
    "model {\n",
    "theta ~ normal(mu, tau);\n",
    "y ~ normal(theta, sigma);\n",
    "}\n",
    "\"\"\"\n"
   ]
  },
  {
   "cell_type": "code",
   "execution_count": 34,
   "metadata": {},
   "outputs": [
    {
     "name": "stderr",
     "output_type": "stream",
     "text": [
      "INFO:pystan:COMPILING THE C++ CODE FOR MODEL anon_model_da44632f3f0b4c27764c2d4b292aeca0 NOW.\n"
     ]
    }
   ],
   "source": [
    "# compile the  model\n",
    "sm_03 = pystan.StanModel(model_code=schools_code_03)"
   ]
  },
  {
   "cell_type": "code",
   "execution_count": 36,
   "metadata": {},
   "outputs": [],
   "source": [
    "# the data\n",
    "schools_dat_03 = {'J': 8,\n",
    "               'y': [28,  8, -3,  7, -1,  1, 18, 12],\n",
    "               'sigma': [15, 10, 16, 11,  9, 11, 10, 18],\n",
    "               'tau': 25}"
   ]
  },
  {
   "cell_type": "code",
   "execution_count": 37,
   "metadata": {},
   "outputs": [],
   "source": [
    "# extract the samples\n",
    "fit_03 = sm_03.sampling(data=schools_dat_03, iter=1000, chains=4)"
   ]
  },
  {
   "cell_type": "code",
   "execution_count": 38,
   "metadata": {},
   "outputs": [
    {
     "data": {
      "text/plain": [
       "Inference for Stan model: anon_model_da44632f3f0b4c27764c2d4b292aeca0.\n",
       "4 chains, each with iter=1000; warmup=500; thin=1; \n",
       "post-warmup draws per chain=500, total post-warmup draws=2000.\n",
       "\n",
       "           mean se_mean     sd   2.5%    25%    50%    75%  97.5%  n_eff   Rhat\n",
       "theta[1]  22.64    0.22  13.05  -3.16  13.41  22.86  31.46  47.45   3410    1.0\n",
       "theta[2]   8.12    0.16   9.57 -10.51   1.56   8.22  14.69  26.11   3610    1.0\n",
       "theta[3]   0.33    0.23  14.04 -27.41  -8.92   0.04  10.17  28.17   3781    1.0\n",
       "theta[4]   7.09    0.16  10.06 -12.77   0.31   7.02  13.87  27.05   4011    1.0\n",
       "theta[5]   0.23    0.13   8.29 -16.21  -5.15   0.31   5.51  16.74   4255    1.0\n",
       "theta[6]   2.37    0.18  10.42 -18.19  -4.42   2.34   9.32  23.37   3417    1.0\n",
       "theta[7]  16.52    0.15   8.77  -0.91   11.0  16.31  22.42  33.87   3413    1.0\n",
       "theta[8]  10.74    0.22  14.63  -17.9   0.82  10.32  20.93   39.4   4488    1.0\n",
       "mu         8.77    0.18   9.83  -9.94   2.08   8.58   15.1  28.02   2918    1.0\n",
       "lp__      -4.89    0.07   2.07  -9.88  -5.98  -4.53  -3.38  -1.79    888    1.0\n",
       "\n",
       "Samples were drawn using NUTS at Tue Sep 24 13:22:36 2019.\n",
       "For each parameter, n_eff is a crude measure of effective sample size,\n",
       "and Rhat is the potential scale reduction factor on split chains (at \n",
       "convergence, Rhat=1)."
      ]
     },
     "execution_count": 38,
     "metadata": {},
     "output_type": "execute_result"
    }
   ],
   "source": [
    "fit_03"
   ]
  },
  {
   "cell_type": "markdown",
   "metadata": {},
   "source": [
    "<h3>8. Cuarto modelo</h3>\n",
    "\n",
    "Eight Schools: modelo jerárquico completo\n",
    "    \n",
    "• Estima los  hiperparametros $\\mu$ and $\\tau$\n",
    "\n",
    "\n",
    "\n",
    "\n",
    "$$\n",
    "\\begin{align}\n",
    "y_i &\\sim \\mathcal{N}(\\theta_i,\\sigma_i^2), \\text{ known } \\sigma_i^2\\\\\n",
    "\\theta_i &\\sim \\mathcal{N}(\\mu, \\tau)\n",
    "\\end{align}\n",
    "$$"
   ]
  },
  {
   "cell_type": "code",
   "execution_count": 39,
   "metadata": {},
   "outputs": [],
   "source": [
    "schools_code_04 =\"\"\"\n",
    "\n",
    "data {\n",
    "int<lower=0> J; // # schools\n",
    "real y[J]; // estimated treatment\n",
    "real<lower=0> sigma[J]; // std err of effect\n",
    "}\n",
    "\n",
    "parameters {\n",
    "real theta[J]; // school effect\n",
    "real mu; // mean for schools\n",
    "real<lower=0> tau; // variance between schools\n",
    "}\n",
    "\n",
    "model {\n",
    "theta ~ normal(mu, tau);\n",
    "y ~ normal(theta, sigma);\n",
    "}\n",
    "\"\"\"\n"
   ]
  },
  {
   "cell_type": "code",
   "execution_count": 40,
   "metadata": {},
   "outputs": [
    {
     "name": "stderr",
     "output_type": "stream",
     "text": [
      "INFO:pystan:COMPILING THE C++ CODE FOR MODEL anon_model_da7e6426ef8193e0aa34cb2b581c6be9 NOW.\n"
     ]
    }
   ],
   "source": [
    "# compile the  model\n",
    "sm_04 = pystan.StanModel(model_code=schools_code_04)"
   ]
  },
  {
   "cell_type": "code",
   "execution_count": 41,
   "metadata": {},
   "outputs": [
    {
     "name": "stderr",
     "output_type": "stream",
     "text": [
      "WARNING:pystan:56 of 2000 iterations ended with a divergence (2.8 %).\n",
      "WARNING:pystan:Try running with adapt_delta larger than 0.8 to remove the divergences.\n"
     ]
    }
   ],
   "source": [
    "# extract the samples\n",
    "fit_04 = sm_04.sampling(data=schools_dat, iter=1000, chains=4)"
   ]
  },
  {
   "cell_type": "code",
   "execution_count": 42,
   "metadata": {},
   "outputs": [
    {
     "data": {
      "text/plain": [
       "Inference for Stan model: anon_model_da7e6426ef8193e0aa34cb2b581c6be9.\n",
       "4 chains, each with iter=1000; warmup=500; thin=1; \n",
       "post-warmup draws per chain=500, total post-warmup draws=2000.\n",
       "\n",
       "           mean se_mean     sd   2.5%    25%    50%    75%  97.5%  n_eff   Rhat\n",
       "theta[1]  12.21    0.37   8.98  -1.97   6.35  11.05  16.44  33.94    582   1.01\n",
       "theta[2]   7.86    0.21   6.55  -5.73   4.05   7.72  11.96  20.75   1008    1.0\n",
       "theta[3]   5.91    0.26    8.4 -12.71   1.45   6.45  11.07  22.01   1051    1.0\n",
       "theta[4]    7.9    0.18   6.45  -5.84    4.0   7.63  11.83  21.13   1222    1.0\n",
       "theta[5]   4.82    0.24   6.41  -9.16   1.05   5.31   9.24  16.32    697   1.01\n",
       "theta[6]   5.81    0.23   6.88  -8.67   1.68   5.86  10.44  19.01    908    1.0\n",
       "theta[7]  11.23    0.33   6.71  -0.43    6.5  10.58  15.27  25.82    415   1.01\n",
       "theta[8]   8.37    0.29    8.1  -7.68   3.46   7.86  12.81  25.76    804    1.0\n",
       "mu         8.03     0.2   4.99  -1.55   4.81   7.93  11.23  18.06    643   1.01\n",
       "tau        7.58    0.34   5.15   1.66    3.8   6.38  10.14  21.42    232    1.0\n",
       "lp__     -18.77    0.49   4.89  -27.7 -22.25 -19.15 -15.74  -9.15    101   1.02\n",
       "\n",
       "Samples were drawn using NUTS at Tue Sep 24 13:34:16 2019.\n",
       "For each parameter, n_eff is a crude measure of effective sample size,\n",
       "and Rhat is the potential scale reduction factor on split chains (at \n",
       "convergence, Rhat=1)."
      ]
     },
     "execution_count": 42,
     "metadata": {},
     "output_type": "execute_result"
    }
   ],
   "source": [
    "fit_04"
   ]
  },
  {
   "cell_type": "markdown",
   "metadata": {},
   "source": [
    "<h2>9. Quinto modelo </h2>\n",
    "\n",
    "Modelo con efectos aleatorios\n",
    "    \n",
    "• Estima los hiperparámetros $\\mu$ and $\\tau$\n",
    "\n",
    "• Predice los efectos aleatorios $\\eta_i$\n",
    "\n",
    "\n",
    "$$\n",
    "\\begin{align}\n",
    "y_i &\\sim \\mathcal{N}(\\theta_i,\\sigma_i^2), \\text{ known } \\sigma_i^2\\\\\n",
    "\\theta_i & = \\mu + \\tau \\times \\eta_i \\\\\n",
    "\\eta_i &\\sim \\mathcal{N}(0, 1)\n",
    "\\end{align}\n",
    "$$"
   ]
  },
  {
   "cell_type": "code",
   "execution_count": 45,
   "metadata": {},
   "outputs": [],
   "source": [
    "schools_code_05 = \"\"\"\n",
    "\n",
    "data {\n",
    "    int<lower=0> J; // number of schools\n",
    "    vector[J] y; // estimated treatment effects\n",
    "    vector<lower=0>[J] sigma; // s.e. of effect estimates\n",
    "}\n",
    "\n",
    "parameters {\n",
    "    real mu;\n",
    "    real<lower=0> tau;\n",
    "    vector[J] eta;\n",
    "}\n",
    "\n",
    "transformed parameters {\n",
    "    vector[J] theta;\n",
    "    theta = mu + tau * eta;\n",
    "}\n",
    "model {\n",
    "    eta ~ normal(0, 1);\n",
    "    y ~ normal(theta, sigma);\n",
    "}\n",
    "\"\"\"\n"
   ]
  },
  {
   "cell_type": "code",
   "execution_count": 46,
   "metadata": {},
   "outputs": [
    {
     "name": "stderr",
     "output_type": "stream",
     "text": [
      "INFO:pystan:COMPILING THE C++ CODE FOR MODEL anon_model_2b5a7aab8238855033ba396e2bf4cff4 NOW.\n"
     ]
    }
   ],
   "source": [
    "# compile the  model\n",
    "sm_05 = pystan.StanModel(model_code=schools_code_05)"
   ]
  },
  {
   "cell_type": "code",
   "execution_count": 47,
   "metadata": {},
   "outputs": [
    {
     "name": "stderr",
     "output_type": "stream",
     "text": [
      "WARNING:pystan:7 of 2000 iterations ended with a divergence (0.35 %).\n",
      "WARNING:pystan:Try running with adapt_delta larger than 0.8 to remove the divergences.\n"
     ]
    }
   ],
   "source": [
    "# extract the samples\n",
    "fit_05 = sm_05.sampling(data=schools_dat, iter=1000, chains=4)"
   ]
  },
  {
   "cell_type": "code",
   "execution_count": 48,
   "metadata": {},
   "outputs": [
    {
     "data": {
      "text/plain": [
       "Inference for Stan model: anon_model_2b5a7aab8238855033ba396e2bf4cff4.\n",
       "4 chains, each with iter=1000; warmup=500; thin=1; \n",
       "post-warmup draws per chain=500, total post-warmup draws=2000.\n",
       "\n",
       "           mean se_mean     sd   2.5%    25%    50%    75%  97.5%  n_eff   Rhat\n",
       "mu         7.57    0.25   5.26  -3.14   4.41    7.7  10.96  17.03    449   1.02\n",
       "tau         6.8    0.47   6.64    0.2   2.35   5.02    9.0  25.03    196   1.02\n",
       "eta[1]     0.37    0.02   0.94  -1.58  -0.22   0.43   1.01   2.13   2050    1.0\n",
       "eta[2]   8.9e-3    0.02    0.9   -1.9  -0.54 7.1e-3    0.6   1.74   2083    1.0\n",
       "eta[3]    -0.17    0.02   0.91  -1.97  -0.76  -0.18   0.43   1.61   2326    1.0\n",
       "eta[4]    -0.03    0.02   0.92  -1.77  -0.67  -0.03   0.57   1.84   2062    1.0\n",
       "eta[5]    -0.34    0.02    0.9  -2.13  -0.94  -0.33   0.23   1.45   1670    1.0\n",
       "eta[6]    -0.19    0.02    0.9  -1.94  -0.81  -0.19   0.38   1.63   2046    1.0\n",
       "eta[7]     0.36    0.02   0.84  -1.36  -0.17   0.38   0.89   2.03   2386    1.0\n",
       "eta[8]     0.07    0.02   0.93   -1.8  -0.52   0.07   0.65   1.99   2475    1.0\n",
       "theta[1]   11.0    0.23   8.06  -2.92   5.74  10.09  15.72  29.94   1232    1.0\n",
       "theta[2]   7.73    0.14   6.57  -5.73   3.53   7.72  11.84  21.45   2141    1.0\n",
       "theta[3]   6.11     0.2    7.7 -10.07   1.96   6.64  11.03  20.23   1546    1.0\n",
       "theta[4]   7.46    0.15   6.98   -6.4   3.32   7.49  11.69  21.86   2230    1.0\n",
       "theta[5]   4.99    0.24   6.46  -9.15   0.88    5.5   9.39  16.28    748   1.01\n",
       "theta[6]   5.98    0.19   6.68   -9.1   2.04   6.47  10.35  18.11   1201    1.0\n",
       "theta[7]  10.66    0.15   6.65   -1.0   6.18  10.02   14.8   25.4   1943    1.0\n",
       "theta[8]   8.37    0.18   7.82  -6.82   3.66   8.14  12.42  26.55   1877    1.0\n",
       "lp__      -4.98    0.14   2.78  -10.9   -6.7   -4.8  -3.05   0.01    392    1.0\n",
       "\n",
       "Samples were drawn using NUTS at Tue Sep 24 13:43:03 2019.\n",
       "For each parameter, n_eff is a crude measure of effective sample size,\n",
       "and Rhat is the potential scale reduction factor on split chains (at \n",
       "convergence, Rhat=1)."
      ]
     },
     "execution_count": 48,
     "metadata": {},
     "output_type": "execute_result"
    }
   ],
   "source": [
    "fit_05"
   ]
  },
  {
   "cell_type": "markdown",
   "metadata": {},
   "source": [
    "<h2> 10. Tarea </h2>\n",
    "\n",
    "Reescriba la tarea del [cuaderno](./EAP_Interpretacion.ipynb) utilizando Stan y lo aprendido en este cuaderno."
   ]
  }
 ],
 "metadata": {
  "kernelspec": {
   "display_name": "Python 3",
   "language": "python",
   "name": "python3"
  },
  "language_info": {
   "codemirror_mode": {
    "name": "ipython",
    "version": 3
   },
   "file_extension": ".py",
   "mimetype": "text/x-python",
   "name": "python",
   "nbconvert_exporter": "python",
   "pygments_lexer": "ipython3",
   "version": "3.7.5"
  }
 },
 "nbformat": 4,
 "nbformat_minor": 4
}
