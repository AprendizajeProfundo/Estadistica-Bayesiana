{
 "cells": [
  {
   "cell_type": "markdown",
   "metadata": {},
   "source": [
    "<h1 align='center'> Curso de Estadística Bayesiana<br> Introducción a Stan</h1> \n",
    "\n",
    "<h3>Autor</h3>\n",
    "\n",
    "1. Alvaro Mauricio Montenegro Díaz, ammontenegrod@unal.edu.co\n",
    "2. Daniel Mauricio Montenegro Reyes, dextronomo@gmail.com \n",
    "\n",
    "<h3>Fork</h3>\n",
    "\n",
    "<h3>Referencias</h3>\n",
    "\n",
    "\n",
    "1. Gelman, A., Carlin, J., Stern, H., and Rubin, D. *Bayesian Data Analysis*, Chapman & Hall/CRC, 2000\n"
   ]
  },
  {
   "cell_type": "markdown",
   "metadata": {},
   "source": [
    "<h2>1. Stan: Help</h2>\n",
    "\n",
    "\n",
    "1.  User Guide: https://mc-stan.org/users/documentation/\n",
    "2.  Homepage: http://mc-stan.org\n",
    "3.  Stan Users group: https://groups.google.com/d/forum/stan-users\n"
   ]
  },
  {
   "cell_type": "markdown",
   "metadata": {},
   "source": [
    "<h3>Stanislaw Ulam </h3>\n",
    "\n",
    "\n",
    "(1909–1984), co-inventor del método de Monte Carlo. [Biografía](https://es.wikipedia.org/wiki/Stanis%C5%82aw_Ulam)"
   ]
  },
  {
   "cell_type": "markdown",
   "metadata": {},
   "source": [
    "<h2>2. Motivación para Stan y la Programación Probabilística</h2>\n",
    "\n",
    "1. **Ajustar modelos estadísticos Bayesianos poderosos** \n",
    "2. **El Porceso**: *A)Crea un modelo estadistico; B) Corre la inferencia del modelo; C) Evalua;*\n",
    "3. **Dificultades con las herramientas existentes para abordar los modelos de interés actuales** \n",
    "4. **Usabilidad**: *proósito general, Lenguaje de modelamiento claro, integración*\n",
    "5. **Escalabilidad**: *Complejidad del modelo, número de parámetros, tamaño de los datos*\n",
    "6. **Eficiencia**: *Tamaños de muestra altamente efectivos, iteraciones rápidas, baja memoria*\n",
    "7. **Robustez**: *estructura del modelo (por ejemplo goemetría posterior), rutinas numéricas*"
   ]
  },
  {
   "cell_type": "markdown",
   "metadata": {},
   "source": [
    "<h2>3. ¿Qué es Stan?</h2>\n",
    "\n",
    "**Lenguaje para especificación de modelos  estadísticos**: \n",
    "\n",
    "– high level, probabilistic programming language\n",
    "\n",
    "– user specifies statistical model\n",
    "\n",
    "– easy to create statistical models\n",
    "\n",
    "**Interfaces de usuario para distintas plataformas**: \n",
    "\n",
    "- CmdStan - command line\n",
    "- RStan - Integración con R\n",
    "- PyStan - Integración con Python\n",
    "- MStan - Integración con Matlab (user contributed)"
   ]
  },
  {
   "cell_type": "markdown",
   "metadata": {},
   "source": [
    "<h2>4. Inferencia. Lo que hay en el transfondo de Stan</h2>\n",
    "\n",
    "**Hamiltonian Monte Carlo (HMC)**\n",
    "\n",
    "- *La distribución del parámetro es muestreada en un espacio sin restricciones*. La base teórica es el muestreador Monte Carlo Hamiltoniano, que permite escanear el espacio del parámetro de manera mucho más eficiente que lo que hacen los muestreadores clásicos Metrópolis- Hastings o Gibbs y sus derivados.\n",
    "- *Transformaciones del parámetro*: ajuste automático del Jacobiano aosciado a las  transformaciones.\n",
    "- *Diferenciación automática*: Gradientes del modelo con respecto a los parámetros usando diferenciación automática.\n",
    "\n",
    "**No-U-Turn Sampler (NUTS)**\n",
    "\n",
    "- *Ajuste (tunning)* automático de los parámetros del muestreador. \n",
    "- *Calentamiento*: Estimación de la matriz de masa y tamaño del paso del muestreador.\n",
    "- *Muestreo*: Número adaptativo de pasos.\n",
    "- *Mantiene el balance detallado*. Que asegura tener cadenas de Mrkov reversibles.\n",
    "\n",
    "**Optimización: estimación modal**\n",
    "\n",
    "- Métodos BFGS y Newton."
   ]
  },
  {
   "cell_type": "markdown",
   "metadata": {},
   "source": [
    "<h2>5. Stan to científicos y más...</h2>\n",
    "\n",
    "- Lenguaje probabilístico flexible, el lenguaje sigue creciendo\n",
    "\n",
    "- Enfoque en la ciencia: el modelado y los supuestos.\n",
    "\n",
    "- Acceso a múltiples algoritmos (el valor predeterminado es bastante bueno)\n",
    "\n",
    "- Más rápido y menos propenso a errores que la implementación desde cero\n",
    "\n",
    "- Implementación eficiente\n",
    "\n",
    "- Mucha ayuda de modelado (gratis) en la lista de usuarios\n",
    "\n",
    "- Desarrolladores receptivos, soporte continuo para Stan\n",
    "\n",
    "- No solo por inferencia\n",
    "\n",
    "- Muestreo de avance rápido; muchas distribuciones\n",
    "\n",
    "- Gradientes para funciones arbitrarias"
   ]
  },
  {
   "cell_type": "markdown",
   "metadata": {},
   "source": [
    "<h2>6. El lenguaje Stan </h2>\n",
    "\n",
    "**Tipos de datos**\n",
    "\n",
    "– básicos: real, int, vector, row_vector, matrix\n",
    "\n",
    "– restringidos: simplex, unit_vector, ordered, positive_ordered, corr_matrix, cov_matrix\n",
    "\n",
    "- arrays\n",
    "\n",
    "**Variables acotadas**\n",
    "\n",
    "- Aplica a datos o parámetros de tipo  int, real, matrix.\n",
    "\n",
    "- Ejemplo de lower: real<lower=0> sigma;\n",
    "\n",
    "- Ejemplo de upper: real<upper=100> x;\n"
   ]
  },
  {
   "cell_type": "markdown",
   "metadata": {},
   "source": [
    "<h2>7. El lenguaje Stan</h2>\n",
    "\n",
    "**Bloques de un programa**\n",
    "\n",
    "- data (opcional)\n",
    "\n",
    "- transformed data (opcional)\n",
    "\n",
    "- parameters (opcional)\n",
    "\n",
    "- transformed parameters (opcional)\n",
    "\n",
    "- model\n",
    "\n",
    "- generated quantities (opcional)\n"
   ]
  },
  {
   "cell_type": "markdown",
   "metadata": {},
   "source": [
    "<h2> 8. Un primer ejemplo.</h2>\n",
    "\n",
    "Introducimos un primer ejemplo general. [El desarrollo completo de este ejemplo encontrarlo en este cuaderno](./Stan_Ejemplo_1_eight_schools.ipynb)\n",
    "\n",
    "<h3> Modelo estadístico</h3>\n",
    "\n",
    "Supongamos que tenemos observaciones $[y_n |x_n], n=1,\\ldots,N$, y asumamos el modelo Bayesiano\n",
    "\n",
    "$$\n",
    "\\begin{align}\n",
    "y_n &\\sim \\mathcal{N}(\\alpha + \\beta x_n, \\sigma^2),\\quad n=1,\\ldots,N\\\\\n",
    "\\alpha &\\sim \\mathcal{N}(0, 100)\\\\\n",
    "\\beta &\\sim \\mathcal{N}(0, 100)\\\\\n",
    "\\sigma &\\sim \\mathcal{C}auchy(0, 25) 1_{\\sigma>0}\\\\\n",
    "\\end{align}\n",
    "$$\n",
    "\n",
    "\n",
    "Discuta con sus compañeros las distribuciones a priori."
   ]
  },
  {
   "cell_type": "markdown",
   "metadata": {},
   "source": [
    "<h3> Posible implementación en Stan</h3>\n",
    "\n",
    "Entonces, el modelo  se escribe es Stan de la siguiente manera (en Stan no debe dar las varianzas sino las desviaciones estándar):\n",
    "\n",
    "data { <br>\n",
    "int<lower=0> N;<br>\n",
    "vector[N] y;<br>\n",
    "vector[N] x;<br>\n",
    "}<br>\n",
    "\n",
    "\n",
    "parameters {<br>\n",
    "real alpha;<br>\n",
    "real beta;<br>\n",
    "real<lower=0> sigma;<br>\n",
    "}<br>\n",
    "\n",
    "\n",
    "model {<br>\n",
    "alpha ~ normal(0,10);<br>\n",
    "beta ~ normal(0,10);<br>\n",
    "sigma ~ cauchy(0,5);<br>\n",
    "for (n in 1:N)<br>\n",
    "   y[n] ~ normal(alpha + beta * x[n], sigma);<br>\n",
    "}<br>"
   ]
  },
  {
   "cell_type": "markdown",
   "metadata": {},
   "source": [
    "El código anterior no corre directamente, porque es necesario pasar a Stan los datos y además usar la interface  desde donde se 'lanza' el código STAN. Para los detalles de implementación [vaya a.](./Stan_Ejemplo_1_eight_schools.ipynb)"
   ]
  }
 ],
 "metadata": {
  "kernelspec": {
   "display_name": "Python 3",
   "language": "python",
   "name": "python3"
  },
  "language_info": {
   "codemirror_mode": {
    "name": "ipython",
    "version": 3
   },
   "file_extension": ".py",
   "mimetype": "text/x-python",
   "name": "python",
   "nbconvert_exporter": "python",
   "pygments_lexer": "ipython3",
   "version": "3.7.5"
  }
 },
 "nbformat": 4,
 "nbformat_minor": 4
}
