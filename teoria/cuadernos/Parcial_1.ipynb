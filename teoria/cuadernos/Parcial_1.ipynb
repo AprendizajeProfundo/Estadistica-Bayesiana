{
 "cells": [
  {
   "cell_type": "markdown",
   "metadata": {},
   "source": [
    "# Curso de Estadística Bayesiana\n",
    "\n",
    "## Examen 1"
   ]
  },
  {
   "cell_type": "markdown",
   "metadata": {},
   "source": [
    "## Profesor\n",
    "\n",
    "### Alvaro Mauricio Montenegro Díaz, ammontenegrod@unal.edu.co"
   ]
  },
  {
   "cell_type": "markdown",
   "metadata": {},
   "source": [
    "## Referencias\n",
    "\n",
    "1. Alvaro Montenegro, [Curso de Estadística Bayesiana](https://github.com/AprendizajeProfundo/Estadistica-Bayesiana), 2020\n",
    "2. De Paula Gilberto, [\"MODELOS DE REGRESSÃO com apoio computacional, ](https://www.ime.usp.br/~giapaula/texto_2013.pdf), Instituto de Matemática e Estatística  Universidade de São  Paulo\n",
    "3.  [\"Stan User's Guide. Version 2.22\", Stan Development Team, 2020.](https://mc-stan.org/users/documentation/)\n",
    "4. Kumar, Ravin and Carroll, Colin and Hartikainen, Ari and Martin, Osvaldo A., [ArviZ a unified library for exploratory analysis of Bayesian models in Python](https://arviz-devs.github.io/arviz/), [The Journal of Open Source Software], 2019.\n",
    "5. Richard McElreath, [\"Statistical Rethinking, A Bayesian Course with examples in R and Stan\"](http://xcelab.net/rmpubs/rethinking/Statistical_Rethinking_sample.pdf), version compilada en noviembre 9 de 2015.\n"
   ]
  },
  {
   "cell_type": "markdown",
   "metadata": {},
   "source": [
    "## Introducción\n",
    "   \n",
    "Bienvenidas y bienvenidos  al primer parcial. Recuerden que este parcial es para aprender principalmente y para consolidar sus conocimientos.\n",
    "\n",
    "Pueden trabajar en grupo, máximo dos personas. Preparen su informe en un cuaderno de Jupyter Lab. Sus códigos debe escribirlos en Pystan y Python.\n",
    "Suba la  solución de su examen antes de la media noche (12.00 de la noche) del día 03 de mayo de 2020 a las 11.59. Favor enviar el enlace de su drive, a las siguientes direcciones:  ammontenegrod@unal.edu.co, ammontenegrod@gmail.com, con permiso para para lectura.\n",
    "\n",
    "Puede modificar el archivo cuantas veces desee, luego de esa fecha. Sin embargo a partir de esa fecha el profesor queda en libertad de revisar y emitir una calificación preliminar.\n"
   ]
  },
  {
   "cell_type": "markdown",
   "metadata": {},
   "source": [
    "## Revisión de Conceptos (20%)\n",
    "\n",
    "Haga una breve disertación en sus propias palabras de lo estudiado hast ahora en el curso incluyendo los siguientes conceptos:\n",
    "\n",
    "1. Distribución de los parámetros.\n",
    "2. Distribución conjunta de parámetros y observaciones.\n",
    "3. Distribición posterior.\n",
    "4. Distribución predictiva.\n",
    "\n",
    "Puede apoyarse en la bibliografía propuesta."
   ]
  },
  {
   "cell_type": "markdown",
   "metadata": {},
   "source": [
    "## Modelo Beta-Binomial 10%\n",
    "\n",
    "Considere un modelo de observación Binomial. $y\\sim\n",
    "Bin(n, \\pi)$. \n",
    "\n",
    "1. Considere la a priori plana $p(\\pi)\\varpropto 1$. encuentre\n",
    "la distribución a posteriori, y el estimador Bayesiano EAP de\n",
    "$\\pi$.\n",
    "2. Considere la a priori de Jeffreys $p(\\pi)\\varpropto\n",
    "\\left[I(\\pi)\\right]^{1/2}$. Encuentre la distribución a\n",
    "posteriori de $\\pi$ y el estimador Bayesiano EAP de $\\pi$.\n",
    "3. Considere la a priori general $Beta(\\alpha,\\beta)$. Encuentre la distribución a\n",
    "posteriori de $\\pi$, el estimador Bayesiano EAP de $\\pi$ y la varianza de la distribución posterior the  $\\pi$.\n",
    "\n"
   ]
  },
  {
   "cell_type": "markdown",
   "metadata": {},
   "source": [
    "## Modelo para datos asimétricos 35%\n",
    "\n",
    "Los datos de la tabla 1 muestran los resultados de un experimento conducido para evaluar el desempeño de cinco tipos de turbina de alta velocidad para motores de aviación. Fueron considerados 10 motores de cada tipo para el análisis. Verifique que es razonable suponer que cada  medida $T_{ij}, i =1,\\ldots,5, j=1,\\ldots,10$  puede ser modelada como  $T_{ij} \\sim Gamma(\\mu_i,\\phi)$, en donde \n",
    "\n",
    "$$\n",
    "\\begin{equation*}\n",
    "\\mu_i= \\mu + \\beta_i, i =1,\\dots,5\n",
    "\\end{equation*}\n",
    "$$\n",
    "\n",
    "|Tipo 1 | Tipo 2 | Tipo 3 | Tipo 4 | Tipo 5|\n",
    "|---|---|---|---|---|\n",
    "|3.03    |   3.19    |    3.46   |    5.88     |     6.43|\n",
    "|5.53    |    4.26   |   5.22    |     6.74    |     9.97|\n",
    "|5.60    |    4.47   |    5.69   |     6.90    |    10.39|\n",
    "|9.30    |    4.53   |    6.54   |     6.98    |    13.55|\n",
    "|9.92    |    4.67   |    9.16   |     7.21    |    14.45|\n",
    "|12.51   |    4.69   |    9.40   |     8.14    |    14.72|\n",
    "|15.21   |    6.79   |   10.71   |     9.80    |    18.39|\n",
    "|16.84   |  12.75    |   13.41   |    25.46    |    21.51|\n",
    "\n",
    "*Tabla 1. Tiempo (en millones de ciclos) hasta perder velocidad por tipo de turbina, de 10 10 motores por cada tipo de turbina*\n",
    "\n",
    "Use Stan para obtener una estimación de los parámetros $\\mu, \\beta_i, i=1,\\ldots,5$, y $\\phi$. Haga una discusión detallada de los resultados. Incluya los datos, gráficas y estadísticas que considere necesarios."
   ]
  },
  {
   "cell_type": "markdown",
   "metadata": {},
   "source": [
    "### Sugerencias"
   ]
  },
  {
   "cell_type": "markdown",
   "metadata": {},
   "source": [
    "#### S1\n",
    "Para la distribución Gama use la parametrización $f(y;\\mu,\\phi)= \\frac{1}{\\Gamma(\\phi)} \\left(\\frac{\\phi y}{\\mu} \\right)^{\\phi} \\exp \\left( - \\frac{\\phi y}{\\mu}\\right)$.\n",
    "\n",
    "\n",
    "#### S2\n",
    "\n",
    "En Stan la distribución Gama tiene la forma \n",
    "\n",
    "$$\n",
    "\\text{Gamma}(y|a,b) = \\frac{a^{b}}{\\Gamma(a)}{y^{a-1}\\exp(-b y)}\n",
    "$$\n",
    "\n",
    "Si $\\mu$ es la media de la distribución, se tiene que\n",
    "\n",
    "$$\n",
    "\\begin{align}\n",
    "\\mu &= \\frac{a}{b}\\\\\n",
    "\\sigma^2 &= \\frac{a}{b^2} = \\mu\\frac{1}{b}\n",
    "\\end{align}\n",
    "$$\n",
    "Sea $\\phi = \\frac{1}{\\sigma^2}$. Entonces $\\phi$ es el parámetro de precisión de cada grupo de turbinas.\n",
    "\n",
    "Por lo que podemos hacer la reparametrización\n",
    "\n",
    "$$\n",
    "\\begin{align}\n",
    "a &= \\phi\\mu^2 \\\\\n",
    "b &= \\phi\\mu\n",
    "\\end{align}\n",
    "$$"
   ]
  },
  {
   "cell_type": "markdown",
   "metadata": {},
   "source": [
    "#### S3\n",
    "\n",
    "Supongamos que la matrix de datos es $y$ de tamaño $N\\times T$, en donde $N=10$ es el numéro de observaciones por tipo de turbina y $T=6$ es el número de turbinas.\n",
    "\n",
    "Sea $Y$ la matriz aleatoria del mismo tamaño, que corresponde a las variables aelatorias que generan los datos. Entonces se tiene que\n",
    "\n",
    "$$\n",
    "Y_{ij} \\sim \\text{Gamma}(\\phi_{ij}\\mu_{ij}^2, \\phi_{ij}\\mu_{ij}),\n",
    "$$\n",
    "\n",
    "en donde $\\phi_{ij}>0$ y $\\mu_{ij}>0$\n",
    "\n",
    "$$\n",
    "\\begin{align}\n",
    "\\phi_{ij}&= \\phi_j; \\quad i= 1,\\ldots,N; \\quad j= 1,\\ldots,T\\\\\n",
    "\\mu_{ij} &= \\exp(\\mu + \\beta_j); \\quad i= 1,\\ldots,N;\\quad j= 1,\\ldots,T\n",
    "\\end{align}\n",
    "$$\n",
    "\n",
    "Nota. También pueden probar $\\mu_{ij}=\\mu + \\beta_j$. Controlando que $\\mu_{ij}$ no sea negativo.\n",
    "\n",
    "Es decir, asumimos un único parámetro de forma $\\phi>0$. Adicionalmente se usa la función de enlace $\\ln $, para garantizar que $\\mu_{ij}>0$. Es decir asumimos que $\\ln \\mu_{ij}$ = $\\mu + \\beta_j$."
   ]
  },
  {
   "cell_type": "markdown",
   "metadata": {},
   "source": [
    "#### S4\n",
    "\n",
    "Ahora bien. Supongamos que la matrix de datos es $y$ de tamaño $N\\times T$, en donde $N=10$ es el numéro de observaciones por tipo de turbina y $T=6$ es el número de turbinas.\n",
    "\n",
    "Sea $Y$ la matriz aleatoria del mismo tamaño, que corresponde a las variables aelatorias que generan los datos. Entonces se tiene que\n",
    "\n",
    "$$\n",
    "Y_{ij} \\sim \\text{Gamma}(\\phi_{ij}\\mu_{ij}^2, \\phi_{ij}\\mu_{ij}),\n",
    "$$\n",
    "\n",
    "en donde $\\phi_{ij}>0$ y $\\mu_{ij}>0$\n",
    "\n",
    "$$\n",
    "\\begin{align}\n",
    "\\phi_{ij}&= \\phi_j; \\quad i= 1,\\ldots,N; \\quad j= 1,\\ldots,T\\\\\n",
    "\\mu_{ij} &= \\exp(\\mu + \\beta_j); \\quad i= 1,\\ldots,N;\\quad j= 1,\\ldots,T\n",
    "\\end{align}\n",
    "$$\n",
    "\n",
    "Nota. También pueden probar $\\mu_{ij}=\\mu + \\beta_j$. Contrlonado que $\\mu_{ij}$ no sea negativo.\n",
    "\n",
    "Es decir, asumimos un único parámetro de forma $\\phi>0$. Adicionalmente se usa la función de enlace $\\ln $, para garantizar que $\\mu_{ij}>0$. Es decir asumimos que $\\ln \\mu_{ij}$ = $\\mu + \\beta_j$."
   ]
  },
  {
   "cell_type": "markdown",
   "metadata": {},
   "source": [
    "#### S5\n",
    "\n",
    "Recuerde definir a prioris con sentido para $\\phi$ y $\\beta$. Por otro lado, existe un problema de identificabilidad, es decir infinitas soluciones, debido a que si $k$ es una constante cualquiera diferente de cero, se tiene que\n",
    "\n",
    "$$\n",
    "\\mu +\\beta_j = (\\mu+k) + (\\beta_j-k)\n",
    "$$\n",
    "\n",
    "En consecuencia es necesario defienir una restricción en el modelo. Por ejemplo $\\mu=0$, o $\\beta_j=0$, para algún $j$. Les sugiero hacer lo siguiente $\\beta_1=0$.\n",
    "\n",
    "En consecuencia, ahora los parámetros por estimar son $\\phi$, el vector $\\beta = (\\beta_2,\\ldots,\\beta_T)'$ y $\\mu$.\n",
    "\n",
    "Lo que pueden hacer es declarar digamos $\\beta_f$ como un vector de tamaño $T-1$ y dentro de la sección del modelo hacer lo siguiente\n",
    "\n",
    "model{\n",
    "\n",
    "vector[T] beta;\n",
    "\n",
    "vector[N] muij\n",
    "\n",
    "beta[1] = 0;\n",
    "\n",
    "for (j in 2:T){\n",
    "\n",
    "  beta[j] = beta_f[j-1];\n",
    "  \n",
    "  }\n",
    "\n",
    "for (i in 1:N){\n",
    "\n",
    "  for (j in 1:T){\n",
    "  \n",
    "     muij = mu + beta[j];\n",
    "     \n",
    "     muij = (mij>27)?27:muij;\n",
    "     \n",
    "     mu_ij = exp(mu_ij) \n",
    "    \n",
    "    // o tambiem\n",
    "    \n",
    "    muij = mu + beta[j]; \n",
    "    \n",
    "    muij = (mij<0.01)?0.01:muij;\n",
    "     }\n",
    "     \n",
    "  }  \n",
    "  \n",
    "...\n",
    "\n",
    "}\n",
    "\n",
    "\n",
    "La línea extraña es para es opcional y sirve para evitar desbordamiento del exponencial. Es una practica de programación. Investiguen sobre el uso del operador ternario ?.\n"
   ]
  },
  {
   "cell_type": "markdown",
   "metadata": {},
   "source": [
    "## Modelo para datos binarios 35%\n",
    "\n",
    "La tabla 2 muestra  los datos experimentales sobre la influencia de la razón y del volúmen del aire aspirado en la constricción vascular de la piel de los dedos de la mano, de un experimento reportado por Predigon. \n",
    "\n",
    "\n",
    "\n",
    "La respuesta es dicotómica: ocurrencia (1), y no ocurrecia (0). Se asume para cada observación $Y_i \\sim Ber(\\pi_i)$. El modelo lineal logistico es definido por\n",
    "\n",
    "$$\n",
    "\\begin{equation*}\n",
    "\\log \\left(\\frac{\\pi_i}{1-\\pi_i}\\right) = \\beta_1 + \\beta_2 \\log(\\text{volúmen})_i + \\beta_3 \\log(\\text{razón})_i.\n",
    "\\end{equation*}\n",
    "$$\n",
    "\n",
    "\n",
    "Use Stan para obtener una estimación de los parámetros $\\beta_i, i=1,\\ldots3$. Haga una discusión detallada de los resultados. Incluya los datos, gráficas y estadísticas que considere necesarios."
   ]
  },
  {
   "cell_type": "markdown",
   "metadata": {},
   "source": [
    " ### Datos\n",
    " \n",
    "      y   vol   razón\n",
    "      1  3.70    0.825\n",
    "      1  3.50    1.090\n",
    "      1  1.25    2.500\n",
    "      1  0.75    1.500\n",
    "      1  0.80    3.200\n",
    "      1  0.70    3.500\n",
    "      0  0.60    0.750\n",
    "      0  1.10    1.700\n",
    "      0  0.90    0.750\n",
    "      0  0.90    0.450\n",
    "      0  0.80    0.570\n",
    "      0  0.55    2.750\n",
    "      0  0.60    3.000\n",
    "      1  1.40    2.330\n",
    "      1  0.75    3.750\n",
    "      1  2.30    1.640\n",
    "      1  3.20    1.600\n",
    "      1  0.85    1.415\n",
    "      0  1.70    1.060\n",
    "      1  1.80    1.800\n",
    "      0  0.40    2.000\n",
    "      0  0.95    1.360\n",
    "      0  1.35    1.350\n",
    "      0  1.50    1.360\n",
    "      1  1.60    1.780\n",
    "      0  0.60    1.500\n",
    "      1  1.80    1.500\n",
    "      0  0.95    1.900\n",
    "      1  1.90    0.950\n",
    "      0  1.60    0.400\n",
    "      1  2.70    0.750\n",
    "      0  2.35    0.030\n",
    "      0  1.10    1.830\n",
    "      1  1.10    2.200\n",
    "      1  1.20    2.000\n",
    "      1  0.80    3.330\n",
    "      0  0.95    1.900\n",
    "      0  0.75    1.900\n",
    "      1  1.30    1.625\n",
    "\n",
    "*Tabla 2. datos sobre influencia de la razón y del volúmen del aire aspirado en la constricción vascular de la piel de los dedos de la mano*"
   ]
  },
  {
   "cell_type": "markdown",
   "metadata": {},
   "source": [
    "### Sugerencias\n"
   ]
  },
  {
   "cell_type": "markdown",
   "metadata": {},
   "source": [
    "#### S6\n",
    "\n",
    "Los parámetros del modelo son $\\beta=(\\beta_1,\\beta_2,\\beta_3)'$\n",
    "\n",
    "Los datos son $Y$, volumen y razon y $N$, el número de datos\n",
    "\n",
    "en la sección datos transformados puede hacer\n",
    "\n",
    "log_vol = log(volumen)\n",
    "\n",
    "log_razon = log(razon)\n",
    "\n",
    "\n",
    "Para la verosimitud es mejor usar la función *bernoulli_logit* por lo que pueden escribir digamos\n",
    "\n",
    "model {\n",
    "\n",
    "  y ~ bernoulli_logit(beta[1] + beta[2]  $\\times$ log_vol + beta[3]$\\times$log_razon);\n",
    "\n",
    "}\n",
    "\n",
    "Tengan cuidado, porque no es $\\times$ sino el asterisco."
   ]
  },
  {
   "cell_type": "markdown",
   "metadata": {},
   "source": [
    "Que se diviertan mucho!!!!"
   ]
  }
 ],
 "metadata": {
  "kernelspec": {
   "display_name": "Python 3",
   "language": "python",
   "name": "python3"
  },
  "language_info": {
   "codemirror_mode": {
    "name": "ipython",
    "version": 3
   },
   "file_extension": ".py",
   "mimetype": "text/x-python",
   "name": "python",
   "nbconvert_exporter": "python",
   "pygments_lexer": "ipython3",
   "version": "3.7.5"
  }
 },
 "nbformat": 4,
 "nbformat_minor": 4
}
