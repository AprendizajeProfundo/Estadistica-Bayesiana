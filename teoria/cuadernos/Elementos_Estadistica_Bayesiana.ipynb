{
 "cells": [
  {
   "cell_type": "markdown",
   "metadata": {},
   "source": [
    "#  Elementos de la Estadística Bayesiana"
   ]
  },
  {
   "cell_type": "markdown",
   "metadata": {},
   "source": [
    "## Autor\n",
    "\n",
    "1. Alvaro Mauricio Montenegro Díaz, ammontenegrod@unal.edu.co\n",
    "2. Daniel Mauricio Montenegro Reyes, dextronomo@gmail.com \n",
    "\n",
    "## Fork\n",
    "\n",
    "## Referencias"
   ]
  },
  {
   "cell_type": "markdown",
   "metadata": {},
   "source": [
    "##  Teorema de Bayes\n",
    "\n",
    "La inferencia a cerca del parámetro  $\\boldsymbol{\\theta}$ está basada en la distribución posterior distribution que denotamos por $\\pi(\\boldsymbol{\\theta})$ o equivalentemente  $p(\\boldsymbol{\\theta}|\\mathbf{y})$.  The distribución posterior es dada por \n",
    "\n",
    "$$\n",
    "\\begin{align}\n",
    "\\pi(\\boldsymbol{\\theta}):=p(\\boldsymbol{\\theta}|\\mathbf{y}) &=\\frac{p(\\mathbf{y},\\boldsymbol{\\theta})}{p(\\mathbf{y})}=\\frac{p(\\mathbf{y},\\boldsymbol{\\theta})}{\\int p(\\mathbf{y},\\boldsymbol{\\theta})d\\boldsymbol{\\theta}}\\\\\n",
    "&=\\frac{f(\\mathbf{y}|\\boldsymbol{\\theta})p(\\boldsymbol{\\theta})}{\\int f(\\mathbf{y}|\\boldsymbol{\\theta})p(\\boldsymbol{\\theta})d\\boldsymbol{\\theta}} = \\frac{f(\\mathbf{y}|\\boldsymbol{\\theta})p(\\boldsymbol{\\theta})}{p(\\mathbf{y})}\\\\\n",
    "&= \\frac{\\text{verosimilitud}\\times \\text{a priori}}{\\text{marginal de } \\mathbf{y}}\n",
    "\\end{align}\n",
    "$$\n",
    "\n",
    "\n",
    "\n"
   ]
  },
  {
   "cell_type": "markdown",
   "metadata": {},
   "source": [
    "### Modelo Gaussiano-Gaussiano. Versión 0.\n",
    "\n",
    "Supongamos que $y$ proviene  de una variable aleatoria $Y \\sim N(\\theta,\\sigma^2)$, en donde $\\sigma^2$ es conocida.\n",
    "\n",
    "En este caso, la a priori y la versimilitud son Gaussianas.\n",
    "\n",
    "$$\n",
    "\\begin{align*}\n",
    "\\theta &\\sim N(\\mu,\\tau^2)\\\\\n",
    "Y|\\theta & \\sim N(\\theta,\\sigma^2),\n",
    "\\end{align*}\n",
    "$$\n",
    "\n",
    "En consecuencia,  la distribución marginal de $Y$ es  $N(\\mu, \\sigma^2+\\tau^2)$, y la distribución posterior también es Gaussiana con media and varianza dadas por\n",
    "\n",
    "$$\n",
    "\\begin{align}\n",
    "E[\\theta|Y] &= B\\mu + (1-B)Y\\\\\n",
    "Var[\\theta|Y] & =(1-B)\\sigma^2,\n",
    "\\end{align}\n",
    "$$\n",
    "con,\n",
    "$$\n",
    "B= \\frac{\\sigma^2}{\\sigma^2+\\tau^2}\n",
    "$$"
   ]
  },
  {
   "cell_type": "markdown",
   "metadata": {},
   "source": [
    "##  Distribución marginal de la muestra. \n",
    "\n",
    "### Primera Aproximación\n",
    "\n",
    "La distribución posterior incluye en el denominador, la probabilidad de la muestra observada. Nótese que\n",
    "\n",
    "$$\n",
    "\\begin{equation}\n",
    "f(\\boldsymbol{\\mathcal{y}})=\\int f(\\boldsymbol{\\mathcal{y}}|\\boldsymbol{\\theta})p(\\boldsymbol{\\theta})d\\boldsymbol{\\theta}.\n",
    "\\end{equation}\n",
    "$$\n",
    "\n",
    "Es decir que, $f(\\boldsymbol{\\mathcal{y}})= E_{p(\\theta)}[f(\\boldsymbol{\\mathcal{y}}|\\theta)]$. Esta expresión, indica una forma práctica de *estimar* $f(\\boldsymbol{\\mathcal{y}})$. En efecto, dada una muestra $\\{ \\theta_1,\\theta_2,\\ldots,\\theta_n\\}$ de la distribución a priori $p(\\theta)$, entonces\n",
    "\n",
    "$$\n",
    "f(\\boldsymbol{\\mathcal{y}}) \\approx \\frac{1}{n}\\sum_{i=1}^{n} f(\\boldsymbol{\\mathcal{y}}|\\theta_i).\n",
    "$$\n",
    "\n",
    "El problema con esta aproximación inicial es que si la a priori y la verosimilitud difieren substancialmente, la estimación llega a ser muy mala, debido a que $p(\\theta)$ puede generar frecuentemente muestras en las cuales la verosimilitud tiene valores muy bajos. También la a priori  puede estar muy concentrada y no muestrar suficientemente valores en donde la  verosimilitud toma valores importantes. La gráfica ilustra esta última situación, en un modelo *Gaussiano-Gaussiano*. Más adelante en el curso mostraremos como obtener estimaciones más adecuadas para $f(\\mathbf{y})$."
   ]
  },
  {
   "cell_type": "code",
   "execution_count": 2,
   "metadata": {},
   "outputs": [
    {
     "data": {
      "image/png": "[encoded data removed]",
      "text/plain": [
       "<Figure size 720x432 with 1 Axes>"
      ]
     },
     "metadata": {
      "needs_background": "light"
     },
     "output_type": "display_data"
    }
   ],
   "source": [
    "import matplotlib.pyplot as plt\n",
    "import numpy as np\n",
    "from scipy import stats\n",
    "\n",
    "# parameters of the distributions\n",
    "mu_prior = 3\n",
    "sigma_prior = 0.5\n",
    "\n",
    "mu_likelihood =0\n",
    "sigma_likelihood =1\n",
    "\n",
    "# x values to the plot\n",
    "left = -3\n",
    "right = 6\n",
    "x = np.linspace(left,right,200)\n",
    "\n",
    "fig, ax = plt.subplots(figsize=(10,6))\n",
    "# delimit y axis\n",
    "ax.set_ylim(0,1)\n",
    "ax.set_xlim(left,right)\n",
    "# compute y values to prior and loglikelihood for the plot\n",
    "likelihood = stats.norm.pdf(x, loc = mu_likelihood, scale = sigma_likelihood)\n",
    "prior = stats.norm.pdf(x, loc = mu_prior, scale = sigma_prior)\n",
    "\n",
    "# plot the posterior\n",
    "ax.plot(x,likelihood,label = 'likelihood')\n",
    "\n",
    "# plot the prior\n",
    "ax.plot(x,prior,label = 'prior:')\n",
    "\n",
    "\n",
    "ax.set_xlabel('$x$', fontsize=14)\n",
    "ax.set_ylabel('$f(x)$', fontsize=14)\n",
    "fig.suptitle('Gráficos de la verosimilitud y una a priori distantes',fontsize=16)\n",
    "ax.legend()\n",
    "plt.show()"
   ]
  },
  {
   "cell_type": "markdown",
   "metadata": {},
   "source": [
    "##  Distribución predictiva\n",
    "\n",
    "Un  aspecto muy importante de la estadística Bayesian es la poder precedir valores futuros, con base en los valores ya obtenidos. **La distibución predictiva** de un valor futuro $x$, dados los datos ya observados $\\mathbf{y}$ está dada por\n",
    "\n",
    "$$\n",
    "\\begin{equation}\n",
    "f(x|\\mathbf{y})=\\int f(x,\\boldsymbol{\\theta}|\\mathbf{y})d\\boldsymbol{\\theta}= \\int f(x|\\boldsymbol{\\theta})\\pi(\\boldsymbol{\\theta})d\\boldsymbol{\\theta} = E_{\\pi(\\theta)}[f(x|\\boldsymbol{\\theta})].\n",
    "\\end{equation}\n",
    "$$\n",
    "\n",
    "Esta ecuación debe interpretarse de la siguiente manera. Para generar un nuevo valor $x$, dados los valores observados $\\mathbf{y}$  haga lo siguiente:\n",
    "\n",
    "1. Obtenga la posterior a partir de la muestra:  $\\pi(\\theta) := p(\\theta|\\boldsymbol{\\mathcal{y}})$.\n",
    "2. Obtenga una muestra de $\\theta$ de la posterior: $\\theta \\sim \\pi(\\theta)$.\n",
    "3. Obtenga la muestra para  $x$ de la verosimilitud: $x \\sim f(x|\\theta)$.\n",
    "\n",
    "En la clase [Análisis Exploratorio Bayesiano](Analisis_Exploratorio_Bayesiano.ipynb) veremos como hacer esto en Stan."
   ]
  },
  {
   "cell_type": "markdown",
   "metadata": {},
   "source": [
    "## Estadística suficiente\n",
    "\n",
    "Dada una muestra $\\mathbf{y}$ de $n$ observaciones independientes se tiene que la verosimitud dado el parámetro $\\boldsymbol{\\theta}$ es \n",
    "\n",
    "$$\n",
    "\\begin{align}\n",
    "f(\\mathbf{y}|\\boldsymbol{\\theta})= \\prod_{i=1}^n f(y_i|\\boldsymbol{\\theta})\n",
    "\\end{align}\n",
    "$$\n",
    "\n",
    "Supongamos que existe una [estadística suficiente](https://en.wikipedia.org/wiki/Sufficient_statistic) $S(\\boldsymbol{\\mathcal{y}})$ para el parámetro $\\boldsymbol{\\theta}$. Entonces el teorema de factorización de Fisher–Neyman permite escribir\n",
    "\n",
    "$$\n",
    "\\begin{align*}\n",
    "f(\\mathbf{y}|\\boldsymbol{\\theta})= h(\\mathbf{y})g(S(\\mathbf{y})|\\boldsymbol{\\theta}), \n",
    "\\end{align*}\n",
    "$$\n",
    "\n",
    "en donde $h(\\mathbf{y})$ es una función que depende únicamente de los datos y $g(S(\\mathbf{y})|\\boldsymbol{\\theta})$ es una función que depende únicamente de  la estadística suficiente y del parámetro. Entonces se tiene que\n",
    "\n",
    "$$\n",
    "\\begin{align*}\n",
    "p(\\boldsymbol{\\theta}|\\mathbf{y}) &=\\frac{f(\\mathbf{y}|\\boldsymbol{\\theta})p(\\boldsymbol{\\theta})}{\\int f(\\mathbf{y}|\\boldsymbol{\\theta})p(\\boldsymbol{\\theta})d\\boldsymbol{\\theta}}\\\\\n",
    "&=\\frac{h(\\mathbf{y}) g(S(\\mathbf{y})|\\boldsymbol{\\theta})p(\\boldsymbol{\\theta})}{\\int h(\\mathbf{y}) g(S(\\boldsymbol{\\mathcal{y}})|\\boldsymbol{\\theta})p(\\boldsymbol{\\theta})d\\boldsymbol{\\theta}}\\\\\n",
    "&= \\frac{g(\\mathbf{s}|\\boldsymbol{\\theta})p(\\boldsymbol{\\theta})}{m(\\mathbf{s})}= p(\\boldsymbol{\\theta}|\\mathbf{s})\n",
    "\\end{align*}\n",
    "$$\n",
    "\n",
    "###  Modelo Gaussiano-Gaussiano. Versión 1.\n",
    "\n",
    "Consideremos de nuevo el modelo Gassiano-Gaussiano.\n",
    "\n",
    "Como $S(\\mathbf{y}) = \\bar{\\mathbf{y}}$ es suficiente para $\\theta$, se tiene que $p(\\theta|\\mathbf{y})=p(\\theta|\\bar{\\mathbf{y}})$.\n",
    "\n",
    "\n",
    "\n",
    "Además sabemos que $f(\\bar{\\mathbf{y}}|\\theta)= N(\\mu,\\sigma^2/n)$. Entonces,\n",
    "\n",
    "$$\n",
    "\\begin{align*}\n",
    "p(\\theta \\mid \\bar{\\mathbf{y}})&=N\\left(\\theta \\mid \\frac{(\\sigma^2/n)\\mu + \\tau^2 \\bar{\\mathbf{y}}}{(\\sigma^2/n)+\\tau^2}, \\frac{(\\sigma^2/n)\\tau^2 }{(\\sigma^2/n)+\\tau^2}\\right)\\\\\n",
    "&= N\\left(\\theta \\mid \\frac{\\sigma^2\\mu + n\\tau^2 \\bar{y}}{\\sigma^2+n\\tau^2}, \\frac{\\sigma^2\\tau^2 }{\\sigma^2+n\\tau^2}\\right)\n",
    "\\end{align*}\n",
    "$$"
   ]
  },
  {
   "cell_type": "markdown",
   "metadata": {},
   "source": [
    "## Modelos Bayesianos Jerárquicos\n",
    "\n",
    "Los modelos considerados anteriormente tienen dos etapas, una para $ f(\\mathbf{y}|\\boldsymbol{\\theta})$, la probabilidad de los datos $y$ dados los parámetros $\\boldsymbol {\\theta} $ , y uno para $p(\\boldsymbol{\\theta} | \\boldsymbol {\\eta}) $, la distribución previa de los parámetros del modelo $ \\boldsymbol{\\theta}$ dado un vector de hiperparámetros $ \\boldsymbol {\\eta}$.\n",
    "\n",
    "\n",
    "\n",
    "Si no estamos seguros sobre el valor adecuado para el parámetro $\\boldsymbol{\\eta}$, es posible introducir una distribución previa de la segunda etapa, generalmente denominada hiper a priori, que se denota $ h(\\boldsymbol{\\eta}|\\boldsymbol{\\omega}_0)$. Esta estrategia define un modelo Bayesiano jeráquico de tres niveles que formalmente se escribe así:\n",
    "\n",
    "$$\n",
    "f(\\boldsymbol{\\theta}|\\mathbf{y}) \\propto f(y|\\boldsymbol{\\theta})p(\\boldsymbol{\\theta}|\\eta)p(\\eta|\\omega_0).\n",
    "$$\n",
    "\n",
    "En este caso, la distribución marginal de $y$ es dada por\n",
    "\n",
    "$$\n",
    "\\begin{equation}\n",
    "f(x|\\boldsymbol{\\mathbf{y}})=\\int \\int f(x|\\boldsymbol{\\theta}) p(\\boldsymbol{\\theta}|\\boldsymbol{\\mathbf{y}},\\boldsymbol{\\eta}) p(\\eta|\\omega_0) d\\boldsymbol{\\theta}d\\boldsymbol{\\eta}.\n",
    "\\end{equation}\n",
    "$$\n",
    "\n",
    "La distribución predictiva en este caso es dada por\n",
    "\n",
    "$$\n",
    "\\begin{equation}\n",
    "f(x|\\mathbf{y})=\\int \\int f(x|\\boldsymbol{\\theta})p(\\boldsymbol{\\theta}|\\mathbf{y},\\boldsymbol{\\eta}) p(\\eta|\\omega_0) d\\boldsymbol{\\theta}d\\boldsymbol{\\eta}.\n",
    "\\end{equation}\n",
    "$$\n",
    "\n",
    "Esta ecuación debe interpretarse de la siguiente manera. Para generar un nuevo valor $x$, dados los valores observados $\\mathbf{y}$  haga lo siguiente:\n",
    "\n",
    "1. Obtenga la posterior a partir de la muestra $\\mathbf{y}$:  $\\pi(\\theta) = p(\\theta|\\mathbf{y},\\boldsymbol{\\eta})$.\n",
    "2. Obtenga una muestra de $\\boldsymbol{\\eta}$ de la hiper a priori: $\\boldsymbol{\\eta} \\sim p(\\boldsymbol{\\eta}|\\omega_0)$.\n",
    "2. Obtenga una muestra de $\\boldsymbol{\\theta}$ de la posterior: $\\theta \\sim p(\\boldsymbol{\\eta}|y,\\boldsymbol{\\eta})$.\n",
    "3. Obtenga la muestra para  $x$ de la verosimilitud: $x \\sim f(x|\\theta)$."
   ]
  },
  {
   "cell_type": "code",
   "execution_count": null,
   "metadata": {},
   "outputs": [],
   "source": []
  }
 ],
 "metadata": {
  "kernelspec": {
   "display_name": "Python 3",
   "language": "python",
   "name": "python3"
  },
  "language_info": {
   "codemirror_mode": {
    "name": "ipython",
    "version": 3
   },
   "file_extension": ".py",
   "mimetype": "text/x-python",
   "name": "python",
   "nbconvert_exporter": "python",
   "pygments_lexer": "ipython3",
   "version": "3.7.7"
  }
 },
 "nbformat": 4,
 "nbformat_minor": 4
}
