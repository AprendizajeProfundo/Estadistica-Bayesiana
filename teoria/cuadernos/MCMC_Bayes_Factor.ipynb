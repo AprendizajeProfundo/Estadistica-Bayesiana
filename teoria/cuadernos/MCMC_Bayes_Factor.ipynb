{
 "cells": [
  {
   "cell_type": "markdown",
   "metadata": {},
   "source": [
    "# Cálculo el Factor de Bayes"
   ]
  },
  {
   "cell_type": "markdown",
   "metadata": {},
   "source": [
    "## Autores"
   ]
  },
  {
   "cell_type": "markdown",
   "metadata": {},
   "source": [
    "1. Alvaro Mauricio Montenegro Díaz, ammontenegrod@unal.edu.co"
   ]
  },
  {
   "cell_type": "markdown",
   "metadata": {},
   "source": [
    "# Referencias"
   ]
  },
  {
   "cell_type": "markdown",
   "metadata": {},
   "source": [
    "1.  Cong HAN and Bradley P CARLIN, *Markov Chain Monte Carlo Methods for Computing Bayes Factors: A Comparative Review*, Journal of the American Statistical Association, Vol. 96, No. 455 (Sep., 2001), pp. 1122-1132.\n",
    "\n",
    "2. Adrian Raftery, [Hypothesis Testing and Model Selection Via Posterior Simulation](https://www.stat.washington.edu/sites/default/files/Other%20Online/test-postsim.pdf), Research report, Washintong University, "
   ]
  },
  {
   "cell_type": "markdown",
   "metadata": {},
   "source": [
    "# Introducción"
   ]
  },
  {
   "cell_type": "markdown",
   "metadata": {},
   "source": [
    "Comenzamos con datos $\\mathbf{y}$, de los cuales se asume que son generados por uno de los dos modelos $M_0$ or $M_1$, de acuerdo con la densidad de probabilidad  $pr(\\mathbf{y} | M_0)$ or $pr(\\mathbf{y} | M_1)$.\n",
    "\n",
    "La cantidad $B_{10}$ es definda por \n",
    "\n",
    "$$\n",
    "\\begin{equation*}\n",
    "B_{10}= \\frac{Pr[\\mathbf{y}|M_1]}{Pr[\\mathbf{y}|M_0]}=\\frac{\\text{ odds posterior}}{\\text{odds a priori}},\n",
    "\\end{equation*}\n",
    "$$\n",
    "\n",
    "y es llamadas el  **factor de Bayes**. El factor de Bayes mide el peso de la evidencia en favor de $M_1$ en contra de  $M_0$.\n",
    " \n",
    "\n",
    "\n",
    "La intuición básica es que la información previa y posterior son combinado en una proporción que proporciona evidencia a favor de un modelo especificación versus otra.\n",
    "\n",
    "\n",
    "\n",
    "\n",
    "El uso de factores de Bayes es el método dominante de las pruebas de modelos Bayesianos, y son los análogos Bayesianos de las pruebas de razón de verosimilitud."
   ]
  },
  {
   "cell_type": "markdown",
   "metadata": {},
   "source": [
    "# Interpretación del Factor de Bayes. Regla de combate"
   ]
  },
  {
   "cell_type": "markdown",
   "metadata": {},
   "source": [
    "El factor de Bayes en favor del modelo $M_1$ en contra del modelo $M_0$ es dado por\n",
    "\n",
    "$$\n",
    "\\begin{equation*}\n",
    "B_{10} = \\frac{p(H_1|\\mathbf{y})/p(H_0|\\mathbf{y})}{p(H_1)/p(H_0)},\n",
    "\\end{equation*}\n",
    "$$\n",
    "y la respectiva probabilidad posterior del modelo  1 denotada $\\pi_1 = P(H_1|\\mathbf{y})$ es dada por\n",
    "\n",
    "$$\n",
    "\\pi_1=\\frac{p_1 B_{10}}{p_1 B_{10} + 1- P_1}\n",
    "$$\n",
    "\n",
    "Con esta configuración, si interpretamos el modelo 0 como el modelo nulo, se tiene que el factor de Bayes puede interpretarse de acuerdo con la siguiente regla práctica propuesta por los expertos. Véa las referencias de la lección arriba. \n",
    "\n",
    "\n",
    "\n",
    "<h4> <center><span class=\"header-section-number\"></span> Interpretación práctica del factor de Bayes </center></h4>\n",
    "\n",
    "|$B_{10}$|<div style=\"width:65px\">$2\\log B_{10}$ </div>|Evidencia en favor de $M_1$| \n",
    "|---|---|---|\n",
    "|<$\\hspace{1mm}1$ | <$\\hspace{1mm} 0$ |Negativa. Los datos soportan $M_0$|\n",
    "|1 to 3 | 0 to 2           |No importante. Apenas para mencionarlo|\n",
    "|2 to 12| 2 to 5 |Positiva|\n",
    "|12  to 150| 5 to 10|Fuerte|\n",
    "|>$\\hspace{1mm}$150| >$\\hspace{1mm}$ 10 |Muy fuerte|"
   ]
  },
  {
   "cell_type": "markdown",
   "metadata": {},
   "source": [
    "# Aproximación  normal de la distribución posterior"
   ]
  },
  {
   "cell_type": "markdown",
   "metadata": {},
   "source": [
    "## Aproximación de Laplace"
   ]
  },
  {
   "cell_type": "markdown",
   "metadata": {},
   "source": [
    "Comúnmente, la posterior se conoce hasta una constante proporcional, es decir, solamente $\\pi^*$ se conocido, en donde $\\pi^*(\\theta) = l(\\theta)p(\\theta) = k\\pi(\\theta)$ con $k= \\int \\pi^*(\\theta)d\\theta$.\n",
    "\n",
    "\n",
    "Entonces tenemos que\n",
    "\n",
    "$$\n",
    "\\begin{align*}\n",
    "\\pi^*(\\theta) &\\approx \\pi^*(m)  \\exp \\left\\{ \\frac{1}{2} (\\theta-m)' \\left[ -\\frac{\\partial^2 \\log \\pi^*(m)}{\\partial\\theta \\partial \\theta'}  \\right](\\theta-m) \\right\\}\\\\\n",
    "&= \\pi^*(m)  \\exp \\left\\{ \\frac{1}{2} (\\theta-m)' V^{-1}(\\theta-m), \\right\\}\n",
    "\\end{align*}\n",
    "$$\n",
    "\n",
    "por lo que\n",
    "\n",
    "$$\n",
    "k= \\pi^*(m)(2\\pi)^{d/2}|V|^{1/2},\n",
    "$$\n",
    "\n",
    "en donde\n",
    "\n",
    "$$\n",
    "V=  \\left[ -\\frac{\\partial^2 \\log \\pi(m)}{\\partial\\theta \\partial \\theta'}  \\right]^{-1}= \\left[ -\\frac{\\partial^2 \\log \\pi^*(m)}{\\partial\\theta \\partial \\theta'}  \\right]^{-1} \n",
    "$$\n",
    "\n",
    "Entonces, de manera  aproximada se tiene que, $\\theta \\sim N(\\widehat{\\theta}, I^{-1}(\\widehat{\\theta}))$, y $I(\\widehat{\\theta})$ puede ser la matriz de información de Fisher o la matriz de información observada."
   ]
  },
  {
   "cell_type": "markdown",
   "metadata": {},
   "source": [
    "## Estimación de la verosimiltud predictiva usando la aproximación normal"
   ]
  },
  {
   "cell_type": "markdown",
   "metadata": {},
   "source": [
    "La aproximación normal de la posterior lleva a la estimación\n",
    "\n",
    "\n",
    "$$\n",
    "\\begin{equation*}\n",
    "f(\\mathbf{y}) \\approx f(\\mathbf{y}|\\mathbf{m}) \\pi(\\mathbf{m})(2\\pi)^{d/2} |V|^{1/2},\n",
    "\\end{equation*}\n",
    "$$\n",
    "\n",
    "la cual se basa en la evaluación de la moda posterior  $\\mathbf{m}$.\n",
    "\n",
    "Una aproximación muestral (método MC)   para  $\\mathbf{m}$ y $V$ puede ser construida  a partir de la muestra Bayesiana $\\boldsymbol{\\theta}_1,\\ldots,\\boldsymbol{\\theta}_n$  obtienida de la distribución posterior\n",
    "\n",
    "\n",
    "La moda $\\mathbf{m}$  puede ser estimada a partir de la moda de la muetra Bayesiana. Es decir,\n",
    " $\\hat{\\mathbf{m}}$ se estima como el valor para el cual la posterior en la muestra alcanza el valor más grande. Así se tiene que\n",
    " \n",
    "$$\n",
    "\\begin{equation*}\n",
    "\\hat{\\mathbf{m}} = \\max_j\\{ \\pi(\\boldsymbol{\\theta_j}) \\}\n",
    "\\end{equation*}\n",
    "$$\n",
    "\n",
    "Similarmente se tiene que\n",
    "\n",
    "$$\n",
    "\\begin{equation*}\n",
    "\\widehat{V} = \\tfrac{1}{n} \\sum_{j=1}^n (\\boldsymbol{\\theta}_j - \\bar{\\boldsymbol{\\theta}})(\\boldsymbol{\\theta}_j - \\bar{\\boldsymbol{\\theta}})^t, \\text{ where } \\bar{\\boldsymbol{\\theta}} = \\sum_{j=1}^n \\boldsymbol{\\theta}_j.\n",
    "\\end{equation*}\n",
    "$$"
   ]
  },
  {
   "cell_type": "markdown",
   "metadata": {},
   "source": [
    "# El factor de Bayes a partir de la estimación de la densidad marginal de las observaciones"
   ]
  },
  {
   "cell_type": "markdown",
   "metadata": {},
   "source": [
    "## El Factor de Bayes en el caso de muestras grandes de observaciones"
   ]
  },
  {
   "cell_type": "markdown",
   "metadata": {},
   "source": [
    "Si $n$  es grande y las observaciones son independientes, por lo general, la densidad posterior $ l_n (\\theta) + \\pi (\\theta) $ tiene un pico agudo en la vecindad de la moda posterior $ \\widetilde {\\theta} $. Por lo tanto, se podría utilizar la aproximación de Laplace."
   ]
  },
  {
   "cell_type": "code",
   "execution_count": 1,
   "metadata": {
    "jupyter": {
     "source_hidden": true
    }
   },
   "outputs": [
    {
     "data": {
      "image/png": "[encoded data removed]",
      "text/plain": [
       "<IPython.core.display.Image object>"
      ]
     },
     "execution_count": 1,
     "metadata": {},
     "output_type": "execute_result"
    }
   ],
   "source": [
    "from IPython.display import Image\n",
    "Image(filename=\"D:/home/Bayesian_Course/images/PosteriorMode.png\")"
   ]
  },
  {
   "cell_type": "markdown",
   "metadata": {},
   "source": [
    "Sea $d$ la dimensión del vector $\\boldsymbol{\\theta}$. Supongamos quie la posterior es unimodal. La expansión de Taylor de segundo orden del logaritmo de la posterior alrededor  de la única moda  $\\widetilde{\\boldsymbol{\\theta}}$ es dada por\n",
    "\n",
    "$$\n",
    "\\begin{equation*}\n",
    "\\log l_n(\\boldsymbol{\\theta}) + \\log\\pi(\\boldsymbol{\\theta}) \\approx  \\log l_n(\\widetilde{\\boldsymbol{\\theta}}) + \\log\\pi(\\widetilde{\\boldsymbol{\\theta}}) + ( \\boldsymbol{\\theta} -\\widetilde{\\boldsymbol{\\theta}} )^t\\nabla^2(\\log l_n(\\widetilde{\\boldsymbol{\\theta}}) + \\log\\pi(\\widetilde{\\boldsymbol{\\theta}}))( \\boldsymbol{\\theta} -\\widetilde{\\boldsymbol{\\theta}} ),\n",
    "\\end{equation*}\n",
    "$$\n",
    "\n",
    "en donde \n",
    "\n",
    "$$\n",
    "\\nabla^2(\\log l_n(\\widetilde{\\boldsymbol{\\theta}}) + \\log\\pi(\\widetilde{\\boldsymbol{\\theta}}))\n",
    "$$\n",
    "\n",
    "\n",
    "es la matriz Hessiana de segundas derivadas, evaluada en  $\\widetilde{\\boldsymbol{\\theta}}$. Sea\n",
    "\n",
    "$$\n",
    "\\widetilde{\\boldsymbol{\\Sigma}} = -\\left[\\nabla^2(\\log l_n(\\widetilde{\\boldsymbol{\\theta}}) + \\log\\pi(\\widetilde{\\boldsymbol{\\theta}}))\\right]^{-1}.\n",
    "$$ \n",
    "\n",
    "\n",
    "La aproximación de  Laplace en este caso es dada por \n",
    "\n",
    "$$\n",
    "\\begin{equation*}\n",
    "f(\\mathbf{y}) = \\int f(\\mathbf{y}|\\boldsymbol{\\theta})\\pi(\\boldsymbol{\\theta})d\\boldsymbol{\\theta} \\approx (2\\pi)^{d/2} |\\widetilde{\\boldsymbol{\\Sigma}}|^{1/2} f(\\mathbf{y}|\\widetilde{\\boldsymbol{\\theta}})\\pi(\\widetilde{\\boldsymbol{\\theta}})= \\tilde{f}(\\mathbf{y}).\n",
    "\\end{equation*}\n",
    "$$\n",
    "\n",
    "Bajo ciertas condiciones de regularidad se tiene que  $f(\\mathbf{y}) =\\tilde{f}(\\mathbf{y})+ O(n^{-1})$. Véa por ejemplo Kass, Tierney, Kadane, 1990."
   ]
  },
  {
   "cell_type": "markdown",
   "metadata": {},
   "source": [
    "## Aplicación al factor de Bayes"
   ]
  },
  {
   "cell_type": "markdown",
   "metadata": {},
   "source": [
    "\n",
    "Supongamos que tenemos dos modelos $ M_0 $ y $ M_1 $ para comparar. Sea $ \\boldsymbol {\\pi} _0 $ el parámetro para el modelo $ M_0 $ y definamos $ \\widetilde {\\boldsymbol {\\theta} _0} $, $ \\widetilde {\\boldsymbol{\\Sigma} _0} $ y $ d_0 $  como la moda posterior correspondiente, la matriz de Hessiana evaluada en la moda posterior  y la dimensión del vector $ \\boldsymbol{\\theta}_0 $ respectivamente. Se hacen definiciones similares para el modelo 1.\n",
    "\n",
    "\n",
    "\n",
    "\n",
    "Por lo tanto, tenemos que la aproximación de Laplace del logaritmo del factor de Bayes $ B_{10} $ a favor del modelo 1 viene dada por\n",
    "\n",
    "$$\n",
    "\\begin{align*}\n",
    "2 \\log B_{10} =  &2\\log f(\\mathbf{y}|M_1) - 2 \\log f(\\mathbf{y}|M_2)\\\\\n",
    "= &[\\log(\\tilde{\\boldsymbol{\\Sigma}_1 }) - \\log(\\tilde{\\boldsymbol{\\Sigma}_0})] + (d_1-d_0)\\log(2\\pi) \\\\\n",
    "& + 2\\left[\\sum_i \\log f(y_i| \\tilde{\\boldsymbol{\\theta}_1}) - \\sum_i \\log f(y_i| \\tilde{\\boldsymbol{\\theta}_0})\\right]\n",
    "+ 2(\\log \\pi(\\tilde{\\boldsymbol{\\theta}_1}) - \\log \\pi(\\tilde{\\boldsymbol{\\theta}_0}))\n",
    "\\end{align*}\n",
    "$$\n",
    "\n",
    "\n",
    "En modelos anidados $\\boldsymbol{\\theta}_0$ es un subconjunto de $\\boldsymbol{\\theta}_1$  y $(d_1-d_0)$ es la diferencia de los tamaños de los respectivos vectores de parámetros."
   ]
  },
  {
   "cell_type": "markdown",
   "metadata": {},
   "source": [
    "# Aproximaciones de Monte Carlo de la probabilidad predictiva"
   ]
  },
  {
   "cell_type": "markdown",
   "metadata": {},
   "source": [
    "## Estimador ingenuo (naive estimator)"
   ]
  },
  {
   "cell_type": "markdown",
   "metadata": {},
   "source": [
    "$\\leadsto$ Esta sección está basada en el libro de Gammerman, capítulo 7.\n",
    "\n",
    "\n",
    "Para cualquier modelo Bayesiano $M$ la densidad predictiva es dada por\n",
    "\n",
    "$$\n",
    "\\begin{equation*}\n",
    "f(y|M) = \\int f(y|\\theta,M)p(\\theta|M)d\\theta = E[f(y|\\theta)].\n",
    "\\end{equation*}\t\n",
    "$$\n",
    "\n",
    "Si la a priori coincide aproximadamente con la verosimilitud, el siguiente estimador funciona aceptablemente  bien. \n",
    "\n",
    "\n",
    "$$\n",
    "\\begin{equation*}\n",
    "\\widehat{f}_1(y) = \\frac{1}{N}\\sum_{j=1}^{N} f(y|\\theta_j),\n",
    "\\end{equation*}\n",
    "$$\n",
    "\n",
    "en donde  $\\theta_1,\\ldots,\\theta_n $ es una muestra de la apriori $p(\\theta|M)$."
   ]
  },
  {
   "cell_type": "markdown",
   "metadata": {},
   "source": [
    "# Densidad de importancia"
   ]
  },
  {
   "cell_type": "markdown",
   "metadata": {},
   "source": [
    "\n",
    "Si la apriori no es similar a la verosimilitud, una mejor opción es usar una densidad de importancia para aumentar la muestra en regiones donde el integral es grande. Sea $ g (\\theta) = kg^*(\\theta) $ una densidad de importancia no normalizada. Así\n",
    "\n",
    "$$\n",
    "\\begin{equation*}\n",
    "\\widehat{f}_2(y) = \\frac{1}{N}\\sum_{j=1}^{N} \\frac{f(y|\\theta_j)p(\\theta_j)}{g(\\theta_j)},\n",
    "\\end{equation*}\n",
    "$$\n",
    "\n",
    "en donde $\\theta_1,\\ldots,\\theta_n $ es una muestra de la posterior $g(\\theta)$."
   ]
  },
  {
   "cell_type": "markdown",
   "metadata": {},
   "source": [
    "## Densidad de importancia con $k$ deconocido"
   ]
  },
  {
   "cell_type": "markdown",
   "metadata": {},
   "source": [
    "Cuando la constrante de normalización se deconoce  se puede tener en cuenta que\n",
    "\n",
    "$$\n",
    "\\begin{equation*}\n",
    "k = \\int k p(\\theta)d\\theta = \\int \\frac{p(\\theta)}{g^*(\\theta)}g(\\theta)d\\theta.\n",
    "\\end{equation*}\n",
    "$$\n",
    "\n",
    "En consecuencia,\n",
    "\n",
    "$$\n",
    "\\begin{equation*}\n",
    "\\widehat{k} = \\frac{1}{n}\\sum_{j=1}^{n} p(\\theta_j)/g^*(\\theta_j).\n",
    "\\end{equation*}\n",
    "$$\n",
    "\n",
    "Reemplazando esta aproximación en $\\widehat{f}_2$ se obtiene\n",
    "\n",
    "$$\n",
    "\\begin{equation*}\n",
    "\\widehat{f}_3(y) = \\frac{ \\sum_{j=1}^{n}f(y|\\theta_j)p(\\theta_j)/g^*(\\theta_j)}{\\sum_{j=1}^{n} p(\\theta_j)/g^*(\\theta_j)}.\n",
    "\\end{equation*}\t\n",
    "$$"
   ]
  },
  {
   "cell_type": "markdown",
   "metadata": {},
   "source": [
    "# Estimador media armónica de la verosimilitud"
   ]
  },
  {
   "cell_type": "markdown",
   "metadata": {},
   "source": [
    "En este caso se utiliza la posterior como densidad de importancia, con lo que se tiene que $g(\\theta)= \\pi(\\theta|y)$. \n",
    "\n",
    "Debido a que después de un procedimiento MCMC se tiene una muestra disponible de $\\pi(\\theta|y) = k f(y|\\theta)p(\\theta)$, se pueden usar estos valores en $\\widehat{f}_3$ with $g^*(\\theta)= f(y|\\theta)p(\\theta)$ para obtener\n",
    "\n",
    "$$\n",
    "\\begin{equation*}\n",
    "\\widehat{f}_4(y) = \\left[\\frac{1}{N}\\sum_{j=1}^{N} \\frac{1}{f(y|\\theta_j)}\\right]^{-1}.\n",
    "\\end{equation*}\n",
    "$$\n",
    "\n",
    "\n",
    "Este estimador es inestable si valores muy bajos de $f(y|\\theta_j)$ son posibles."
   ]
  },
  {
   "cell_type": "markdown",
   "metadata": {},
   "source": [
    "# Combinación de estimadores"
   ]
  },
  {
   "cell_type": "markdown",
   "metadata": {},
   "source": [
    "Consideremos la densidad de importancia $g(\\theta)= \\delta p(\\theta) + (1-\\delta)\\pi(\\theta|y)$, en doende se asume que $0<\\delta<1$. Este estimador es un compromiso entre $\\widehat{f}_1$ y $\\widehat{f}_4$. \n",
    "\n",
    "\n",
    "Supongamos que tenemos una muestra de  $g(\\theta)$. El problema es que $f(y|\\theta)$ se requiere para la evaluacion de  $\\pi(\\theta|y)$. \n",
    "\n",
    "Entonces el siguiente esquema iterativo de estimación es sugerido:\n",
    "\n",
    "\n",
    "$$\n",
    "\\begin{equation*}\n",
    "\\widehat{f}_5^{(t)}(y) = \\frac{\\sum_{j=1}^{n}f(y|\\theta_j)\\{\\delta\\hat{f}_5^{(t-1)} (y) + (1-\\delta)f(y|\\theta_j)\\}^{-1}} {\\sum_{j=1}^{n}\\{\\delta\\hat{f}_5^{(t-1)} (y) + (1-\\delta)f(y|\\theta_j)\\}^{-1}}\n",
    "\\end{equation*}.\n",
    "$$"
   ]
  },
  {
   "cell_type": "code",
   "execution_count": null,
   "metadata": {},
   "outputs": [],
   "source": []
  }
 ],
 "metadata": {
  "kernelspec": {
   "display_name": "Python 3",
   "language": "python",
   "name": "python3"
  },
  "language_info": {
   "codemirror_mode": {
    "name": "ipython",
    "version": 3
   },
   "file_extension": ".py",
   "mimetype": "text/x-python",
   "name": "python",
   "nbconvert_exporter": "python",
   "pygments_lexer": "ipython3",
   "version": "3.7.7"
  }
 },
 "nbformat": 4,
 "nbformat_minor": 4
}
