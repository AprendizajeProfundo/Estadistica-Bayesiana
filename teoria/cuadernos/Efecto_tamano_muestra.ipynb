{
 "cells": [
  {
   "cell_type": "markdown",
   "metadata": {},
   "source": [
    "<h1 align='center'> Curso de Estadística Bayesiana<br> El efecto del tamaño de muestra</h1> \n",
    "\n",
    "<h3>Autor</h3>\n",
    "\n",
    "1. Alvaro Mauricio Montenegro Díaz, ammontenegrod@unal.edu.co\n",
    "2. Daniel Mauricio Montenegro Reyes, dextronomo@gmail.com \n",
    "\n",
    "<h3>Fork</h3>\n",
    "\n",
    "<h3>Referencias</h3>\n",
    "\n",
    "\n",
    "En esta lección vermos como la distribución posterior se transforma en la medida en que el número de observaciones (tamaño de la muestra observada) crece.\n",
    "\n",
    "En nuestro primer ejemplo usaremos el mismo problema de la clase anterior  pero introducimos  un nuevo modelo de observaciones: inverso binomial o binomial negativo (NBinomial). Adicionalmente se propone un nuevo experimento, en el cual parece más adecuado utilizar un modelo Poisson para la muestra observada."
   ]
  },
  {
   "cell_type": "markdown",
   "metadata": {},
   "source": [
    "<h2>1. Modelo Binomial Negativo</h2>\n",
    "\n",
    "En el mismo problema de las lecciones 1 y 2, vamo a modificar el experimento. Ahora, vamos a realizar de nuevo experimentos de Bernoulli independientes, hasta obtener $w$ resultados negativos (agua). Lo que contabilizamos ahora es el número de éxitos $n$, obtenidos hasta conseguir exáctamente $w$ fallos (agua). \n",
    "\n",
    "$\\leadsto$ Note que hemos invertido la codificación de éxito. Ahora consideramos fracaso, si se obtien agua. Es solamente nomenclatura, para usar la notación más estandarizada.\n",
    "\n",
    "En esta caso la probabilidad de obtener exáctamente $n$ éxitos (tierra) hasta obtener $w$ fallas (agua) es dada por\n",
    "\n",
    "$${\\displaystyle P(n| \\mu, w)\\equiv {\\binom {n+w-1}{w}}(1-\\mu)^{w}\\mu^{n}} = \\text{NBinomial}(n;w,\\mu)$$"
   ]
  },
  {
   "cell_type": "markdown",
   "metadata": {},
   "source": [
    "<h2> 2. Simulación del experimento</h2>\n",
    "\n",
    "Vamos a realizar una simulación del experimento. Supondremos que el parámetro investigado, proviene de la distribución $\\text{Beta}(7.5,5.2)$, en concordancia con el resultado del experimento anterior."
   ]
  },
  {
   "cell_type": "code",
   "execution_count": 2,
   "metadata": {},
   "outputs": [
    {
     "name": "stdout",
     "output_type": "stream",
     "text": [
      "[0.68252605]\n"
     ]
    }
   ],
   "source": [
    "import matplotlib.pyplot as plt\n",
    "import numpy as np\n",
    "from scipy import stats\n",
    "from scipy.optimize import minimize_scalar as minimize\n",
    "\n",
    "# First we change the Rando State, so the experiment is reproducible\n",
    "L = 5000\n",
    "np.random.seed(L)\n",
    "\n",
    "# hiperparameters to generate mu\n",
    "alpha_0 = 7.5\n",
    "beta_0  = 5.2\n",
    "\n",
    "mu = stats.beta(alpha_0,beta_0).rvs(1)\n",
    "print(mu) #[0.68252605]"
   ]
  },
  {
   "cell_type": "code",
   "execution_count": 3,
   "metadata": {},
   "outputs": [
    {
     "name": "stdout",
     "output_type": "stream",
     "text": [
      "[  3   6   5  25  68 232]\n"
     ]
    }
   ],
   "source": [
    "# Define number of failures for the samples\n",
    "w = np.array([6, 10, 20, 50, 100, 500])\n",
    "# Obtain the samples' data\n",
    "n = np.array(stats.nbinom.rvs(w,mu,1))\n",
    "print(n)"
   ]
  },
  {
   "cell_type": "markdown",
   "metadata": {},
   "source": [
    "<h2> 3. Selección de la a priori</h2>\n",
    "\n",
    "En este caso  vamos a seleccionar la distribución a priori   $p(\\mu)=\\text{Beta}(\\mu;1.2,1.2)$, que es muy poco informativa y también conjuga con el modelo NBinomial, es decir, la a posterior resultante es \n",
    "\n",
    "$$p(\\mu|w)= \\text{Beta}(\\mu; \\alpha + w, \\beta + n)$$\n",
    "\n",
    "La figura 3.1 muestra las distribuciones posteriores de cada experimento"
   ]
  },
  {
   "cell_type": "code",
   "execution_count": null,
   "metadata": {},
   "outputs": [],
   "source": [
    "alpha = 1.2\n",
    "beta = 1.2\n",
    "alpha_params = alpha + w\n",
    "beta_params  = beta + n\n",
    "\n",
    "idx = np.arange(6)\n",
    "\n",
    "row = np.array([0,0,0,1,1,1])\n",
    "col = np.array([0,1,2,0,1,2])\n",
    "x = np.linspace(0,1,100)\n",
    "\n",
    "fig, ax = plt.subplots(3, 2,sharex = True, sharey = True, figsize=(10,10))\n",
    "for i in idx:\n",
    "    alpha = alpha_params[i]\n",
    "    beta  = beta_params[i]\n",
    "    y = stats.beta(alpha,beta).pdf(x)\n",
    "    ax[col[i],row[i]].set_ylim(0,22)\n",
    "    ax[col[i],row[i]].plot(x,y)\n",
    "    ax[col[i],row[i]].plot(0, 0, label=\"$\\\\alpha$ = {:3.2f}\\n$\\\\beta$ = {:3.2f}\\n w = {:3n}\\n $n = {:3n}$\".format(alpha, beta,w[i],n[i]), alpha=0)\n",
    "    ax[col[i],row[i]].legend(fontsize=12)\n",
    "ax[2,0].set_xlabel('$\\\\mu$', fontsize=14)\n",
    "ax[1,0].set_ylabel('$p(\\\\mu)$', fontsize=14)\n",
    "fig.suptitle('Gráficos de la función de densidad de la distribución Posterior',fontsize=16)\n",
    "plt.show()\n",
    "    "
   ]
  },
  {
   "cell_type": "markdown",
   "metadata": {},
   "source": [
    "<h2> 4. Estimaciones Bayesianas puntuales </h2>\n"
   ]
  },
  {
   "cell_type": "code",
   "execution_count": 12,
   "metadata": {},
   "outputs": [
    {
     "data": {
      "text/plain": [
       "array([0.63951971, 0.61271501, 0.7804501 , 0.66289638, 0.59426491,\n",
       "       0.68262759])"
      ]
     },
     "execution_count": 12,
     "metadata": {},
     "output_type": "execute_result"
    }
   ],
   "source": [
    "# posterior median\n",
    "MEAP = stats.beta.median(alpha_params, beta_params, loc=0, scale=1)\n",
    "MEAP"
   ]
  },
  {
   "cell_type": "code",
   "execution_count": 13,
   "metadata": {},
   "outputs": [
    {
     "data": {
      "text/plain": [
       "array([0.63157895, 0.60869565, 0.77372263, 0.66149871, 0.59389671,\n",
       "       0.68246187])"
      ]
     },
     "execution_count": 13,
     "metadata": {},
     "output_type": "execute_result"
    }
   ],
   "source": [
    "# posterior mean\n",
    "EAP = stats.beta.mean(alpha_params, beta_params)\n",
    "EAP"
   ]
  },
  {
   "cell_type": "code",
   "execution_count": 14,
   "metadata": {},
   "outputs": [
    {
     "data": {
      "text/plain": [
       "array([0.60303314, 0.9067233 ])"
      ]
     },
     "execution_count": 14,
     "metadata": {},
     "output_type": "execute_result"
    }
   ],
   "source": [
    "# 95% intervalos de credibilidad\n",
    "i = 2\n",
    "i_cred_95 = stats.beta(alpha_params[i],beta_params[i]).ppf((0.025,0.975))\n",
    "i_cred_95"
   ]
  },
  {
   "cell_type": "code",
   "execution_count": null,
   "metadata": {},
   "outputs": [],
   "source": []
  },
  {
   "cell_type": "code",
   "execution_count": 6,
   "metadata": {},
   "outputs": [
    {
     "data": {
      "text/plain": [
       "array([0.64835813, 0.71562432])"
      ]
     },
     "execution_count": 6,
     "metadata": {},
     "output_type": "execute_result"
    }
   ],
   "source": [
    "i = 5\n",
    "i_cred_95 = stats.beta(alpha_params[i],beta_params[i]).ppf((0.025,0.975))\n",
    "i_cred_95"
   ]
  },
  {
   "cell_type": "markdown",
   "metadata": {},
   "source": [
    "### Resumen de las estimaciones Bayesianas\n",
    "\n",
    "| |Tabla 3.1 |Estimaciones | Bayesianas   | Puntuales| | | \n",
    "|------|------|------|------|-------|-----|------|\n",
    "|w|6 |10 |20 |50 |100| 500|\n",
    "|MEAP|0.63951971| 0.61271501| 0.7804501| 0.66289638| 0.59426491| 0.68262759|\n",
    "|EAP|0.63157895| 0.60869565| 0.77372263| 0.66149871| 0.59389671| 0.68246187|\n",
    "\n",
    "\n",
    "\n",
    "\n",
    "| |Tabla 3.2 |Estimaciones | Bayesianas   | 95% intervalo| de |credibildad| \n",
    "|------|------|------|------|-------|-----|------|\n",
    "|w|6 |10 |20 |50 |100| 500|\n",
    "|Inf|0.34765924 |0.38329073 |0.60303314 |0.55314697 |0.519428228| 0.64835813|\n",
    "|Sup|0.87195896 |0.8117276| 0.811727683 |0.81172768 |0.66627702 |0.71562432|"
   ]
  },
  {
   "cell_type": "markdown",
   "metadata": {},
   "source": [
    "<h2> 5. Tarea </h2>\n",
    "\n",
    "Escriba el código para calcular la moda posterior en cada caso. Revise la lección [Computación Bayesiana Básica](./Computacion_Bayesian_Basica.ipynb), en el caso Binomial-Beta."
   ]
  }
 ],
 "metadata": {
  "kernelspec": {
   "display_name": "Python 3",
   "language": "python",
   "name": "python3"
  },
  "language_info": {
   "codemirror_mode": {
    "name": "ipython",
    "version": 3
   },
   "file_extension": ".py",
   "mimetype": "text/x-python",
   "name": "python",
   "nbconvert_exporter": "python",
   "pygments_lexer": "ipython3",
   "version": "3.7.6"
  }
 },
 "nbformat": 4,
 "nbformat_minor": 4
}
